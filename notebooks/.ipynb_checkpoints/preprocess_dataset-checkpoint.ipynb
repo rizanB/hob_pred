{
 "cells": [
  {
   "cell_type": "markdown",
   "id": "fe3df511-5801-413a-89e5-e4d8b3f49506",
   "metadata": {},
   "source": [
    "## preprocessing dataset"
   ]
  },
  {
   "cell_type": "code",
   "execution_count": 35,
   "id": "3bc18b2e-7fa8-4eec-bac1-9cb2750229a1",
   "metadata": {},
   "outputs": [
    {
     "name": "stdout",
     "output_type": "stream",
     "text": [
      "Requirement already satisfied: xgboost in /home/rizanb/Documents/hob_pred/env/lib/python3.12/site-packages (3.0.1)\n",
      "Requirement already satisfied: numpy in /home/rizanb/Documents/hob_pred/env/lib/python3.12/site-packages (from xgboost) (2.2.5)\n",
      "Requirement already satisfied: nvidia-nccl-cu12 in /home/rizanb/Documents/hob_pred/env/lib/python3.12/site-packages (from xgboost) (2.26.5)\n",
      "Requirement already satisfied: scipy in /home/rizanb/Documents/hob_pred/env/lib/python3.12/site-packages (from xgboost) (1.15.3)\n",
      "Note: you may need to restart the kernel to use updated packages.\n"
     ]
    }
   ],
   "source": [
    "import numpy as np\n",
    "import matplotlib.pyplot as plt\n",
    "import pandas as pd\n",
    "from sklearn.model_selection import train_test_split\n",
    "from sklearn.preprocessing import StandardScaler\n",
    "from sklearn.linear_model import LogisticRegression\n",
    "from sklearn.ensemble import RandomForestClassifier\n",
    "from sklearn.svm import SVC\n",
    "from sklearn.neighbors import KNeighborsClassifier\n",
    "from sklearn.ensemble import GradientBoostingClassifier\n",
    "%pip install xgboost\n",
    "from xgboost import XGBClassifier\n",
    "from sklearn.metrics import accuracy_score, classification_report\n",
    "import joblib"
   ]
  },
  {
   "cell_type": "code",
   "execution_count": 36,
   "id": "42cc8ecf-d498-4589-a8f4-636c5e56c6bc",
   "metadata": {},
   "outputs": [
    {
     "data": {
      "text/html": [
       "<div>\n",
       "<style scoped>\n",
       "    .dataframe tbody tr th:only-of-type {\n",
       "        vertical-align: middle;\n",
       "    }\n",
       "\n",
       "    .dataframe tbody tr th {\n",
       "        vertical-align: top;\n",
       "    }\n",
       "\n",
       "    .dataframe thead th {\n",
       "        text-align: right;\n",
       "    }\n",
       "</style>\n",
       "<table border=\"1\" class=\"dataframe\">\n",
       "  <thead>\n",
       "    <tr style=\"text-align: right;\">\n",
       "      <th></th>\n",
       "      <th>drug_name</th>\n",
       "      <th>smiles</th>\n",
       "      <th>hacc</th>\n",
       "      <th>hdon</th>\n",
       "      <th>mw</th>\n",
       "      <th>logp</th>\n",
       "      <th>mr</th>\n",
       "      <th>tpsa</th>\n",
       "      <th>nrot</th>\n",
       "      <th>type</th>\n",
       "      <th>hob_category</th>\n",
       "    </tr>\n",
       "  </thead>\n",
       "  <tbody>\n",
       "    <tr>\n",
       "      <th>0</th>\n",
       "      <td>adrenaline</td>\n",
       "      <td>CNCC(C1=CC(=C(C=C1)O)O)O</td>\n",
       "      <td>4</td>\n",
       "      <td>4</td>\n",
       "      <td>183.207</td>\n",
       "      <td>0.35060</td>\n",
       "      <td>48.6581</td>\n",
       "      <td>72.72</td>\n",
       "      <td>3</td>\n",
       "      <td>B</td>\n",
       "      <td>1</td>\n",
       "    </tr>\n",
       "    <tr>\n",
       "      <th>1</th>\n",
       "      <td>alprenolol</td>\n",
       "      <td>CC(C)NCC(COC1=CC=CC=C1CC=C)O</td>\n",
       "      <td>3</td>\n",
       "      <td>2</td>\n",
       "      <td>249.354</td>\n",
       "      <td>2.15280</td>\n",
       "      <td>74.9835</td>\n",
       "      <td>41.49</td>\n",
       "      <td>8</td>\n",
       "      <td>B</td>\n",
       "      <td>1</td>\n",
       "    </tr>\n",
       "    <tr>\n",
       "      <th>2</th>\n",
       "      <td>clomethiazole</td>\n",
       "      <td>CC1=C(SC=N1)CCCl</td>\n",
       "      <td>2</td>\n",
       "      <td>0</td>\n",
       "      <td>161.657</td>\n",
       "      <td>2.23282</td>\n",
       "      <td>41.2750</td>\n",
       "      <td>12.89</td>\n",
       "      <td>2</td>\n",
       "      <td>N</td>\n",
       "      <td>1</td>\n",
       "    </tr>\n",
       "    <tr>\n",
       "      <th>3</th>\n",
       "      <td>coumarin</td>\n",
       "      <td>C1=CC=C2C(=C1)C=CC(=O)O2</td>\n",
       "      <td>2</td>\n",
       "      <td>0</td>\n",
       "      <td>146.145</td>\n",
       "      <td>1.79300</td>\n",
       "      <td>42.4840</td>\n",
       "      <td>30.21</td>\n",
       "      <td>0</td>\n",
       "      <td>N</td>\n",
       "      <td>1</td>\n",
       "    </tr>\n",
       "    <tr>\n",
       "      <th>4</th>\n",
       "      <td>dobutamine</td>\n",
       "      <td>CC(CCC1=CC=C(C=C1)O)NCCC2=CC(=C(C=C2)O)O</td>\n",
       "      <td>4</td>\n",
       "      <td>4</td>\n",
       "      <td>301.386</td>\n",
       "      <td>2.95680</td>\n",
       "      <td>87.3681</td>\n",
       "      <td>72.72</td>\n",
       "      <td>7</td>\n",
       "      <td>B</td>\n",
       "      <td>1</td>\n",
       "    </tr>\n",
       "  </tbody>\n",
       "</table>\n",
       "</div>"
      ],
      "text/plain": [
       "       drug_name                                    smiles  hacc  hdon  \\\n",
       "0     adrenaline                  CNCC(C1=CC(=C(C=C1)O)O)O     4     4   \n",
       "1     alprenolol              CC(C)NCC(COC1=CC=CC=C1CC=C)O     3     2   \n",
       "2  clomethiazole                          CC1=C(SC=N1)CCCl     2     0   \n",
       "3       coumarin                  C1=CC=C2C(=C1)C=CC(=O)O2     2     0   \n",
       "4     dobutamine  CC(CCC1=CC=C(C=C1)O)NCCC2=CC(=C(C=C2)O)O     4     4   \n",
       "\n",
       "        mw     logp       mr   tpsa  nrot  type   hob_category  \n",
       "0  183.207  0.35060  48.6581  72.72     3     B              1  \n",
       "1  249.354  2.15280  74.9835  41.49     8     B              1  \n",
       "2  161.657  2.23282  41.2750  12.89     2     N              1  \n",
       "3  146.145  1.79300  42.4840  30.21     0     N              1  \n",
       "4  301.386  2.95680  87.3681  72.72     7     B              1  "
      ]
     },
     "execution_count": 36,
     "metadata": {},
     "output_type": "execute_result"
    }
   ],
   "source": [
    "# also cleaned the dataset manually, some values were wrong\n",
    "import pandas as pd\n",
    "df = pd.read_csv(\"/home/rizanb/Documents/hob_pred/data/interim/drug_properties_hob.csv\")\n",
    "df.head()"
   ]
  },
  {
   "cell_type": "code",
   "execution_count": 37,
   "id": "e211ae1d-fac5-474e-8215-256070f36a87",
   "metadata": {},
   "outputs": [],
   "source": [
    "df.columns = df.columns.str.strip()"
   ]
  },
  {
   "cell_type": "code",
   "execution_count": 38,
   "id": "0b555264-8507-4eaf-8ac3-c56018a7c686",
   "metadata": {},
   "outputs": [
    {
     "data": {
      "text/plain": [
       "array(['B', 'N', 'A'], dtype=object)"
      ]
     },
     "execution_count": 38,
     "metadata": {},
     "output_type": "execute_result"
    }
   ],
   "source": [
    "df[\"type\"].unique()"
   ]
  },
  {
   "cell_type": "code",
   "execution_count": 39,
   "id": "d541e1f9-d955-4f27-81e1-816939827288",
   "metadata": {},
   "outputs": [
    {
     "data": {
      "text/plain": [
       "True"
      ]
     },
     "execution_count": 39,
     "metadata": {},
     "output_type": "execute_result"
    }
   ],
   "source": [
    "len(df[\"drug_name\"].unique()) == len(df[\"drug_name\"])"
   ]
  },
  {
   "cell_type": "code",
   "execution_count": 40,
   "id": "071a6f6a-27d2-4630-96c0-b51dafe1e0ec",
   "metadata": {},
   "outputs": [
    {
     "name": "stdout",
     "output_type": "stream",
     "text": [
      "int64 int64 float64 float64 float64 float64 int64\n"
     ]
    }
   ],
   "source": [
    "print(df[\"hacc\"].dtype, df[\"hdon\"].dtype, df[\"mw\"].dtype, df[\"logp\"].dtype, df[\"mr\"].dtype, df[\"tpsa\"].dtype, df[\"nrot\"].dtype )"
   ]
  },
  {
   "cell_type": "code",
   "execution_count": 41,
   "id": "623d72b8-3c49-4dc2-a493-ccfb2608abab",
   "metadata": {},
   "outputs": [
    {
     "data": {
      "text/plain": [
       "drug_name       0\n",
       "smiles          0\n",
       "hacc            0\n",
       "hdon            0\n",
       "mw              0\n",
       "logp            0\n",
       "mr              0\n",
       "tpsa            0\n",
       "nrot            0\n",
       "type            0\n",
       "hob_category    0\n",
       "dtype: int64"
      ]
     },
     "execution_count": 41,
     "metadata": {},
     "output_type": "execute_result"
    }
   ],
   "source": [
    "df.isna().sum()"
   ]
  },
  {
   "cell_type": "code",
   "execution_count": 42,
   "id": "d4b03424-d7e1-4fbf-b5d0-1f5a9c83ee84",
   "metadata": {},
   "outputs": [
    {
     "data": {
      "text/plain": [
       "drug_name       0\n",
       "smiles          0\n",
       "hacc            0\n",
       "hdon            0\n",
       "mw              0\n",
       "logp            0\n",
       "mr              0\n",
       "tpsa            0\n",
       "nrot            0\n",
       "type            0\n",
       "hob_category    0\n",
       "dtype: int64"
      ]
     },
     "execution_count": 42,
     "metadata": {},
     "output_type": "execute_result"
    }
   ],
   "source": [
    "df.isnull().sum()"
   ]
  },
  {
   "cell_type": "markdown",
   "id": "612cf645-9ad3-412d-a901-6120eed9eab5",
   "metadata": {},
   "source": [
    "## remove unnecessary features - drug name, smiles"
   ]
  },
  {
   "cell_type": "code",
   "execution_count": 43,
   "id": "be75f04d-26c8-4e84-9ac4-7ce3fecd10d2",
   "metadata": {},
   "outputs": [
    {
     "data": {
      "text/html": [
       "<div>\n",
       "<style scoped>\n",
       "    .dataframe tbody tr th:only-of-type {\n",
       "        vertical-align: middle;\n",
       "    }\n",
       "\n",
       "    .dataframe tbody tr th {\n",
       "        vertical-align: top;\n",
       "    }\n",
       "\n",
       "    .dataframe thead th {\n",
       "        text-align: right;\n",
       "    }\n",
       "</style>\n",
       "<table border=\"1\" class=\"dataframe\">\n",
       "  <thead>\n",
       "    <tr style=\"text-align: right;\">\n",
       "      <th></th>\n",
       "      <th>hacc</th>\n",
       "      <th>hdon</th>\n",
       "      <th>mw</th>\n",
       "      <th>logp</th>\n",
       "      <th>mr</th>\n",
       "      <th>tpsa</th>\n",
       "      <th>nrot</th>\n",
       "      <th>type</th>\n",
       "      <th>hob_category</th>\n",
       "    </tr>\n",
       "  </thead>\n",
       "  <tbody>\n",
       "    <tr>\n",
       "      <th>0</th>\n",
       "      <td>4</td>\n",
       "      <td>4</td>\n",
       "      <td>183.207</td>\n",
       "      <td>0.35060</td>\n",
       "      <td>48.6581</td>\n",
       "      <td>72.72</td>\n",
       "      <td>3</td>\n",
       "      <td>B</td>\n",
       "      <td>1</td>\n",
       "    </tr>\n",
       "    <tr>\n",
       "      <th>1</th>\n",
       "      <td>3</td>\n",
       "      <td>2</td>\n",
       "      <td>249.354</td>\n",
       "      <td>2.15280</td>\n",
       "      <td>74.9835</td>\n",
       "      <td>41.49</td>\n",
       "      <td>8</td>\n",
       "      <td>B</td>\n",
       "      <td>1</td>\n",
       "    </tr>\n",
       "    <tr>\n",
       "      <th>2</th>\n",
       "      <td>2</td>\n",
       "      <td>0</td>\n",
       "      <td>161.657</td>\n",
       "      <td>2.23282</td>\n",
       "      <td>41.2750</td>\n",
       "      <td>12.89</td>\n",
       "      <td>2</td>\n",
       "      <td>N</td>\n",
       "      <td>1</td>\n",
       "    </tr>\n",
       "    <tr>\n",
       "      <th>3</th>\n",
       "      <td>2</td>\n",
       "      <td>0</td>\n",
       "      <td>146.145</td>\n",
       "      <td>1.79300</td>\n",
       "      <td>42.4840</td>\n",
       "      <td>30.21</td>\n",
       "      <td>0</td>\n",
       "      <td>N</td>\n",
       "      <td>1</td>\n",
       "    </tr>\n",
       "    <tr>\n",
       "      <th>4</th>\n",
       "      <td>4</td>\n",
       "      <td>4</td>\n",
       "      <td>301.386</td>\n",
       "      <td>2.95680</td>\n",
       "      <td>87.3681</td>\n",
       "      <td>72.72</td>\n",
       "      <td>7</td>\n",
       "      <td>B</td>\n",
       "      <td>1</td>\n",
       "    </tr>\n",
       "  </tbody>\n",
       "</table>\n",
       "</div>"
      ],
      "text/plain": [
       "   hacc  hdon       mw     logp       mr   tpsa  nrot type  hob_category\n",
       "0     4     4  183.207  0.35060  48.6581  72.72     3    B             1\n",
       "1     3     2  249.354  2.15280  74.9835  41.49     8    B             1\n",
       "2     2     0  161.657  2.23282  41.2750  12.89     2    N             1\n",
       "3     2     0  146.145  1.79300  42.4840  30.21     0    N             1\n",
       "4     4     4  301.386  2.95680  87.3681  72.72     7    B             1"
      ]
     },
     "execution_count": 43,
     "metadata": {},
     "output_type": "execute_result"
    }
   ],
   "source": [
    "df =  df.drop(columns=[\"drug_name\",\"smiles\"],axis=1)\n",
    "df.head()"
   ]
  },
  {
   "cell_type": "markdown",
   "id": "4f3a5a85-7e93-4887-8a2f-16e9a19883f0",
   "metadata": {},
   "source": [
    "## one hot encoding for type (acid/base/neutral)"
   ]
  },
  {
   "cell_type": "code",
   "execution_count": 44,
   "id": "564f1b81-3501-452f-86d4-1513d5e725de",
   "metadata": {},
   "outputs": [],
   "source": [
    "df_enc = pd.get_dummies(df, columns=[\"type\"], dtype=int)"
   ]
  },
  {
   "cell_type": "code",
   "execution_count": 45,
   "id": "47d0a4c2-10fe-4869-a880-a7144c114ffb",
   "metadata": {},
   "outputs": [
    {
     "data": {
      "text/html": [
       "<div>\n",
       "<style scoped>\n",
       "    .dataframe tbody tr th:only-of-type {\n",
       "        vertical-align: middle;\n",
       "    }\n",
       "\n",
       "    .dataframe tbody tr th {\n",
       "        vertical-align: top;\n",
       "    }\n",
       "\n",
       "    .dataframe thead th {\n",
       "        text-align: right;\n",
       "    }\n",
       "</style>\n",
       "<table border=\"1\" class=\"dataframe\">\n",
       "  <thead>\n",
       "    <tr style=\"text-align: right;\">\n",
       "      <th></th>\n",
       "      <th>hacc</th>\n",
       "      <th>hdon</th>\n",
       "      <th>mw</th>\n",
       "      <th>logp</th>\n",
       "      <th>mr</th>\n",
       "      <th>tpsa</th>\n",
       "      <th>nrot</th>\n",
       "      <th>hob_category</th>\n",
       "      <th>type_A</th>\n",
       "      <th>type_B</th>\n",
       "      <th>type_N</th>\n",
       "    </tr>\n",
       "  </thead>\n",
       "  <tbody>\n",
       "    <tr>\n",
       "      <th>0</th>\n",
       "      <td>4</td>\n",
       "      <td>4</td>\n",
       "      <td>183.207</td>\n",
       "      <td>0.35060</td>\n",
       "      <td>48.6581</td>\n",
       "      <td>72.72</td>\n",
       "      <td>3</td>\n",
       "      <td>1</td>\n",
       "      <td>0</td>\n",
       "      <td>1</td>\n",
       "      <td>0</td>\n",
       "    </tr>\n",
       "    <tr>\n",
       "      <th>1</th>\n",
       "      <td>3</td>\n",
       "      <td>2</td>\n",
       "      <td>249.354</td>\n",
       "      <td>2.15280</td>\n",
       "      <td>74.9835</td>\n",
       "      <td>41.49</td>\n",
       "      <td>8</td>\n",
       "      <td>1</td>\n",
       "      <td>0</td>\n",
       "      <td>1</td>\n",
       "      <td>0</td>\n",
       "    </tr>\n",
       "    <tr>\n",
       "      <th>2</th>\n",
       "      <td>2</td>\n",
       "      <td>0</td>\n",
       "      <td>161.657</td>\n",
       "      <td>2.23282</td>\n",
       "      <td>41.2750</td>\n",
       "      <td>12.89</td>\n",
       "      <td>2</td>\n",
       "      <td>1</td>\n",
       "      <td>0</td>\n",
       "      <td>0</td>\n",
       "      <td>1</td>\n",
       "    </tr>\n",
       "    <tr>\n",
       "      <th>3</th>\n",
       "      <td>2</td>\n",
       "      <td>0</td>\n",
       "      <td>146.145</td>\n",
       "      <td>1.79300</td>\n",
       "      <td>42.4840</td>\n",
       "      <td>30.21</td>\n",
       "      <td>0</td>\n",
       "      <td>1</td>\n",
       "      <td>0</td>\n",
       "      <td>0</td>\n",
       "      <td>1</td>\n",
       "    </tr>\n",
       "    <tr>\n",
       "      <th>4</th>\n",
       "      <td>4</td>\n",
       "      <td>4</td>\n",
       "      <td>301.386</td>\n",
       "      <td>2.95680</td>\n",
       "      <td>87.3681</td>\n",
       "      <td>72.72</td>\n",
       "      <td>7</td>\n",
       "      <td>1</td>\n",
       "      <td>0</td>\n",
       "      <td>1</td>\n",
       "      <td>0</td>\n",
       "    </tr>\n",
       "  </tbody>\n",
       "</table>\n",
       "</div>"
      ],
      "text/plain": [
       "   hacc  hdon       mw     logp       mr   tpsa  nrot  hob_category  type_A  \\\n",
       "0     4     4  183.207  0.35060  48.6581  72.72     3             1       0   \n",
       "1     3     2  249.354  2.15280  74.9835  41.49     8             1       0   \n",
       "2     2     0  161.657  2.23282  41.2750  12.89     2             1       0   \n",
       "3     2     0  146.145  1.79300  42.4840  30.21     0             1       0   \n",
       "4     4     4  301.386  2.95680  87.3681  72.72     7             1       0   \n",
       "\n",
       "   type_B  type_N  \n",
       "0       1       0  \n",
       "1       1       0  \n",
       "2       0       1  \n",
       "3       0       1  \n",
       "4       1       0  "
      ]
     },
     "execution_count": 45,
     "metadata": {},
     "output_type": "execute_result"
    }
   ],
   "source": [
    "df_enc.head()"
   ]
  },
  {
   "cell_type": "markdown",
   "id": "ae097f5c-bd1d-473b-b6a7-d6775de1e386",
   "metadata": {},
   "source": [
    "## extract features and target"
   ]
  },
  {
   "cell_type": "code",
   "execution_count": 46,
   "id": "400dbbca-4149-48c3-bdc2-0af9ca499e36",
   "metadata": {},
   "outputs": [
    {
     "data": {
      "text/html": [
       "<div>\n",
       "<style scoped>\n",
       "    .dataframe tbody tr th:only-of-type {\n",
       "        vertical-align: middle;\n",
       "    }\n",
       "\n",
       "    .dataframe tbody tr th {\n",
       "        vertical-align: top;\n",
       "    }\n",
       "\n",
       "    .dataframe thead th {\n",
       "        text-align: right;\n",
       "    }\n",
       "</style>\n",
       "<table border=\"1\" class=\"dataframe\">\n",
       "  <thead>\n",
       "    <tr style=\"text-align: right;\">\n",
       "      <th></th>\n",
       "      <th>hacc</th>\n",
       "      <th>hdon</th>\n",
       "      <th>mw</th>\n",
       "      <th>logp</th>\n",
       "      <th>mr</th>\n",
       "      <th>tpsa</th>\n",
       "      <th>nrot</th>\n",
       "      <th>type_A</th>\n",
       "      <th>type_B</th>\n",
       "      <th>type_N</th>\n",
       "    </tr>\n",
       "  </thead>\n",
       "  <tbody>\n",
       "    <tr>\n",
       "      <th>0</th>\n",
       "      <td>4</td>\n",
       "      <td>4</td>\n",
       "      <td>183.207</td>\n",
       "      <td>0.35060</td>\n",
       "      <td>48.6581</td>\n",
       "      <td>72.72</td>\n",
       "      <td>3</td>\n",
       "      <td>0</td>\n",
       "      <td>1</td>\n",
       "      <td>0</td>\n",
       "    </tr>\n",
       "    <tr>\n",
       "      <th>1</th>\n",
       "      <td>3</td>\n",
       "      <td>2</td>\n",
       "      <td>249.354</td>\n",
       "      <td>2.15280</td>\n",
       "      <td>74.9835</td>\n",
       "      <td>41.49</td>\n",
       "      <td>8</td>\n",
       "      <td>0</td>\n",
       "      <td>1</td>\n",
       "      <td>0</td>\n",
       "    </tr>\n",
       "    <tr>\n",
       "      <th>2</th>\n",
       "      <td>2</td>\n",
       "      <td>0</td>\n",
       "      <td>161.657</td>\n",
       "      <td>2.23282</td>\n",
       "      <td>41.2750</td>\n",
       "      <td>12.89</td>\n",
       "      <td>2</td>\n",
       "      <td>0</td>\n",
       "      <td>0</td>\n",
       "      <td>1</td>\n",
       "    </tr>\n",
       "    <tr>\n",
       "      <th>3</th>\n",
       "      <td>2</td>\n",
       "      <td>0</td>\n",
       "      <td>146.145</td>\n",
       "      <td>1.79300</td>\n",
       "      <td>42.4840</td>\n",
       "      <td>30.21</td>\n",
       "      <td>0</td>\n",
       "      <td>0</td>\n",
       "      <td>0</td>\n",
       "      <td>1</td>\n",
       "    </tr>\n",
       "    <tr>\n",
       "      <th>4</th>\n",
       "      <td>4</td>\n",
       "      <td>4</td>\n",
       "      <td>301.386</td>\n",
       "      <td>2.95680</td>\n",
       "      <td>87.3681</td>\n",
       "      <td>72.72</td>\n",
       "      <td>7</td>\n",
       "      <td>0</td>\n",
       "      <td>1</td>\n",
       "      <td>0</td>\n",
       "    </tr>\n",
       "  </tbody>\n",
       "</table>\n",
       "</div>"
      ],
      "text/plain": [
       "   hacc  hdon       mw     logp       mr   tpsa  nrot  type_A  type_B  type_N\n",
       "0     4     4  183.207  0.35060  48.6581  72.72     3       0       1       0\n",
       "1     3     2  249.354  2.15280  74.9835  41.49     8       0       1       0\n",
       "2     2     0  161.657  2.23282  41.2750  12.89     2       0       0       1\n",
       "3     2     0  146.145  1.79300  42.4840  30.21     0       0       0       1\n",
       "4     4     4  301.386  2.95680  87.3681  72.72     7       0       1       0"
      ]
     },
     "execution_count": 46,
     "metadata": {},
     "output_type": "execute_result"
    }
   ],
   "source": [
    "X = df_enc.drop(columns=[\"hob_category\"])\n",
    "X.head()"
   ]
  },
  {
   "cell_type": "code",
   "execution_count": 47,
   "id": "71ca308f-a54a-407d-b3f5-57ae606b325c",
   "metadata": {},
   "outputs": [],
   "source": [
    "y = df_enc[\"hob_category\"]\n"
   ]
  },
  {
   "cell_type": "code",
   "execution_count": 48,
   "id": "d6d1303b-edf5-4c2d-8603-4cdde175eb75",
   "metadata": {},
   "outputs": [],
   "source": [
    "from sklearn.model_selection import train_test_split\n",
    "X_train, X_test, y_train, y_test = train_test_split(X, y, test_size=0.2, random_state=42)"
   ]
  },
  {
   "cell_type": "code",
   "execution_count": 49,
   "id": "029e461f-1ba5-42e9-a0ae-454dae6dba6f",
   "metadata": {},
   "outputs": [
    {
     "name": "stdout",
     "output_type": "stream",
     "text": [
      "(181, 10) (46, 10) (181,) (46,)\n"
     ]
    }
   ],
   "source": [
    "print(X_train.shape, X_test.shape, y_train.shape, y_test.shape)"
   ]
  },
  {
   "cell_type": "markdown",
   "id": "d8ddd7c3-973f-4b70-9a47-355b1f9084c0",
   "metadata": {},
   "source": [
    "## fit & transform scaler on training data, only transform on test data "
   ]
  },
  {
   "cell_type": "code",
   "execution_count": 50,
   "id": "4a17f149-5e44-4ad0-b122-6762ca208ede",
   "metadata": {},
   "outputs": [],
   "source": [
    "from sklearn.preprocessing import StandardScaler\n",
    "sc = StandardScaler()\n",
    "\n",
    "X_train_scaled = sc.fit_transform(X_train)\n",
    "X_test_scaled = sc.transform(X_test)"
   ]
  },
  {
   "cell_type": "code",
   "execution_count": 51,
   "id": "ae7fedf7-e2da-420c-8d9f-59190641b904",
   "metadata": {},
   "outputs": [
    {
     "data": {
      "text/plain": [
       "['/home/rizanb/Documents/hob_pred/data/processed/y_test.joblib']"
      ]
     },
     "execution_count": 51,
     "metadata": {},
     "output_type": "execute_result"
    }
   ],
   "source": [
    "import joblib\n",
    "\n",
    "joblib.dump(X_train_scaled, '/home/rizanb/Documents/hob_pred/data/processed/X_train_scaled.joblib')\n",
    "joblib.dump(X_test_scaled, '/home/rizanb/Documents/hob_pred/data/processed/X_test_scaled.joblib')\n",
    "joblib.dump(y_train, '/home/rizanb/Documents/hob_pred/data/processed/y_train.joblib')\n",
    "joblib.dump(y_test, '/home/rizanb/Documents/hob_pred/data/processed/y_test.joblib')\n"
   ]
  },
  {
   "cell_type": "markdown",
   "id": "ec6f4bf7-f74a-4c77-b4d0-b41a911e55b9",
   "metadata": {},
   "source": [
    "## evaluate model predictions"
   ]
  },
  {
   "cell_type": "code",
   "execution_count": 61,
   "id": "b2e500c2-fab3-471d-9afa-796e40371bdf",
   "metadata": {},
   "outputs": [
    {
     "name": "stdout",
     "output_type": "stream",
     "text": [
      "accuracy of logr: 0.522\n",
      "accuracy of rf: 0.522\n",
      "accuracy of svc: 0.543\n",
      "accuracy of knn: 0.587\n",
      "accuracy of gb: 0.500\n",
      "accuracy of xgb: 0.543\n"
     ]
    }
   ],
   "source": [
    "models_path = \"/home/rizanb/Documents/hob_pred/models/\"\n",
    "reports_path = \"/home/rizanb/Documents/hob_pred/reports/\"\n",
    "\n",
    "accuracy_report = \"\"\n",
    "\n",
    "models = [\n",
    "    ('logr', LogisticRegression()),\n",
    "    ('rf', RandomForestClassifier()),\n",
    "    ('svc', SVC()),\n",
    "    ('knn', KNeighborsClassifier()),\n",
    "    ('gb', GradientBoostingClassifier()),\n",
    "    ('xgb', XGBClassifier(eval_metric=\"mlogloss\", enable_categorical=True))\n",
    "]\n",
    "\n",
    "for name, model in models:\n",
    "    if name == \"xgb\":\n",
    "        model.fit(X_train_scaled, y_train - 1)\n",
    "        accuracy = model.score(X_test_scaled, y_test - 1) \n",
    "        print(f\"accuracy of {name}: {accuracy:.3f}\")\n",
    "        \n",
    "        with open(\"/home/rizanb/Documents/hob_pred/reports/accuracy_report.txt\", \"a\") as f:\n",
    "            f.write(f\"{name}: {accuracy:.3f} \\n\")\n",
    "        \n",
    "        joblib.dump(name, f\"{models_path}{name}_{accuracy:.3f}.pkl\")\n",
    "        break\n",
    "    model.fit(X_train_scaled, y_train)\n",
    "    accuracy = model.score(X_test_scaled, y_test)\n",
    "    print(f\"accuracy of {name}: {accuracy:.3f}\")\n",
    "\n",
    "    with open(\"/home/rizanb/Documents/hob_pred/reports/accuracy_report.txt\", \"a\") as f:\n",
    "            f.write(f\"{name}: {accuracy:.3f} \\n\")\n",
    "        \n",
    "    joblib.dump(name, f\"{models_path}{name}_{accuracy:.3f}.pkl\")\n"
   ]
  },
  {
   "cell_type": "code",
   "execution_count": null,
   "id": "5c87dc6f-6805-44ff-bd37-8bfa86f41538",
   "metadata": {},
   "outputs": [],
   "source": []
  }
 ],
 "metadata": {
  "kernelspec": {
   "display_name": "Python 3 (ipykernel)",
   "language": "python",
   "name": "python3"
  },
  "language_info": {
   "codemirror_mode": {
    "name": "ipython",
    "version": 3
   },
   "file_extension": ".py",
   "mimetype": "text/x-python",
   "name": "python",
   "nbconvert_exporter": "python",
   "pygments_lexer": "ipython3",
   "version": "3.12.3"
  }
 },
 "nbformat": 4,
 "nbformat_minor": 5
}
