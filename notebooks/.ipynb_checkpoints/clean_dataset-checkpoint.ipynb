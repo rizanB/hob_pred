{
 "cells": [
  {
   "cell_type": "code",
   "execution_count": 1,
   "id": "52aff890-6b78-4624-a11d-c2bb3992f451",
   "metadata": {},
   "outputs": [],
   "source": [
    "import numpy as np\n",
    "import pandas as pd\n",
    "import csv\n",
    "from tqdm import tqdm"
   ]
  },
  {
   "cell_type": "code",
   "execution_count": 2,
   "id": "450db707-e095-44fd-b418-d71114eeca0c",
   "metadata": {},
   "outputs": [
    {
     "data": {
      "text/plain": [
       "[['1',\n",
       "  'adrenaline',\n",
       "  'B',\n",
       "  '-3.49',\n",
       "  '-0.90',\n",
       "  '9.9',\n",
       "  '4(2),',\n",
       "  '6,',\n",
       "  '12',\n",
       "  '1',\n",
       "  '1',\n",
       "  '0.90\\n'],\n",
       " ['2',\n",
       "  'alprenolol',\n",
       "  'B',\n",
       "  '0.40',\n",
       "  '-0.89',\n",
       "  '9.2',\n",
       "  '6,',\n",
       "  '8,',\n",
       "  '9,',\n",
       "  '10',\n",
       "  '1',\n",
       "  '2',\n",
       "  '2.80\\n'],\n",
       " ['3', 'clomethiazole', 'N', '2.12', '0.00', '9', '1', '3', '3.86\\n'],\n",
       " ['4', 'coumarin', 'N', '1.39', '0.00', '7,', '9', '1', '2', '2.92\\n'],\n",
       " ['5',\n",
       "  'dobutamine',\n",
       "  'B',\n",
       "  '-0.48e',\n",
       "  '-0.90',\n",
       "  '9.5',\n",
       "  '4(3),',\n",
       "  '9',\n",
       "  '1',\n",
       "  '1',\n",
       "  '0.70\\n']]"
      ]
     },
     "execution_count": 2,
     "metadata": {},
     "output_type": "execute_result"
    }
   ],
   "source": [
    "r = []\n",
    "\n",
    "with open(\"/home/rizanb/Documents/hob_pred/data/raw/hob.txt\", \"r\") as f:\n",
    "    for line in f:\n",
    "        r_line = line.split(\" \")\n",
    "        r.append(r_line)\n",
    "\n",
    "r[0:5]"
   ]
  },
  {
   "cell_type": "markdown",
   "id": "0c82a1c9-6784-4ad1-9779-03b498179d1f",
   "metadata": {},
   "source": [
    "## keep drug_name, acid/base/neutral category and hob category "
   ]
  },
  {
   "cell_type": "code",
   "execution_count": 3,
   "id": "5f522f58-2e75-4cf1-be64-4b8140f732c0",
   "metadata": {},
   "outputs": [
    {
     "data": {
      "text/plain": [
       "[['adrenaline', 'B', '1'],\n",
       " ['alprenolol', 'B', '1'],\n",
       " ['clomethiazole', 'N', '1']]"
      ]
     },
     "execution_count": 3,
     "metadata": {},
     "output_type": "execute_result"
    }
   ],
   "source": [
    "p = []\n",
    "\n",
    "for i in r:\n",
    "    e = [i[1], i[2], i[-3]]\n",
    "    p.append(e)\n",
    "\n",
    "p[0:3]"
   ]
  },
  {
   "cell_type": "markdown",
   "id": "b3941520-d32b-4ed4-9ab8-3a57c9dca553",
   "metadata": {},
   "source": [
    "## save drug hob values"
   ]
  },
  {
   "cell_type": "code",
   "execution_count": 4,
   "id": "1fd8c0ea-d679-4a28-a7d5-90a88bb0c7c7",
   "metadata": {},
   "outputs": [],
   "source": [
    "with open(\"/home/rizanb/Documents/hob_pred/data/interim/hob.csv\", \"w\", newline='') as f:\n",
    "    writer = csv.writer(f)\n",
    "    writer.writerows(p)"
   ]
  },
  {
   "cell_type": "code",
   "execution_count": 5,
   "id": "b7bd422b-622e-4b28-995f-87ed0e6a7821",
   "metadata": {},
   "outputs": [
    {
     "name": "stdout",
     "output_type": "stream",
     "text": [
      "Collecting pubchempy\n",
      "  Using cached pubchempy-1.0.4-py3-none-any.whl\n",
      "Installing collected packages: pubchempy\n",
      "Successfully installed pubchempy-1.0.4\n",
      "Note: you may need to restart the kernel to use updated packages.\n"
     ]
    }
   ],
   "source": [
    "%pip install pubchempy"
   ]
  },
  {
   "cell_type": "code",
   "execution_count": 6,
   "id": "4f09afbd-ccbe-40e5-9cd3-84c687b6f467",
   "metadata": {},
   "outputs": [],
   "source": [
    "import pubchempy as pcp\n"
   ]
  },
  {
   "cell_type": "code",
   "execution_count": 7,
   "id": "cded0b88-d0ff-45fa-be6e-73a0e6db99df",
   "metadata": {},
   "outputs": [],
   "source": [
    "from rdkit import Chem\n",
    "from rdkit.Chem import Descriptors, Lipinski"
   ]
  },
  {
   "cell_type": "code",
   "execution_count": 8,
   "id": "03acdd2e-998f-425e-9c68-8ef8c8177384",
   "metadata": {},
   "outputs": [],
   "source": [
    "import numpy as np\n",
    "import pandas as pd"
   ]
  },
  {
   "cell_type": "code",
   "execution_count": 9,
   "id": "1713fab0-31de-4212-9522-d328cc5ed666",
   "metadata": {},
   "outputs": [
    {
     "data": {
      "text/plain": [
       "['adrenaline',\n",
       " 'alprenolol',\n",
       " 'clomethiazole',\n",
       " 'coumarin',\n",
       " 'dobutamine',\n",
       " 'domperidone',\n",
       " 'dopamine',\n",
       " 'epanolol',\n",
       " 'estradiol',\n",
       " 'felodipine',\n",
       " 'hydralazine',\n",
       " 'isradipine',\n",
       " 'ketamine',\n",
       " 'lofepramine',\n",
       " 'lovastatin',\n",
       " 'mebendazole',\n",
       " 'meptazinol',\n",
       " 'mercaptopurine',\n",
       " 'nabumetone',\n",
       " 'nalbuphine',\n",
       " 'naloxone',\n",
       " 'nimodipine',\n",
       " 'nisoldipine',\n",
       " 'nitrendipine',\n",
       " 'phenolphthalein',\n",
       " 'probucol',\n",
       " 'prochlorperazine',\n",
       " 'progesterone',\n",
       " 'selegiline',\n",
       " 'simvastatin',\n",
       " 'sumatriptan',\n",
       " 'tacrine',\n",
       " 'terbutaline',\n",
       " 'testosterone',\n",
       " 'tetrahydrocannabinol',\n",
       " 'venlafaxine',\n",
       " 'xamoterol',\n",
       " 'acebutolol',\n",
       " 'alprazolam',\n",
       " 'amitriptyline',\n",
       " 'chlorpromazine',\n",
       " 'cisapride',\n",
       " 'clemastin',\n",
       " 'chlorothiazide',\n",
       " 'desipramine',\n",
       " 'dextropropoxyphene',\n",
       " 'diltiazem',\n",
       " 'diprafenone',\n",
       " 'doxepin',\n",
       " 'encainide',\n",
       " 'ethinyl',\n",
       " 'etilefrine',\n",
       " 'famotidine',\n",
       " 'fluorouracil',\n",
       " 'imipramine',\n",
       " 'indoramine',\n",
       " 'isoprenaline',\n",
       " 'isotretinoin',\n",
       " 'labetalol',\n",
       " 'lidocaine',\n",
       " 'lorcainide',\n",
       " 'medifoxamine',\n",
       " 'metoprolol',\n",
       " 'mianserin',\n",
       " 'midazolam',\n",
       " 'moricizine',\n",
       " 'morphine',\n",
       " 'nadolol',\n",
       " 'nafcillin',\n",
       " 'naltrexone',\n",
       " 'nicardipine',\n",
       " 'nicotine',\n",
       " 'oxacillin',\n",
       " 'oxprenolol',\n",
       " 'pentazocine',\n",
       " 'pentoxifylline',\n",
       " 'phenylephrine',\n",
       " 'pimozide',\n",
       " 'pirenzepine',\n",
       " 'prenalterol',\n",
       " 'promethazine',\n",
       " 'propafenone',\n",
       " 'propanolol',\n",
       " 'ritodrine',\n",
       " 'salbutamol',\n",
       " 'scopolamine',\n",
       " 'spironolactone',\n",
       " 'sulpiride',\n",
       " 'thioridazine',\n",
       " 'triazolam',\n",
       " 'verapamil',\n",
       " 'acetaminophen',\n",
       " 'acetylsalicylic',\n",
       " 'amantadine',\n",
       " 'amiodarone',\n",
       " 'amlodipine',\n",
       " 'atenolol',\n",
       " 'atropine',\n",
       " 'bepridil',\n",
       " 'betamethasone',\n",
       " 'bevantolol',\n",
       " 'brotizolam',\n",
       " 'bufuralol',\n",
       " 'captopril',\n",
       " 'chloramphenicol',\n",
       " 'chlorpheniramine',\n",
       " 'chlorphthalidone',\n",
       " 'cimetidine',\n",
       " 'clomipramine',\n",
       " 'clopenthixol',\n",
       " 'clozapine',\n",
       " 'codeine',\n",
       " 'dexamethasone',\n",
       " 'diclofenac',\n",
       " 'dicloxacillin',\n",
       " 'diphenhydramine',\n",
       " 'doxazosin',\n",
       " 'enoximone',\n",
       " 'ethambutol',\n",
       " 'finasteride',\n",
       " 'fluoxetine',\n",
       " 'flupenthixol',\n",
       " 'fluvoxamine',\n",
       " 'furosemide',\n",
       " 'haloperidol',\n",
       " 'hydrochlorothiazide',\n",
       " 'levobunolol',\n",
       " 'levomepromazine',\n",
       " 'maprotiline',\n",
       " 'meperidine',\n",
       " 'metoclopramide',\n",
       " 'moclobemide',\n",
       " 'nifedipine',\n",
       " 'nifurtimox',\n",
       " 'nitrazepam',\n",
       " 'norethisterone',\n",
       " 'nortriptyline',\n",
       " 'omeprazole',\n",
       " 'ondansetron',\n",
       " 'paroxetine',\n",
       " 'penbutolol',\n",
       " 'perphenazine',\n",
       " 'pindolol',\n",
       " 'prazosin',\n",
       " 'primaquine',\n",
       " 'procainamide',\n",
       " 'procyclidine',\n",
       " 'quinidine',\n",
       " 'raclopride',\n",
       " 'ranitidine',\n",
       " 'timolol',\n",
       " 'triamterene',\n",
       " 'urapidil',\n",
       " 'zofenoprilat',\n",
       " 'allopurinol',\n",
       " 'amobarbital',\n",
       " 'amrinone',\n",
       " 'betaxolol',\n",
       " 'bisoprolol',\n",
       " 'bumetanide',\n",
       " 'caffeine',\n",
       " 'carbamazepine',\n",
       " 'carteolol',\n",
       " 'chlorambucil',\n",
       " 'chlordiazepoxide',\n",
       " 'chloroquine',\n",
       " 'chlorpropamide',\n",
       " 'cibenzoline',\n",
       " 'clobazam',\n",
       " 'clonazepam',\n",
       " 'clonidine',\n",
       " 'cyclophosphamide',\n",
       " 'desmethyldiazepam',\n",
       " 'diazepam',\n",
       " 'diazoxide',\n",
       " 'diflunisal',\n",
       " 'disopyramide',\n",
       " 'ethanol',\n",
       " 'ethosuximide',\n",
       " 'flecaninide',\n",
       " 'flurbiprofen',\n",
       " 'fluconazole',\n",
       " 'flucytosine',\n",
       " 'flunitrazepam',\n",
       " 'gemfibrozil',\n",
       " 'glipizide',\n",
       " 'glyburide',\n",
       " 'hexobarbital',\n",
       " 'ibuprofen',\n",
       " 'indomethacin',\n",
       " 'isoniazide',\n",
       " 'isosorbide',\n",
       " 'isosorbide',\n",
       " 'ketoprofen',\n",
       " 'ketolorac',\n",
       " 'lorazepam',\n",
       " 'mabuterol',\n",
       " 'methadone',\n",
       " 'methylprednisolone',\n",
       " 'metronidazole',\n",
       " 'mexiletine',\n",
       " 'naproxen',\n",
       " 'nitrofurantoin',\n",
       " 'nizatidine',\n",
       " 'oxaprozin',\n",
       " 'oxazepam',\n",
       " 'phenobarbital',\n",
       " 'phenylbutazone',\n",
       " 'phenylethylmalonamide',\n",
       " 'phenytoin',\n",
       " 'prednisolone',\n",
       " 'prednisone',\n",
       " 'primidone',\n",
       " 'probenecid',\n",
       " 'protriptyline',\n",
       " 'quinine',\n",
       " 'salicylic',\n",
       " 'sulfadiazine',\n",
       " 'sulfamethoxazole',\n",
       " 'sulfinpyrazone',\n",
       " 'sulfisoxazole',\n",
       " 'temazepam',\n",
       " 'tenoxicam',\n",
       " 'theophylline',\n",
       " 'tocainide',\n",
       " 'tolbutamide',\n",
       " 'tolmetin',\n",
       " 'trazodone',\n",
       " 'trimethoprim',\n",
       " 'valproic',\n",
       " 'warfarin',\n",
       " 'zalcitabine']"
      ]
     },
     "execution_count": 9,
     "metadata": {},
     "output_type": "execute_result"
    }
   ],
   "source": [
    "drug_names = []\n",
    "for i in p:\n",
    "    drug_names.append(i[0])\n",
    "drug_names"
   ]
  },
  {
   "cell_type": "code",
   "execution_count": 10,
   "id": "71ac371d-5207-4f0e-8714-b727670509b6",
   "metadata": {},
   "outputs": [
    {
     "data": {
      "text/plain": [
       "232"
      ]
     },
     "execution_count": 10,
     "metadata": {},
     "output_type": "execute_result"
    }
   ],
   "source": [
    "len(drug_names)"
   ]
  },
  {
   "cell_type": "code",
   "execution_count": 28,
   "id": "1c9e4178-4d75-4a91-9a05-88e1eb0211be",
   "metadata": {
    "collapsed": true,
    "jupyter": {
     "outputs_hidden": true
    }
   },
   "outputs": [
    {
     "name": "stderr",
     "output_type": "stream",
     "text": [
      "  0%|▎                                                                           | 1/232 [00:01<04:09,  1.08s/it]"
     ]
    },
    {
     "name": "stdout",
     "output_type": "stream",
     "text": [
      "adrenaline smiles: CNCC(C1=CC(=C(C=C1)O)O)O\n",
      "['adrenaline', 'CNCC(C1=CC(=C(C=C1)O)O)O', 4, 4, 183.207, 0.35059999999999986, 48.65810000000003, 72.72, 3]\n"
     ]
    },
    {
     "name": "stderr",
     "output_type": "stream",
     "text": [
      "  1%|▋                                                                           | 2/232 [00:02<04:20,  1.13s/it]"
     ]
    },
    {
     "name": "stdout",
     "output_type": "stream",
     "text": [
      "alprenolol smiles: CC(C)NCC(COC1=CC=CC=C1CC=C)O\n",
      "['alprenolol', 'CC(C)NCC(COC1=CC=CC=C1CC=C)O', 3, 2, 249.35399999999998, 2.1528000000000005, 74.98350000000003, 41.489999999999995, 8]\n"
     ]
    },
    {
     "name": "stderr",
     "output_type": "stream",
     "text": [
      "  1%|▉                                                                           | 3/232 [00:03<04:23,  1.15s/it]"
     ]
    },
    {
     "name": "stdout",
     "output_type": "stream",
     "text": [
      "clomethiazole smiles: CC1=C(SC=N1)CCCl\n",
      "['clomethiazole', 'CC1=C(SC=N1)CCCl', 2, 0, 161.65699999999998, 2.2328200000000002, 41.27500000000002, 12.89, 2]\n"
     ]
    },
    {
     "name": "stderr",
     "output_type": "stream",
     "text": [
      "  2%|█▎                                                                          | 4/232 [00:04<04:21,  1.15s/it]"
     ]
    },
    {
     "name": "stdout",
     "output_type": "stream",
     "text": [
      "coumarin smiles: C1=CC=C2C(=C1)C=CC(=O)O2\n",
      "['coumarin', 'C1=CC=C2C(=C1)C=CC(=O)O2', 2, 0, 146.14499999999995, 1.7929999999999997, 42.484000000000016, 30.21, 0]\n"
     ]
    },
    {
     "name": "stderr",
     "output_type": "stream",
     "text": [
      "  2%|█▋                                                                          | 5/232 [00:05<04:38,  1.23s/it]"
     ]
    },
    {
     "name": "stdout",
     "output_type": "stream",
     "text": [
      "dobutamine smiles: CC(CCC1=CC=C(C=C1)O)NCCC2=CC(=C(C=C2)O)O\n",
      "['dobutamine', 'CC(CCC1=CC=C(C=C1)O)NCCC2=CC(=C(C=C2)O)O', 4, 4, 301.38599999999997, 2.956800000000002, 87.36810000000003, 72.72, 7]\n"
     ]
    },
    {
     "name": "stderr",
     "output_type": "stream",
     "text": [
      "  3%|█▉                                                                          | 6/232 [00:07<04:39,  1.24s/it]"
     ]
    },
    {
     "name": "stdout",
     "output_type": "stream",
     "text": [
      "domperidone smiles: C1CN(CCC1N2C3=C(C=C(C=C3)Cl)NC2=O)CCCN4C5=CC=CC=C5NC4=O\n",
      "['domperidone', 'C1CN(CCC1N2C3=C(C=C(C=C3)Cl)NC2=O)CCCN4C5=CC=CC=C5NC4=O', 5, 2, 425.92000000000024, 3.353200000000001, 119.45540000000003, 78.82, 5]\n"
     ]
    },
    {
     "name": "stderr",
     "output_type": "stream",
     "text": [
      "  3%|██▎                                                                         | 7/232 [00:08<04:29,  1.20s/it]"
     ]
    },
    {
     "name": "stdout",
     "output_type": "stream",
     "text": [
      "dopamine smiles: C1=CC(=C(C=C1CCN)O)O\n",
      "['dopamine', 'C1=CC(=C(C=C1CCN)O)O', 3, 3, 153.181, 0.5989999999999995, 42.53000000000001, 66.48, 2]\n"
     ]
    },
    {
     "name": "stderr",
     "output_type": "stream",
     "text": [
      "  3%|██▌                                                                         | 8/232 [00:09<04:49,  1.29s/it]"
     ]
    },
    {
     "name": "stdout",
     "output_type": "stream",
     "text": [
      "epanolol smiles: C1=CC=C(C(=C1)C#N)OCC(CNCCNC(=O)CC2=CC=C(C=C2)O)O\n",
      "['epanolol', 'C1=CC=C(C(=C1)C#N)OCC(CNCCNC(=O)CC2=CC=C(C=C2)O)O', 6, 4, 369.42100000000005, 0.9520799999999994, 100.34900000000003, 114.61000000000001, 10]\n"
     ]
    },
    {
     "name": "stderr",
     "output_type": "stream",
     "text": [
      "  4%|██▉                                                                         | 9/232 [00:10<04:41,  1.26s/it]"
     ]
    },
    {
     "name": "stdout",
     "output_type": "stream",
     "text": [
      "estradiol smiles: CC12CCC3C(C1CCC2O)CCC4=C3C=CC(=C4)O\n",
      "['estradiol', 'CC12CCC3C(C1CCC2O)CCC4=C3C=CC(=C4)O', 2, 2, 272.388, 3.6092000000000026, 78.73060000000004, 40.46, 0]\n"
     ]
    },
    {
     "name": "stderr",
     "output_type": "stream",
     "text": [
      "  4%|███▏                                                                       | 10/232 [00:12<04:36,  1.25s/it]"
     ]
    },
    {
     "name": "stdout",
     "output_type": "stream",
     "text": [
      "felodipine smiles: CCOC(=O)C1=C(NC(=C(C1C2=C(C(=CC=C2)Cl)Cl)C(=O)OC)C)C\n",
      "['felodipine', 'CCOC(=O)C1=C(NC(=C(C1C2=C(C(=CC=C2)Cl)Cl)C(=O)OC)C)C', 5, 1, 384.2590000000001, 3.9643000000000024, 96.38770000000004, 64.63, 4]\n"
     ]
    },
    {
     "name": "stderr",
     "output_type": "stream",
     "text": [
      "  5%|███▌                                                                       | 11/232 [00:13<04:24,  1.20s/it]"
     ]
    },
    {
     "name": "stdout",
     "output_type": "stream",
     "text": [
      "hydralazine smiles: C1=CC=C2C(=C1)C=NN=C2NN\n",
      "['hydralazine', 'C1=CC=C2C(=C1)C=NN=C2NN', 4, 2, 160.18, 0.9153999999999995, 47.34810000000001, 63.83, 1]\n"
     ]
    },
    {
     "name": "stderr",
     "output_type": "stream",
     "text": [
      "  5%|███▉                                                                       | 12/232 [00:14<04:20,  1.18s/it]"
     ]
    },
    {
     "name": "stdout",
     "output_type": "stream",
     "text": [
      "isradipine smiles: CC1=C(C(C(=C(N1)C)C(=O)OC(C)C)C2=CC=CC3=NON=C32)C(=O)OC\n",
      "['isradipine', 'CC1=C(C(C(=C(N1)C)C(=O)OC(C)C)C2=CC=CC3=NON=C32)C(=O)OC', 8, 1, 371.39300000000014, 2.582200000000001, 96.32470000000005, 103.55, 4]\n"
     ]
    },
    {
     "name": "stderr",
     "output_type": "stream",
     "text": [
      "  6%|████▏                                                                      | 13/232 [00:15<04:16,  1.17s/it]"
     ]
    },
    {
     "name": "stdout",
     "output_type": "stream",
     "text": [
      "ketamine smiles: CNC1(CCCCC1=O)C2=CC=CC=C2Cl\n",
      "['ketamine', 'CNC1(CCCCC1=O)C2=CC=CC=C2Cl', 2, 1, 237.73000000000002, 2.897800000000001, 65.66470000000004, 29.1, 2]\n"
     ]
    },
    {
     "name": "stderr",
     "output_type": "stream",
     "text": [
      "  6%|████▌                                                                      | 14/232 [00:16<04:11,  1.16s/it]"
     ]
    },
    {
     "name": "stdout",
     "output_type": "stream",
     "text": [
      "lofepramine smiles: CN(CCCN1C2=CC=CC=C2CCC3=CC=CC=C31)CC(=O)C4=CC=C(C=C4)Cl\n",
      "['lofepramine', 'CN(CCCN1C2=CC=CC=C2CCC3=CC=CC=C31)CC(=O)C4=CC=C(C=C4)Cl', 3, 0, 418.9680000000002, 5.781500000000006, 125.19450000000006, 23.55, 7]\n"
     ]
    },
    {
     "name": "stderr",
     "output_type": "stream",
     "text": [
      "  6%|████▊                                                                      | 15/232 [00:17<04:12,  1.16s/it]"
     ]
    },
    {
     "name": "stdout",
     "output_type": "stream",
     "text": [
      "lovastatin smiles: CCC(C)C(=O)OC1CC(C=C2C1C(C(C=C2)C)CCC3CC(CC(=O)O3)O)C\n",
      "['lovastatin', 'CCC(C)C(=O)OC1CC(C=C2C1C(C(C=C2)C)CCC3CC(CC(=O)O3)O)C', 5, 1, 404.54700000000025, 4.195500000000004, 110.83780000000007, 72.83000000000001, 6]\n"
     ]
    },
    {
     "name": "stderr",
     "output_type": "stream",
     "text": [
      "  7%|█████▏                                                                     | 16/232 [00:19<04:09,  1.15s/it]"
     ]
    },
    {
     "name": "stdout",
     "output_type": "stream",
     "text": [
      "mebendazole smiles: COC(=O)NC1=NC2=C(N1)C=C(C=C2)C(=O)C3=CC=CC=C3\n",
      "['mebendazole', 'COC(=O)NC1=NC2=C(N1)C=C(C=C2)C(=O)C3=CC=CC=C3', 4, 2, 295.298, 2.972200000000001, 81.99590000000002, 84.07999999999998, 3]\n"
     ]
    },
    {
     "name": "stderr",
     "output_type": "stream",
     "text": [
      "  7%|█████▍                                                                     | 17/232 [00:20<04:07,  1.15s/it]"
     ]
    },
    {
     "name": "stdout",
     "output_type": "stream",
     "text": [
      "meptazinol smiles: CCC1(CCCCN(C1)C)C2=CC(=CC=C2)O\n",
      "['meptazinol', 'CCC1(CCCCN(C1)C)C2=CC(=CC=C2)O', 2, 1, 233.35500000000002, 3.1557000000000017, 71.42380000000004, 23.47, 2]\n"
     ]
    },
    {
     "name": "stderr",
     "output_type": "stream",
     "text": [
      "  8%|█████▊                                                                     | 18/232 [00:21<04:05,  1.15s/it]"
     ]
    },
    {
     "name": "stdout",
     "output_type": "stream",
     "text": [
      "mercaptopurine smiles: C1=NC2=C(N1)C(=S)N=CN2\n",
      "['mercaptopurine', 'C1=NC2=C(N1)C(=S)N=CN2', 3, 2, 152.18200000000002, 1.0154899999999998, 39.0734, 57.36, 0]\n"
     ]
    },
    {
     "name": "stderr",
     "output_type": "stream",
     "text": [
      "  8%|██████▏                                                                    | 19/232 [00:22<04:10,  1.18s/it]"
     ]
    },
    {
     "name": "stdout",
     "output_type": "stream",
     "text": [
      "nabumetone smiles: CC(=O)CCC1=CC2=C(C=C1)C=C(C=C2)OC\n",
      "['nabumetone', 'CC(=O)CCC1=CC2=C(C=C1)C=C(C=C2)OC', 2, 0, 228.291, 3.370000000000002, 69.50200000000004, 26.3, 4]\n"
     ]
    },
    {
     "name": "stderr",
     "output_type": "stream",
     "text": [
      "  9%|██████▍                                                                    | 20/232 [00:23<04:13,  1.20s/it]"
     ]
    },
    {
     "name": "stdout",
     "output_type": "stream",
     "text": [
      "nalbuphine smiles: C1CC(C1)CN2CCC34C5C(CCC3(C2CC6=C4C(=C(C=C6)O)O5)O)O\n",
      "['nalbuphine', 'C1CC(C1)CN2CCC34C5C(CCC3(C2CC6=C4C(=C(C=C6)O)O5)O)O', 5, 3, 357.45000000000005, 1.7073000000000005, 95.41440000000006, 73.16000000000001, 2]\n"
     ]
    },
    {
     "name": "stderr",
     "output_type": "stream",
     "text": [
      "  9%|██████▊                                                                    | 21/232 [00:25<04:17,  1.22s/it]"
     ]
    },
    {
     "name": "stdout",
     "output_type": "stream",
     "text": [
      "naloxone smiles: C=CCN1CCC23C4C(=O)CCC2(C1CC5=C3C(=C(C=C5)O)O4)O\n",
      "['naloxone', 'C=CCN1CCC23C4C(=O)CCC2(C1CC5=C3C(=C(C=C5)O)O4)O', 5, 2, 327.37999999999994, 1.3013999999999997, 87.27060000000004, 70.00000000000001, 2]\n"
     ]
    },
    {
     "name": "stderr",
     "output_type": "stream",
     "text": [
      "  9%|███████                                                                    | 22/232 [00:26<04:10,  1.19s/it]"
     ]
    },
    {
     "name": "stdout",
     "output_type": "stream",
     "text": [
      "nimodipine smiles: CC1=C(C(C(=C(N1)C)C(=O)OC(C)C)C2=CC(=CC=C2)[N+](=O)[O-])C(=O)OCCOC\n",
      "['nimodipine', 'CC1=C(C(C(=C(N1)C)C(=O)OC(C)C)C2=CC(=CC=C2)[N+](=O)[O-])C(=O)OCCOC', 8, 1, 418.44600000000025, 2.9708000000000014, 108.43610000000005, 117.0, 8]\n"
     ]
    },
    {
     "name": "stderr",
     "output_type": "stream",
     "text": [
      " 10%|███████▍                                                                   | 23/232 [00:27<04:16,  1.23s/it]"
     ]
    },
    {
     "name": "stdout",
     "output_type": "stream",
     "text": [
      "nisoldipine smiles: CC1=C(C(C(=C(N1)C)C(=O)OCC(C)C)C2=CC=CC=C2[N+](=O)[O-])C(=O)OC\n",
      "['nisoldipine', 'CC1=C(C(C(=C(N1)C)C(=O)OCC(C)C)C2=CC=CC=C2[N+](=O)[O-])C(=O)OC', 7, 1, 388.42000000000013, 3.2018000000000013, 102.18610000000005, 107.77, 6]\n"
     ]
    },
    {
     "name": "stderr",
     "output_type": "stream",
     "text": [
      " 10%|███████▊                                                                   | 24/232 [00:28<04:14,  1.22s/it]"
     ]
    },
    {
     "name": "stdout",
     "output_type": "stream",
     "text": [
      "nitrendipine smiles: CCOC(=O)C1=C(NC(=C(C1C2=CC(=CC=C2)[N+](=O)[O-])C(=O)OC)C)C\n",
      "['nitrendipine', 'CCOC(=O)C1=C(NC(=C(C1C2=CC(=CC=C2)[N+](=O)[O-])C(=O)OC)C)C', 7, 1, 360.36600000000016, 2.5657000000000005, 93.02210000000002, 107.77, 5]\n"
     ]
    },
    {
     "name": "stderr",
     "output_type": "stream",
     "text": [
      " 11%|████████                                                                   | 25/232 [00:29<04:09,  1.21s/it]"
     ]
    },
    {
     "name": "stdout",
     "output_type": "stream",
     "text": [
      "phenolphthalein smiles: C1=CC=C2C(=C1)C(=O)OC2(C3=CC=C(C=C3)O)C4=CC=C(C=C4)O\n",
      "['phenolphthalein', 'C1=CC=C2C(=C1)C(=O)OC2(C3=CC=C(C=C3)O)C4=CC=C(C=C4)O', 4, 2, 318.32800000000003, 3.5601000000000016, 87.95310000000002, 66.76, 2]\n"
     ]
    },
    {
     "name": "stderr",
     "output_type": "stream",
     "text": [
      " 11%|████████▍                                                                  | 26/232 [00:31<04:05,  1.19s/it]"
     ]
    },
    {
     "name": "stdout",
     "output_type": "stream",
     "text": [
      "probucol smiles: CC(C)(C)C1=CC(=CC(=C1O)C(C)(C)C)SC(C)(C)SC2=CC(=C(C(=C2)C(C)(C)C)O)C(C)(C)C\n",
      "['probucol', 'CC(C)(C)C1=CC(=CC(=C1O)C(C)(C)C)SC(C)(C)SC2=CC(=C(C(=C2)C(C)(C)C)O)C(C)(C)C', 4, 2, 516.8570000000003, 9.908299999999995, 156.80659999999972, 40.46, 4]\n"
     ]
    },
    {
     "name": "stderr",
     "output_type": "stream",
     "text": [
      " 12%|████████▋                                                                  | 27/232 [00:32<04:01,  1.18s/it]"
     ]
    },
    {
     "name": "stdout",
     "output_type": "stream",
     "text": [
      "prochlorperazine smiles: CN1CCN(CC1)CCCN2C3=CC=CC=C3SC4=C2C=C(C=C4)Cl\n",
      "['prochlorperazine', 'CN1CCN(CC1)CCCN2C3=CC=CC=C3SC4=C2C=C(C=C4)Cl', 4, 0, 373.9530000000001, 4.580200000000004, 107.57700000000004, 9.72, 4]\n"
     ]
    },
    {
     "name": "stderr",
     "output_type": "stream",
     "text": [
      " 12%|█████████                                                                  | 28/232 [00:33<04:11,  1.23s/it]"
     ]
    },
    {
     "name": "stdout",
     "output_type": "stream",
     "text": [
      "progesterone smiles: CC(=O)C1CCC2C1(CCC3C2CCC4=CC(=O)CCC34C)C\n",
      "['progesterone', 'CC(=O)C1CCC2C1(CCC3C2CCC4=CC(=O)CCC34C)C', 2, 0, 314.4690000000001, 4.723500000000005, 90.88100000000006, 34.14, 1]\n"
     ]
    },
    {
     "name": "stderr",
     "output_type": "stream",
     "text": [
      " 12%|█████████▍                                                                 | 29/232 [00:34<04:13,  1.25s/it]"
     ]
    },
    {
     "name": "stdout",
     "output_type": "stream",
     "text": [
      "selegiline smiles: CC(CC1=CC=CC=C1)N(C)CC#C\n",
      "['selegiline', 'CC(CC1=CC=CC=C1)N(C)CC#C', 1, 0, 187.28599999999994, 2.1826, 61.07100000000004, 3.24, 4]\n"
     ]
    },
    {
     "name": "stderr",
     "output_type": "stream",
     "text": [
      " 13%|█████████▋                                                                 | 30/232 [00:36<04:07,  1.23s/it]"
     ]
    },
    {
     "name": "stdout",
     "output_type": "stream",
     "text": [
      "simvastatin smiles: CCC(C)(C)C(=O)OC1CC(C=C2C1C(C(C=C2)C)CCC3CC(CC(=O)O3)O)C\n",
      "['simvastatin', 'CCC(C)(C)C(=O)OC1CC(C=C2C1C(C(C=C2)C)CCC3CC(CC(=O)O3)O)C', 5, 1, 418.5740000000003, 4.585600000000006, 115.45480000000008, 72.83000000000001, 6]\n"
     ]
    },
    {
     "name": "stderr",
     "output_type": "stream",
     "text": [
      " 13%|██████████                                                                 | 31/232 [00:37<04:00,  1.20s/it]"
     ]
    },
    {
     "name": "stdout",
     "output_type": "stream",
     "text": [
      "sumatriptan smiles: CNS(=O)(=O)CC1=CC2=C(C=C1)NC=C2CCN(C)C\n",
      "['sumatriptan', 'CNS(=O)(=O)CC1=CC2=C(C=C1)NC=C2CCN(C)C', 3, 2, 295.408, 1.3212, 82.24020000000004, 65.2, 6]\n"
     ]
    },
    {
     "name": "stderr",
     "output_type": "stream",
     "text": [
      " 14%|██████████▎                                                                | 32/232 [00:38<03:56,  1.18s/it]"
     ]
    },
    {
     "name": "stdout",
     "output_type": "stream",
     "text": [
      "tacrine smiles: C1CCC2=NC3=CC=CC=C3C(=C2C1)N\n",
      "['tacrine', 'C1CCC2=NC3=CC=CC=C3C(=C2C1)N', 2, 1, 198.26899999999995, 2.6958, 62.79740000000003, 38.91, 0]\n"
     ]
    },
    {
     "name": "stderr",
     "output_type": "stream",
     "text": [
      " 14%|██████████▋                                                                | 33/232 [00:39<03:55,  1.18s/it]"
     ]
    },
    {
     "name": "stdout",
     "output_type": "stream",
     "text": [
      "terbutaline smiles: CC(C)(C)NCC(C1=CC(=CC(=C1)O)O)O\n",
      "['terbutaline', 'CC(C)(C)NCC(C1=CC(=CC(=C1)O)O)O', 4, 4, 225.288, 1.5192999999999999, 62.48710000000004, 72.72, 3]\n"
     ]
    },
    {
     "name": "stderr",
     "output_type": "stream",
     "text": [
      " 15%|██████████▉                                                                | 34/232 [00:40<03:53,  1.18s/it]"
     ]
    },
    {
     "name": "stdout",
     "output_type": "stream",
     "text": [
      "testosterone smiles: CC12CCC3C(C1CCC2O)CCC4=CC(=O)CCC34C\n",
      "['testosterone', 'CC12CCC3C(C1CCC2O)CCC4=CC(=O)CCC34C', 2, 1, 288.43100000000004, 3.8792000000000035, 82.71680000000005, 37.3, 0]\n"
     ]
    },
    {
     "name": "stderr",
     "output_type": "stream",
     "text": [
      " 15%|███████████▎                                                               | 35/232 [00:41<03:52,  1.18s/it]"
     ]
    },
    {
     "name": "stdout",
     "output_type": "stream",
     "text": [
      "tetrahydrocannabinol smiles: CCCCCC1=CC(=C2C3C=C(CCC3C(OC2=C1)(C)C)C)O\n",
      "['tetrahydrocannabinol', 'CCCCCC1=CC(=C2C3C=C(CCC3C(OC2=C1)(C)C)C)O', 2, 1, 314.46900000000005, 5.7358000000000064, 95.26480000000006, 29.46, 4]\n"
     ]
    },
    {
     "name": "stderr",
     "output_type": "stream",
     "text": [
      " 16%|███████████▋                                                               | 36/232 [00:43<03:59,  1.22s/it]"
     ]
    },
    {
     "name": "stdout",
     "output_type": "stream",
     "text": [
      "venlafaxine smiles: CN(C)CC(C1=CC=C(C=C1)OC)C2(CCCCC2)O\n",
      "['venlafaxine', 'CN(C)CC(C1=CC=C(C=C1)OC)C2(CCCCC2)O', 3, 1, 277.40799999999996, 3.035600000000002, 82.32380000000006, 32.7, 5]\n"
     ]
    },
    {
     "name": "stderr",
     "output_type": "stream",
     "text": [
      " 16%|███████████▉                                                               | 37/232 [00:44<03:57,  1.22s/it]"
     ]
    },
    {
     "name": "stdout",
     "output_type": "stream",
     "text": [
      "xamoterol smiles: C1COCCN1C(=O)NCCNCC(COC2=CC=C(C=C2)O)O\n",
      "['xamoterol', 'C1COCCN1C(=O)NCCNCC(COC2=CC=C(C=C2)O)O', 6, 4, 339.392, -0.23669999999999802, 88.26900000000005, 103.29, 8]\n"
     ]
    },
    {
     "name": "stderr",
     "output_type": "stream",
     "text": [
      " 16%|████████████▎                                                              | 38/232 [00:45<03:59,  1.24s/it]"
     ]
    },
    {
     "name": "stdout",
     "output_type": "stream",
     "text": [
      "acebutolol smiles: CCCC(=O)NC1=CC(=C(C=C1)OCC(CNC(C)C)O)C(=O)C\n",
      "['acebutolol', 'CCCC(=O)NC1=CC(=C(C=C1)OCC(CNC(C)C)O)C(=O)C', 5, 3, 336.4320000000001, 2.3655, 94.62470000000005, 87.66, 10]\n"
     ]
    },
    {
     "name": "stderr",
     "output_type": "stream",
     "text": [
      " 17%|████████████▌                                                              | 39/232 [00:46<03:52,  1.20s/it]"
     ]
    },
    {
     "name": "stdout",
     "output_type": "stream",
     "text": [
      "alprazolam smiles: CC1=NN=C2N1C3=C(C=C(C=C3)Cl)C(=NC2)C4=CC=CC=C4\n",
      "['alprazolam', 'CC1=NN=C2N1C3=C(C=C(C=C3)Cl)C(=NC2)C4=CC=CC=C4', 4, 0, 308.772, 3.5801200000000017, 86.89100000000002, 43.07, 1]\n"
     ]
    },
    {
     "name": "stderr",
     "output_type": "stream",
     "text": [
      " 17%|████████████▉                                                              | 40/232 [00:47<03:47,  1.18s/it]"
     ]
    },
    {
     "name": "stdout",
     "output_type": "stream",
     "text": [
      "amitriptyline smiles: CN(C)CCC=C1C2=CC=CC=C2CCC3=CC=CC=C31\n",
      "['amitriptyline', 'CN(C)CCC=C1C2=CC=CC=C2CCC3=CC=CC=C31', 1, 0, 277.411, 4.168600000000003, 90.54200000000006, 3.24, 3]\n"
     ]
    },
    {
     "name": "stderr",
     "output_type": "stream",
     "text": [
      " 18%|█████████████▎                                                             | 41/232 [00:49<03:50,  1.20s/it]"
     ]
    },
    {
     "name": "stdout",
     "output_type": "stream",
     "text": [
      "chlorpromazine smiles: CN(C)CCCN1C2=CC=CC=C2SC3=C1C=C(C=C3)Cl\n",
      "['chlorpromazine', 'CN(C)CCCN1C2=CC=CC=C2SC3=C1C=C(C=C3)Cl', 3, 0, 318.87300000000005, 4.894400000000004, 92.19400000000005, 6.48, 4]\n"
     ]
    },
    {
     "name": "stderr",
     "output_type": "stream",
     "text": [
      " 18%|█████████████▌                                                             | 42/232 [00:50<03:46,  1.19s/it]"
     ]
    },
    {
     "name": "stdout",
     "output_type": "stream",
     "text": [
      "cisapride smiles: COC1CN(CCC1NC(=O)C2=CC(=C(C=C2OC)N)Cl)CCCOC3=CC=C(C=C3)F\n",
      "['cisapride', 'COC1CN(CCC1NC(=O)C2=CC(=C(C=C2OC)N)Cl)CCCOC3=CC=C(C=C3)F', 6, 2, 465.95300000000026, 3.358100000000001, 122.03660000000005, 86.05, 9]\n"
     ]
    },
    {
     "name": "stderr",
     "output_type": "stream",
     "text": [
      " 19%|█████████████▉                                                             | 43/232 [00:51<03:46,  1.20s/it]"
     ]
    },
    {
     "name": "stdout",
     "output_type": "stream",
     "text": [
      "clemastin smiles: CC(C1=CC=CC=C1)(C2=CC=C(C=C2)Cl)OCCC3CCCN3C\n",
      "['clemastin', 'CC(C1=CC=CC=C1)(C2=CC=C(C=C2)Cl)OCCC3CCCN3C', 2, 0, 343.8980000000002, 5.104400000000005, 100.56900000000007, 12.47, 6]\n"
     ]
    },
    {
     "name": "stderr",
     "output_type": "stream",
     "text": [
      " 19%|██████████████▏                                                            | 44/232 [00:52<03:45,  1.20s/it]"
     ]
    },
    {
     "name": "stdout",
     "output_type": "stream",
     "text": [
      "chlorothiazide smiles: C1=C2C(=CC(=C1Cl)S(=O)(=O)N)S(=O)(=O)N=CN2\n",
      "['chlorothiazide', 'C1=C2C(=CC(=C1Cl)S(=O)(=O)N)S(=O)(=O)N=CN2', 5, 2, 295.729, 0.12989999999999996, 62.1257, 118.68999999999998, 1]\n"
     ]
    },
    {
     "name": "stderr",
     "output_type": "stream",
     "text": [
      " 19%|██████████████▌                                                            | 45/232 [00:53<03:42,  1.19s/it]"
     ]
    },
    {
     "name": "stdout",
     "output_type": "stream",
     "text": [
      "desipramine smiles: CNCCCN1C2=CC=CC=C2CCC3=CC=CC=C31\n",
      "['desipramine', 'CNCCCN1C2=CC=CC=C2CCC3=CC=CC=C31', 2, 1, 266.388, 3.5328000000000026, 85.84170000000005, 15.27, 4]\n"
     ]
    },
    {
     "name": "stderr",
     "output_type": "stream",
     "text": [
      " 20%|██████████████▊                                                            | 46/232 [00:55<03:42,  1.20s/it]"
     ]
    },
    {
     "name": "stdout",
     "output_type": "stream",
     "text": [
      "dextropropoxyphene smiles: CCC(=O)OC(CC1=CC=CC=C1)(C2=CC=CC=C2)C(C)CN(C)C\n",
      "['dextropropoxyphene', 'CCC(=O)OC(CC1=CC=CC=C1)(C2=CC=CC=C2)C(C)CN(C)C', 3, 0, 339.47900000000016, 4.275500000000004, 102.36700000000008, 29.54, 8]\n"
     ]
    },
    {
     "name": "stderr",
     "output_type": "stream",
     "text": [
      " 20%|███████████████▏                                                           | 47/232 [00:56<03:48,  1.23s/it]"
     ]
    },
    {
     "name": "stdout",
     "output_type": "stream",
     "text": [
      "diltiazem smiles: CC(=O)OC1C(SC2=CC=CC=C2N(C1=O)CCN(C)C)C3=CC=C(C=C3)OC\n",
      "['diltiazem', 'CC(=O)OC1C(SC2=CC=CC=C2N(C1=O)CCN(C)C)C3=CC=C(C=C3)OC', 6, 0, 414.5270000000002, 3.368500000000002, 114.49500000000003, 59.08, 6]\n"
     ]
    },
    {
     "name": "stderr",
     "output_type": "stream",
     "text": [
      " 21%|███████████████▌                                                           | 48/232 [00:57<03:46,  1.23s/it]"
     ]
    },
    {
     "name": "stdout",
     "output_type": "stream",
     "text": [
      "diprafenone smiles: CCC(C)(C)NCC(COC1=CC=CC=C1C(=O)CCC2=CC=CC=C2)O\n",
      "['diprafenone', 'CCC(C)(C)NCC(COC1=CC=CC=C1C(=O)CCC2=CC=CC=C2)O', 4, 2, 369.5050000000001, 4.020000000000004, 109.41000000000004, 58.56, 11]\n"
     ]
    },
    {
     "name": "stderr",
     "output_type": "stream",
     "text": [
      " 21%|███████████████▊                                                           | 49/232 [00:58<03:46,  1.24s/it]"
     ]
    },
    {
     "name": "stdout",
     "output_type": "stream",
     "text": [
      "doxepin smiles: CN(C)CCC=C1C2=CC=CC=C2COC3=CC=CC=C31\n",
      "['doxepin', 'CN(C)CCC=C1C2=CC=CC=C2COC3=CC=CC=C31', 2, 0, 279.383, 3.9624000000000033, 87.46600000000005, 12.47, 3]\n"
     ]
    },
    {
     "name": "stderr",
     "output_type": "stream",
     "text": [
      " 22%|████████████████▏                                                          | 50/232 [01:00<03:40,  1.21s/it]"
     ]
    },
    {
     "name": "stdout",
     "output_type": "stream",
     "text": [
      "encainide smiles: CN1CCCCC1CCC2=CC=CC=C2NC(=O)C3=CC=C(C=C3)OC\n",
      "['encainide', 'CN1CCCCC1CCC2=CC=CC=C2NC(=O)C3=CC=C(C=C3)OC', 3, 1, 352.4780000000001, 4.364400000000003, 105.97920000000005, 41.57000000000001, 6]\n"
     ]
    },
    {
     "name": "stderr",
     "output_type": "stream",
     "text": [
      " 22%|████████████████▍                                                          | 51/232 [01:00<03:23,  1.12s/it]"
     ]
    },
    {
     "name": "stdout",
     "output_type": "stream",
     "text": [
      "compound not found: ethinyl, skipping\n"
     ]
    },
    {
     "name": "stderr",
     "output_type": "stream",
     "text": [
      " 22%|████████████████▊                                                          | 52/232 [01:02<03:24,  1.14s/it]"
     ]
    },
    {
     "name": "stdout",
     "output_type": "stream",
     "text": [
      "etilefrine smiles: CCNCC(C1=CC(=CC=C1)O)O\n",
      "['etilefrine', 'CCNCC(C1=CC(=CC=C1)O)O', 3, 3, 181.23499999999999, 1.0350999999999997, 51.61030000000003, 52.489999999999995, 4]\n"
     ]
    },
    {
     "name": "stderr",
     "output_type": "stream",
     "text": [
      " 23%|█████████████████▏                                                         | 53/232 [01:03<03:25,  1.15s/it]"
     ]
    },
    {
     "name": "stdout",
     "output_type": "stream",
     "text": [
      "famotidine smiles: C1=C(N=C(S1)N=C(N)N)CSCCC(=NS(=O)(=O)N)N\n",
      "['famotidine', 'C1=C(N=C(S1)N=C(N)N)CSCCC(=NS(=O)(=O)N)N', 6, 4, 337.4560000000001, -0.7679999999999998, 83.0924, 175.83, 7]\n"
     ]
    },
    {
     "name": "stderr",
     "output_type": "stream",
     "text": [
      " 23%|█████████████████▍                                                         | 54/232 [01:04<03:23,  1.15s/it]"
     ]
    },
    {
     "name": "stdout",
     "output_type": "stream",
     "text": [
      "fluorouracil smiles: C1=C(C(=O)NC(=O)N1)F\n",
      "['fluorouracil', 'C1=C(C(=O)NC(=O)N1)F', 2, 2, 130.07799999999997, -0.7977000000000001, 27.641399999999997, 65.72, 0]\n"
     ]
    },
    {
     "name": "stderr",
     "output_type": "stream",
     "text": [
      " 24%|█████████████████▊                                                         | 55/232 [01:05<03:26,  1.17s/it]"
     ]
    },
    {
     "name": "stdout",
     "output_type": "stream",
     "text": [
      "imipramine smiles: CN(C)CCCN1C2=CC=CC=C2CCC3=CC=CC=C31\n",
      "['imipramine', 'CN(C)CCCN1C2=CC=CC=C2CCC3=CC=CC=C31', 2, 0, 280.415, 3.8750000000000027, 90.46900000000007, 6.48, 4]\n"
     ]
    },
    {
     "name": "stderr",
     "output_type": "stream",
     "text": [
      " 24%|██████████████████                                                         | 56/232 [01:06<03:26,  1.17s/it]"
     ]
    },
    {
     "name": "stdout",
     "output_type": "stream",
     "text": [
      "indoramine smiles: C1CN(CCC1NC(=O)C2=CC=CC=C2)CCC3=CNC4=CC=CC=C43\n",
      "['indoramine', 'C1CN(CCC1NC(=O)C2=CC=CC=C2)CCC3=CNC4=CC=CC=C43', 2, 2, 347.46200000000005, 3.604800000000002, 105.37290000000003, 48.13, 5]\n"
     ]
    },
    {
     "name": "stderr",
     "output_type": "stream",
     "text": [
      " 25%|██████████████████▍                                                        | 57/232 [01:07<03:22,  1.16s/it]"
     ]
    },
    {
     "name": "stdout",
     "output_type": "stream",
     "text": [
      "isoprenaline smiles: CC(C)NCC(C1=CC(=C(C=C1)O)O)O\n",
      "['isoprenaline', 'CC(C)NCC(C1=CC(=C(C=C1)O)O)O', 4, 4, 211.261, 1.1291999999999998, 57.870100000000036, 72.72, 4]\n"
     ]
    },
    {
     "name": "stderr",
     "output_type": "stream",
     "text": [
      " 25%|██████████████████▊                                                        | 58/232 [01:09<03:24,  1.17s/it]"
     ]
    },
    {
     "name": "stdout",
     "output_type": "stream",
     "text": [
      "isotretinoin smiles: CC1=C(C(CCC1)(C)C)C=CC(=CC=CC(=CC(=O)O)C)C\n",
      "['isotretinoin', 'CC1=C(C(CCC1)(C)C)C=CC(=CC=CC(=CC(=O)O)C)C', 1, 1, 300.44200000000006, 5.602600000000005, 93.76180000000005, 37.3, 5]\n"
     ]
    },
    {
     "name": "stderr",
     "output_type": "stream",
     "text": [
      " 25%|███████████████████                                                        | 59/232 [01:10<03:32,  1.23s/it]"
     ]
    },
    {
     "name": "stdout",
     "output_type": "stream",
     "text": [
      "labetalol smiles: CC(CCC1=CC=CC=C1)NCC(C2=CC(=C(C=C2)O)C(=O)N)O\n",
      "['labetalol', 'CC(CCC1=CC=CC=C1)NCC(C2=CC(=C(C=C2)O)C(=O)N)O', 4, 4, 328.41200000000003, 2.1353999999999997, 93.81220000000005, 95.58, 8]\n"
     ]
    },
    {
     "name": "stderr",
     "output_type": "stream",
     "text": [
      " 26%|███████████████████▍                                                       | 60/232 [01:11<03:29,  1.22s/it]"
     ]
    },
    {
     "name": "stdout",
     "output_type": "stream",
     "text": [
      "lidocaine smiles: CCN(CC)CC(=O)NC1=C(C=CC=C1C)C\n",
      "['lidocaine', 'CCN(CC)CC(=O)NC1=C(C=CC=C1C)C', 2, 1, 234.343, 2.5837400000000006, 72.33370000000004, 32.34, 5]\n"
     ]
    },
    {
     "name": "stderr",
     "output_type": "stream",
     "text": [
      " 26%|███████████████████▋                                                       | 61/232 [01:13<03:31,  1.24s/it]"
     ]
    },
    {
     "name": "stdout",
     "output_type": "stream",
     "text": [
      "lorcainide smiles: CC(C)N1CCC(CC1)N(C2=CC=C(C=C2)Cl)C(=O)CC3=CC=CC=C3\n",
      "['lorcainide', 'CC(C)N1CCC(CC1)N(C2=CC=C(C=C2)Cl)C(=O)CC3=CC=CC=C3', 2, 0, 370.92400000000015, 4.788500000000004, 108.81500000000004, 23.55, 5]\n"
     ]
    },
    {
     "name": "stderr",
     "output_type": "stream",
     "text": [
      " 27%|████████████████████                                                       | 62/232 [01:14<03:26,  1.21s/it]"
     ]
    },
    {
     "name": "stdout",
     "output_type": "stream",
     "text": [
      "medifoxamine smiles: CN(C)CC(OC1=CC=CC=C1)OC2=CC=CC=C2\n",
      "['medifoxamine', 'CN(C)CC(OC1=CC=CC=C1)OC2=CC=CC=C2', 3, 0, 257.33299999999997, 3.0321000000000016, 76.48200000000006, 21.700000000000003, 6]\n"
     ]
    },
    {
     "name": "stderr",
     "output_type": "stream",
     "text": [
      " 27%|████████████████████▎                                                      | 63/232 [01:15<03:23,  1.21s/it]"
     ]
    },
    {
     "name": "stdout",
     "output_type": "stream",
     "text": [
      "metoprolol smiles: CC(C)NCC(COC1=CC=C(C=C1)CCOC)O\n",
      "['metoprolol', 'CC(C)NCC(COC1=CC=C(C=C1)CCOC)O', 4, 2, 267.36899999999997, 1.6131999999999997, 76.66250000000004, 50.72, 9]\n"
     ]
    },
    {
     "name": "stderr",
     "output_type": "stream",
     "text": [
      " 28%|████████████████████▋                                                      | 64/232 [01:16<03:24,  1.22s/it]"
     ]
    },
    {
     "name": "stdout",
     "output_type": "stream",
     "text": [
      "mianserin smiles: CN1CCN2C(C1)C3=CC=CC=C3CC4=CC=CC=C42\n",
      "['mianserin', 'CN1CCN2C(C1)C3=CC=CC=C3CC4=CC=CC=C42', 2, 0, 264.372, 3.0839000000000016, 83.27400000000006, 6.48, 0]\n"
     ]
    },
    {
     "name": "stderr",
     "output_type": "stream",
     "text": [
      " 28%|█████████████████████                                                      | 65/232 [01:17<03:19,  1.20s/it]"
     ]
    },
    {
     "name": "stdout",
     "output_type": "stream",
     "text": [
      "midazolam smiles: CC1=NC=C2N1C3=C(C=C(C=C3)Cl)C(=NC2)C4=CC=CC=C4F\n",
      "['midazolam', 'CC1=NC=C2N1C3=C(C=C(C=C3)Cl)C(=NC2)C4=CC=CC=C4F', 3, 0, 325.774, 4.324220000000002, 89.05400000000003, 30.18, 1]\n"
     ]
    },
    {
     "name": "stderr",
     "output_type": "stream",
     "text": [
      " 28%|█████████████████████▎                                                     | 66/232 [01:19<04:08,  1.50s/it]"
     ]
    },
    {
     "name": "stdout",
     "output_type": "stream",
     "text": [
      "moricizine smiles: CCOC(=O)NC1=CC2=C(C=C1)SC3=CC=CC=C3N2C(=O)CCN4CCOCC4\n",
      "['moricizine', 'CCOC(=O)NC1=CC2=C(C=C1)SC3=CC=CC=C3N2C(=O)CCN4CCOCC4', 6, 1, 427.52600000000035, 4.106600000000004, 116.67370000000005, 71.11, 5]\n"
     ]
    },
    {
     "name": "stderr",
     "output_type": "stream",
     "text": [
      " 29%|█████████████████████▋                                                     | 67/232 [01:21<03:52,  1.41s/it]"
     ]
    },
    {
     "name": "stdout",
     "output_type": "stream",
     "text": [
      "morphine smiles: CN1CCC23C4C1CC5=C2C(=C(C=C5)O)OC3C(C=C4)O\n",
      "['morphine', 'CN1CCC23C4C1CC5=C2C(=C(C=C5)O)OC3C(C=C4)O', 4, 2, 285.343, 1.1981, 77.57660000000003, 52.93000000000001, 0]\n"
     ]
    },
    {
     "name": "stderr",
     "output_type": "stream",
     "text": [
      " 29%|█████████████████████▉                                                     | 68/232 [01:22<03:40,  1.34s/it]"
     ]
    },
    {
     "name": "stdout",
     "output_type": "stream",
     "text": [
      "nadolol smiles: CC(C)(C)NCC(COC1=CC=CC2=C1CC(C(C2)O)O)O\n",
      "['nadolol', 'CC(C)(C)NCC(COC1=CC=CC2=C1CC(C(C2)O)O)O', 5, 4, 309.40600000000006, 0.6348, 85.12110000000003, 81.95, 5]\n"
     ]
    },
    {
     "name": "stderr",
     "output_type": "stream",
     "text": [
      " 30%|██████████████████████▎                                                    | 69/232 [01:23<03:36,  1.33s/it]"
     ]
    },
    {
     "name": "stdout",
     "output_type": "stream",
     "text": [
      "nafcillin smiles: CCOC1=C(C2=CC=CC=C2C=C1)C(=O)NC3C4N(C3=O)C(C(S4)(C)C)C(=O)O\n",
      "['nafcillin', 'CCOC1=C(C2=CC=CC=C2C=C1)C(=O)NC3C4N(C3=O)C(C(S4)(C)C)C(=O)O', 5, 2, 414.4830000000002, 2.4837999999999996, 110.09900000000006, 95.94000000000001, 5]\n"
     ]
    },
    {
     "name": "stderr",
     "output_type": "stream",
     "text": [
      " 30%|██████████████████████▋                                                    | 70/232 [01:24<03:35,  1.33s/it]"
     ]
    },
    {
     "name": "stdout",
     "output_type": "stream",
     "text": [
      "naltrexone smiles: C1CC1CN2CCC34C5C(=O)CCC3(C2CC6=C4C(=C(C=C6)O)O5)O\n",
      "['naltrexone', 'C1CC1CN2CCC34C5C(=O)CCC3(C2CC6=C4C(=C(C=C6)O)O5)O', 5, 2, 341.407, 1.5253999999999994, 89.79760000000005, 70.00000000000001, 2]\n"
     ]
    },
    {
     "name": "stderr",
     "output_type": "stream",
     "text": [
      " 31%|██████████████████████▉                                                    | 71/232 [01:26<03:29,  1.30s/it]"
     ]
    },
    {
     "name": "stdout",
     "output_type": "stream",
     "text": [
      "nicardipine smiles: CC1=C(C(C(=C(N1)C)C(=O)OCCN(C)CC2=CC=CC=C2)C3=CC(=CC=C3)[N+](=O)[O-])C(=O)OC\n",
      "['nicardipine', 'CC1=C(C(C(=C(N1)C)C(=O)OCCN(C)CC2=CC=CC=C2)C3=CC(=CC=C3)[N+](=O)[O-])C(=O)OC', 8, 1, 479.5330000000002, 3.677800000000003, 130.1241, 111.01, 9]\n"
     ]
    },
    {
     "name": "stderr",
     "output_type": "stream",
     "text": [
      " 31%|███████████████████████▎                                                   | 72/232 [01:27<03:20,  1.25s/it]"
     ]
    },
    {
     "name": "stdout",
     "output_type": "stream",
     "text": [
      "nicotine smiles: CN1CCCC1C2=CN=CC=C2\n",
      "['nicotine', 'CN1CCCC1C2=CN=CC=C2', 2, 0, 162.23600000000002, 1.8483, 48.842000000000034, 16.130000000000003, 1]\n"
     ]
    },
    {
     "name": "stderr",
     "output_type": "stream",
     "text": [
      " 31%|███████████████████████▌                                                   | 73/232 [01:28<03:16,  1.24s/it]"
     ]
    },
    {
     "name": "stdout",
     "output_type": "stream",
     "text": [
      "oxacillin smiles: CC1=C(C(=NO1)C2=CC=CC=C2)C(=O)NC3C4N(C3=O)C(C(S4)(C)C)C(=O)O\n",
      "['oxacillin', 'CC1=C(C(=NO1)C2=CC=CC=C2)C(=O)NC3C4N(C3=O)C(C(S4)(C)C)C(=O)O', 6, 2, 401.4440000000002, 1.8953199999999997, 101.65800000000006, 112.74, 4]\n"
     ]
    },
    {
     "name": "stderr",
     "output_type": "stream",
     "text": [
      " 32%|███████████████████████▉                                                   | 74/232 [01:29<03:11,  1.21s/it]"
     ]
    },
    {
     "name": "stdout",
     "output_type": "stream",
     "text": [
      "oxprenolol smiles: CC(C)NCC(COC1=CC=CC=C1OCC=C)O\n",
      "['oxprenolol', 'CC(C)NCC(COC1=CC=CC=C1OCC=C)O', 4, 2, 265.35299999999995, 1.9891, 76.77450000000003, 50.72, 9]\n"
     ]
    },
    {
     "name": "stderr",
     "output_type": "stream",
     "text": [
      " 32%|████████████████████████▏                                                  | 75/232 [01:30<03:10,  1.21s/it]"
     ]
    },
    {
     "name": "stdout",
     "output_type": "stream",
     "text": [
      "pentazocine smiles: CC1C2CC3=C(C1(CCN2CC=C(C)C)C)C=C(C=C3)O\n",
      "['pentazocine', 'CC1C2CC3=C(C1(CCN2CC=C(C)C)C)C=C(C=C3)O', 2, 1, 285.431, 3.882600000000003, 87.73580000000005, 23.47, 2]\n"
     ]
    },
    {
     "name": "stderr",
     "output_type": "stream",
     "text": [
      " 33%|████████████████████████▌                                                  | 76/232 [01:32<03:06,  1.20s/it]"
     ]
    },
    {
     "name": "stdout",
     "output_type": "stream",
     "text": [
      "pentoxifylline smiles: CC(=O)CCCCN1C(=O)C2=C(N=CN2C)N(C1=O)C\n",
      "['pentoxifylline', 'CC(=O)CCCCN1C(=O)C2=C(N=CN2C)N(C1=O)C', 7, 0, 278.31200000000007, 0.1930000000000005, 74.74700000000003, 78.89, 5]\n"
     ]
    },
    {
     "name": "stderr",
     "output_type": "stream",
     "text": [
      " 33%|████████████████████████▉                                                  | 77/232 [01:33<03:04,  1.19s/it]"
     ]
    },
    {
     "name": "stdout",
     "output_type": "stream",
     "text": [
      "phenylephrine smiles: CNCC(C1=CC(=CC=C1)O)O\n",
      "['phenylephrine', 'CNCC(C1=CC(=CC=C1)O)O', 3, 3, 167.208, 0.6449999999999998, 46.99330000000003, 52.489999999999995, 3]\n"
     ]
    },
    {
     "name": "stderr",
     "output_type": "stream",
     "text": [
      " 34%|█████████████████████████▏                                                 | 78/232 [01:34<03:00,  1.18s/it]"
     ]
    },
    {
     "name": "stdout",
     "output_type": "stream",
     "text": [
      "pimozide smiles: C1CN(CCC1N2C3=CC=CC=C3NC2=O)CCCC(C4=CC=C(C=C4)F)C5=CC=C(C=C5)F\n",
      "['pimozide', 'C1CN(CCC1N2C3=CC=CC=C3NC2=O)CCCC(C4=CC=C(C=C4)F)C5=CC=C(C=C5)F', 3, 1, 461.55600000000015, 5.8570000000000055, 131.1467, 41.03, 7]\n"
     ]
    },
    {
     "name": "stderr",
     "output_type": "stream",
     "text": [
      " 34%|█████████████████████████▌                                                 | 79/232 [01:37<04:24,  1.73s/it]"
     ]
    },
    {
     "name": "stdout",
     "output_type": "stream",
     "text": [
      "pirenzepine smiles: CN1CCN(CC1)CC(=O)N2C3=CC=CC=C3C(=O)NC4=C2N=CC=C4\n",
      "['pirenzepine', 'CN1CCN(CC1)CC(=O)N2C3=CC=CC=C3C(=O)NC4=C2N=CC=C4', 5, 1, 351.4100000000001, 1.559399999999999, 99.71520000000002, 68.78, 2]\n"
     ]
    },
    {
     "name": "stderr",
     "output_type": "stream",
     "text": [
      " 34%|█████████████████████████▊                                                 | 80/232 [01:38<03:57,  1.56s/it]"
     ]
    },
    {
     "name": "stdout",
     "output_type": "stream",
     "text": [
      "prenalterol smiles: CC(C)NCC(COC1=CC=C(C=C1)O)O\n",
      "['prenalterol', 'CC(C)NCC(COC1=CC=C(C=C1)O)O', 4, 3, 225.288, 1.1298999999999995, 62.74730000000004, 61.72, 6]\n"
     ]
    },
    {
     "name": "stderr",
     "output_type": "stream",
     "text": [
      " 35%|██████████████████████████▏                                                | 81/232 [01:39<03:42,  1.47s/it]"
     ]
    },
    {
     "name": "stdout",
     "output_type": "stream",
     "text": [
      "promethazine smiles: CC(CN1C2=CC=CC=C2SC3=CC=CC=C31)N(C)C\n",
      "['promethazine', 'CC(CN1C2=CC=CC=C2SC3=CC=CC=C31)N(C)C', 3, 0, 284.428, 4.239400000000003, 87.16200000000006, 6.48, 3]\n"
     ]
    },
    {
     "name": "stderr",
     "output_type": "stream",
     "text": [
      " 35%|██████████████████████████▌                                                | 82/232 [01:41<03:27,  1.38s/it]"
     ]
    },
    {
     "name": "stdout",
     "output_type": "stream",
     "text": [
      "propafenone smiles: CCCNCC(COC1=CC=CC=C1C(=O)CCC2=CC=CC=C2)O\n",
      "['propafenone', 'CCCNCC(COC1=CC=CC=C1C(=O)CCC2=CC=CC=C2)O', 4, 2, 341.451, 3.2414000000000027, 100.19800000000005, 58.56, 11]\n"
     ]
    },
    {
     "name": "stderr",
     "output_type": "stream",
     "text": [
      " 36%|██████████████████████████▊                                                | 83/232 [01:42<03:15,  1.31s/it]"
     ]
    },
    {
     "name": "stdout",
     "output_type": "stream",
     "text": [
      "propanolol smiles: CC(C)NCC(COC1=CC=CC2=CC=CC=C21)O\n",
      "['propanolol', 'CC(C)NCC(COC1=CC=CC2=CC=CC=C21)O', 3, 2, 259.349, 2.577500000000001, 78.58850000000005, 41.489999999999995, 6]\n"
     ]
    },
    {
     "name": "stderr",
     "output_type": "stream",
     "text": [
      " 36%|███████████████████████████▏                                               | 84/232 [01:43<03:17,  1.33s/it]"
     ]
    },
    {
     "name": "stdout",
     "output_type": "stream",
     "text": [
      "ritodrine smiles: CC(C(C1=CC=C(C=C1)O)O)NCCC2=CC=C(C=C2)O\n",
      "['ritodrine', 'CC(C(C1=CC=C(C=C1)O)O)NCCC2=CC=C(C=C2)O', 4, 4, 287.359, 2.3520000000000008, 82.34210000000003, 72.72, 6]\n"
     ]
    },
    {
     "name": "stderr",
     "output_type": "stream",
     "text": [
      " 37%|███████████████████████████▍                                               | 85/232 [01:44<03:07,  1.28s/it]"
     ]
    },
    {
     "name": "stdout",
     "output_type": "stream",
     "text": [
      "salbutamol smiles: CC(C)(C)NCC(C1=CC(=C(C=C1)O)CO)O\n",
      "['salbutamol', 'CC(C)(C)NCC(C1=CC(=C(C=C1)O)CO)O', 4, 4, 239.315, 1.3059999999999998, 66.74510000000004, 72.72, 4]\n"
     ]
    },
    {
     "name": "stderr",
     "output_type": "stream",
     "text": [
      " 37%|███████████████████████████▊                                               | 86/232 [01:45<03:05,  1.27s/it]"
     ]
    },
    {
     "name": "stdout",
     "output_type": "stream",
     "text": [
      "scopolamine smiles: CN1C2CC(CC1C3C2O3)OC(=O)C(CO)C4=CC=CC=C4\n",
      "['scopolamine', 'CN1C2CC(CC1C3C2O3)OC(=O)C(CO)C4=CC=CC=C4', 5, 1, 303.35799999999995, 0.9180999999999993, 79.38280000000005, 62.3, 4]\n"
     ]
    },
    {
     "name": "stderr",
     "output_type": "stream",
     "text": [
      " 38%|████████████████████████████▏                                              | 87/232 [01:47<03:01,  1.25s/it]"
     ]
    },
    {
     "name": "stdout",
     "output_type": "stream",
     "text": [
      "spironolactone smiles: CC(=O)SC1CC2=CC(=O)CCC2(C3C1C4CCC5(C4(CC3)C)CCC(=O)O5)C\n",
      "['spironolactone', 'CC(=O)SC1CC2=CC(=O)CCC2(C3C1C4CCC5(C4(CC3)C)CCC(=O)O5)C', 5, 0, 416.5830000000003, 4.852300000000005, 112.21000000000006, 60.44, 1]\n"
     ]
    },
    {
     "name": "stderr",
     "output_type": "stream",
     "text": [
      " 38%|████████████████████████████▍                                              | 88/232 [01:48<02:58,  1.24s/it]"
     ]
    },
    {
     "name": "stdout",
     "output_type": "stream",
     "text": [
      "sulpiride smiles: CCN1CCCC1CNC(=O)C2=C(C=CC(=C2)S(=O)(=O)N)OC\n",
      "['sulpiride', 'CCN1CCCC1CNC(=O)C2=C(C=CC(=C2)S(=O)(=O)N)OC', 5, 2, 341.4330000000001, 0.5567000000000012, 86.96940000000005, 101.73, 6]\n"
     ]
    },
    {
     "name": "stderr",
     "output_type": "stream",
     "text": [
      " 38%|████████████████████████████▊                                              | 89/232 [01:49<02:58,  1.25s/it]"
     ]
    },
    {
     "name": "stdout",
     "output_type": "stream",
     "text": [
      "thioridazine smiles: CN1CCCCC1CCN2C3=CC=CC=C3SC4=C2C=C(C=C4)SC\n",
      "['thioridazine', 'CN1CCCCC1CCN2C3=CC=CC=C3SC4=C2C=C(C=C4)SC', 4, 0, 370.5870000000001, 5.8856000000000055, 110.68000000000005, 6.48, 4]\n"
     ]
    },
    {
     "name": "stderr",
     "output_type": "stream",
     "text": [
      " 39%|█████████████████████████████                                              | 90/232 [01:50<02:54,  1.23s/it]"
     ]
    },
    {
     "name": "stdout",
     "output_type": "stream",
     "text": [
      "triazolam smiles: CC1=NN=C2N1C3=C(C=C(C=C3)Cl)C(=NC2)C4=CC=CC=C4Cl\n",
      "['triazolam', 'CC1=NN=C2N1C3=C(C=C(C=C3)Cl)C(=NC2)C4=CC=CC=C4Cl', 4, 0, 343.217, 4.233520000000002, 91.90100000000002, 43.07, 1]\n"
     ]
    },
    {
     "name": "stderr",
     "output_type": "stream",
     "text": [
      " 39%|█████████████████████████████▍                                             | 91/232 [01:52<02:55,  1.25s/it]"
     ]
    },
    {
     "name": "stdout",
     "output_type": "stream",
     "text": [
      "verapamil smiles: CC(C)C(CCCN(C)CCC1=CC(=C(C=C1)OC)OC)(C#N)C2=CC(=C(C=C2)OC)OC\n",
      "['verapamil', 'CC(C)C(CCCN(C)CCC1=CC(=C(C=C1)OC)OC)(C#N)C2=CC(=C(C=C2)OC)OC', 6, 0, 454.6110000000003, 5.093080000000005, 131.656, 63.95, 13]\n"
     ]
    },
    {
     "name": "stderr",
     "output_type": "stream",
     "text": [
      " 40%|█████████████████████████████▋                                             | 92/232 [01:53<02:49,  1.21s/it]"
     ]
    },
    {
     "name": "stdout",
     "output_type": "stream",
     "text": [
      "acetaminophen smiles: CC(=O)NC1=CC=C(C=C1)O\n",
      "['acetaminophen', 'CC(=O)NC1=CC=C(C=C1)O', 2, 2, 151.165, 1.3505999999999998, 42.41050000000002, 49.33, 1]\n"
     ]
    },
    {
     "name": "stderr",
     "output_type": "stream",
     "text": [
      " 40%|██████████████████████████████                                             | 93/232 [01:54<02:38,  1.14s/it]"
     ]
    },
    {
     "name": "stdout",
     "output_type": "stream",
     "text": [
      "compound not found: acetylsalicylic, skipping\n"
     ]
    },
    {
     "name": "stderr",
     "output_type": "stream",
     "text": [
      " 41%|██████████████████████████████▍                                            | 94/232 [01:55<02:38,  1.15s/it]"
     ]
    },
    {
     "name": "stdout",
     "output_type": "stream",
     "text": [
      "amantadine smiles: C1C2CC3CC1CC(C2)(C3)N\n",
      "['amantadine', 'C1C2CC3CC1CC(C2)(C3)N', 1, 1, 151.253, 1.9139000000000002, 45.09040000000002, 26.02, 0]\n"
     ]
    },
    {
     "name": "stderr",
     "output_type": "stream",
     "text": [
      " 41%|██████████████████████████████▋                                            | 95/232 [01:56<02:43,  1.19s/it]"
     ]
    },
    {
     "name": "stdout",
     "output_type": "stream",
     "text": [
      "amiodarone smiles: CCCCC1=C(C2=CC=CC=C2O1)C(=O)C3=CC(=C(C(=C3)I)OCCN(CC)CC)I\n",
      "['amiodarone', 'CCCCC1=C(C2=CC=CC=C2O1)C(=O)C3=CC(=C(C(=C3)I)OCCN(CC)CC)I', 4, 0, 645.3190000000002, 6.936200000000007, 143.41749999999985, 42.68, 11]\n"
     ]
    },
    {
     "name": "stderr",
     "output_type": "stream",
     "text": [
      " 41%|███████████████████████████████                                            | 96/232 [01:58<02:47,  1.23s/it]"
     ]
    },
    {
     "name": "stdout",
     "output_type": "stream",
     "text": [
      "amlodipine smiles: CCOC(=O)C1=C(NC(=C(C1C2=CC=CC=C2Cl)C(=O)OC)C)COCCN\n",
      "['amlodipine', 'CCOC(=O)C1=C(NC(=C(C1C2=CC=CC=C2Cl)C(=O)OC)C)COCCN', 7, 2, 408.88200000000035, 2.2663, 105.57710000000003, 99.88, 8]\n"
     ]
    },
    {
     "name": "stderr",
     "output_type": "stream",
     "text": [
      " 42%|███████████████████████████████▎                                           | 97/232 [01:59<02:42,  1.21s/it]"
     ]
    },
    {
     "name": "stdout",
     "output_type": "stream",
     "text": [
      "atenolol smiles: CC(C)NCC(COC1=CC=C(C=C1)CC(=O)N)O\n",
      "['atenolol', 'CC(C)NCC(COC1=CC=C(C=C1)CC(=O)N)O', 4, 3, 266.34099999999995, 0.4521, 73.98090000000002, 84.58, 8]\n"
     ]
    },
    {
     "name": "stderr",
     "output_type": "stream",
     "text": [
      " 42%|███████████████████████████████▋                                           | 98/232 [02:00<03:05,  1.38s/it]"
     ]
    },
    {
     "name": "stdout",
     "output_type": "stream",
     "text": [
      "atropine smiles: CN1C2CCC1CC(C2)OC(=O)C(CO)C3=CC=CC=C3\n",
      "['atropine', 'CN1C2CCC1CC(C2)OC(=O)C(CO)C3=CC=CC=C3', 4, 1, 289.375, 1.9309, 79.95580000000005, 49.769999999999996, 4]\n"
     ]
    },
    {
     "name": "stderr",
     "output_type": "stream",
     "text": [
      " 43%|████████████████████████████████                                           | 99/232 [02:02<03:16,  1.47s/it]"
     ]
    },
    {
     "name": "stdout",
     "output_type": "stream",
     "text": [
      "bepridil smiles: CC(C)COCC(CN(CC1=CC=CC=C1)C2=CC=CC=C2)N3CCCC3\n",
      "['bepridil', 'CC(C)COCC(CN(CC1=CC=CC=C1)C2=CC=CC=C2)N3CCCC3', 3, 0, 366.5490000000002, 4.830200000000005, 114.18600000000008, 15.71, 10]\n"
     ]
    },
    {
     "name": "stderr",
     "output_type": "stream",
     "text": [
      " 43%|███████████████████████████████▉                                          | 100/232 [02:03<03:07,  1.42s/it]"
     ]
    },
    {
     "name": "stdout",
     "output_type": "stream",
     "text": [
      "betamethasone smiles: CC1CC2C3CCC4=CC(=O)C=CC4(C3(C(CC2(C1(C(=O)CO)O)C)O)F)C\n",
      "['betamethasone', 'CC1CC2C3CCC4=CC(=O)C=CC4(C3(C(CC2(C1(C(=O)CO)O)C)O)F)C', 5, 3, 392.4670000000001, 1.8957, 99.94440000000004, 94.83000000000001, 2]\n"
     ]
    },
    {
     "name": "stderr",
     "output_type": "stream",
     "text": [
      " 44%|████████████████████████████████▏                                         | 101/232 [02:05<03:02,  1.40s/it]"
     ]
    },
    {
     "name": "stdout",
     "output_type": "stream",
     "text": [
      "bevantolol smiles: CC1=CC(=CC=C1)OCC(CNCCC2=CC(=C(C=C2)OC)OC)O\n",
      "['bevantolol', 'CC1=CC(=CC=C1)OCC(CNCCC2=CC(=C(C=C2)OC)OC)O', 5, 2, 345.4390000000001, 2.5842200000000006, 98.80050000000007, 59.95, 10]\n"
     ]
    },
    {
     "name": "stderr",
     "output_type": "stream",
     "text": [
      " 44%|████████████████████████████████▌                                         | 102/232 [02:06<02:54,  1.34s/it]"
     ]
    },
    {
     "name": "stdout",
     "output_type": "stream",
     "text": [
      "brotizolam smiles: CC1=NN=C2N1C3=C(C=C(S3)Br)C(=NC2)C4=CC=CC=C4Cl\n",
      "['brotizolam', 'CC1=NN=C2N1C3=C(C=C(S3)Br)C(=NC2)C4=CC=CC=C4Cl', 5, 0, 393.6970000000001, 4.4041200000000025, 92.468, 43.07, 1]\n"
     ]
    },
    {
     "name": "stderr",
     "output_type": "stream",
     "text": [
      " 44%|████████████████████████████████▊                                         | 103/232 [02:07<02:47,  1.30s/it]"
     ]
    },
    {
     "name": "stdout",
     "output_type": "stream",
     "text": [
      "bufuralol smiles: CCC1=CC=CC2=C1OC(=C2)C(CNC(C)(C)C)O\n",
      "['bufuralol', 'CCC1=CC=CC2=C1OC(=C2)C(CNC(C)(C)C)O', 3, 2, 261.36499999999995, 3.416700000000002, 78.30750000000005, 45.400000000000006, 4]\n"
     ]
    },
    {
     "name": "stderr",
     "output_type": "stream",
     "text": [
      " 45%|█████████████████████████████████▏                                        | 104/232 [02:08<02:42,  1.27s/it]"
     ]
    },
    {
     "name": "stdout",
     "output_type": "stream",
     "text": [
      "captopril smiles: CC(CS)C(=O)N1CCCC1C(=O)O\n",
      "['captopril', 'CC(CS)C(=O)N1CCCC1C(=O)O', 3, 2, 217.28999999999996, 0.6279000000000001, 55.38780000000003, 57.61, 3]\n"
     ]
    },
    {
     "name": "stderr",
     "output_type": "stream",
     "text": [
      " 45%|█████████████████████████████████▍                                        | 105/232 [02:10<02:37,  1.24s/it]"
     ]
    },
    {
     "name": "stdout",
     "output_type": "stream",
     "text": [
      "chloramphenicol smiles: C1=CC(=CC=C1C(C(CO)NC(=O)C(Cl)Cl)O)[N+](=O)[O-]\n",
      "['chloramphenicol', 'C1=CC(=CC=C1C(C(CO)NC(=O)C(Cl)Cl)O)[N+](=O)[O-]', 5, 3, 323.13200000000006, 0.9089999999999998, 72.5667, 112.70000000000002, 6]\n"
     ]
    },
    {
     "name": "stderr",
     "output_type": "stream",
     "text": [
      " 46%|█████████████████████████████████▊                                        | 106/232 [02:11<02:39,  1.26s/it]"
     ]
    },
    {
     "name": "stdout",
     "output_type": "stream",
     "text": [
      "chlorpheniramine smiles: CN(C)CCC(C1=CC=C(C=C1)Cl)C2=CC=CC=N2\n",
      "['chlorpheniramine', 'CN(C)CCC(C1=CC=C(C=C1)Cl)C2=CC=CC=N2', 2, 0, 274.795, 3.8186000000000027, 80.70300000000005, 16.130000000000003, 5]\n"
     ]
    },
    {
     "name": "stderr",
     "output_type": "stream",
     "text": [
      " 46%|██████████████████████████████████▏                                       | 107/232 [02:12<02:33,  1.23s/it]"
     ]
    },
    {
     "name": "stdout",
     "output_type": "stream",
     "text": [
      "chlorphthalidone smiles: C1=CC=C2C(=C1)C(=O)NC2(C3=CC(=C(C=C3)Cl)S(=O)(=O)N)O\n",
      "['chlorphthalidone', 'C1=CC=C2C(=C1)C(=O)NC2(C3=CC(=C(C=C3)Cl)S(=O)(=O)N)O', 4, 3, 338.77200000000005, 0.9242000000000001, 79.73220000000002, 109.49000000000001, 2]\n"
     ]
    },
    {
     "name": "stderr",
     "output_type": "stream",
     "text": [
      " 47%|██████████████████████████████████▍                                       | 108/232 [02:13<02:28,  1.20s/it]"
     ]
    },
    {
     "name": "stdout",
     "output_type": "stream",
     "text": [
      "cimetidine smiles: CC1=C(N=CN1)CSCCNC(=NC)NC#N\n",
      "['cimetidine', 'CC1=C(N=CN1)CSCCNC(=NC)NC#N', 4, 3, 252.347, 0.5973999999999998, 69.59710000000001, 88.88999999999999, 5]\n"
     ]
    },
    {
     "name": "stderr",
     "output_type": "stream",
     "text": [
      " 47%|██████████████████████████████████▊                                       | 109/232 [02:14<02:31,  1.23s/it]"
     ]
    },
    {
     "name": "stdout",
     "output_type": "stream",
     "text": [
      "clomipramine smiles: CN(C)CCCN1C2=CC=CC=C2CCC3=C1C=C(C=C3)Cl\n",
      "['clomipramine', 'CN(C)CCCN1C2=CC=CC=C2CCC3=C1C=C(C=C3)Cl', 2, 0, 314.86, 4.528400000000004, 95.47900000000006, 6.48, 4]\n"
     ]
    },
    {
     "name": "stderr",
     "output_type": "stream",
     "text": [
      " 47%|███████████████████████████████████                                       | 110/232 [02:16<02:33,  1.26s/it]"
     ]
    },
    {
     "name": "stdout",
     "output_type": "stream",
     "text": [
      "clopenthixol smiles: C1CN(CCN1CCC=C2C3=CC=CC=C3SC4=C2C=C(C=C4)Cl)CCO\n",
      "['clopenthixol', 'C1CN(CCN1CCC=C2C3=CC=CC=C3SC4=C2C=C(C=C4)Cl)CCO', 4, 1, 400.9750000000002, 4.236300000000004, 113.67880000000005, 26.71, 5]\n"
     ]
    },
    {
     "name": "stderr",
     "output_type": "stream",
     "text": [
      " 48%|███████████████████████████████████▍                                      | 111/232 [02:17<02:27,  1.22s/it]"
     ]
    },
    {
     "name": "stdout",
     "output_type": "stream",
     "text": [
      "clozapine smiles: CN1CCN(CC1)C2=NC3=C(C=CC(=C3)Cl)NC4=CC=CC=C42\n",
      "['clozapine', 'CN1CCN(CC1)C2=NC3=C(C=CC(=C3)Cl)NC4=CC=CC=C42', 4, 1, 326.8310000000001, 3.7227000000000023, 96.44370000000004, 30.869999999999997, 0]\n"
     ]
    },
    {
     "name": "stderr",
     "output_type": "stream",
     "text": [
      " 48%|███████████████████████████████████▋                                      | 112/232 [02:18<02:26,  1.22s/it]"
     ]
    },
    {
     "name": "stdout",
     "output_type": "stream",
     "text": [
      "codeine smiles: CN1CCC23C4C1CC5=C2C(=C(C=C5)OC)OC3C(C=C4)O\n",
      "['codeine', 'CN1CCC23C4C1CC5=C2C(=C(C=C5)OC)OC3C(C=C4)O', 4, 1, 299.37, 1.5011, 82.46380000000005, 41.93000000000001, 1]\n"
     ]
    },
    {
     "name": "stderr",
     "output_type": "stream",
     "text": [
      " 49%|████████████████████████████████████                                      | 113/232 [02:19<02:25,  1.22s/it]"
     ]
    },
    {
     "name": "stdout",
     "output_type": "stream",
     "text": [
      "dexamethasone smiles: CC1CC2C3CCC4=CC(=O)C=CC4(C3(C(CC2(C1(C(=O)CO)O)C)O)F)C\n",
      "['dexamethasone', 'CC1CC2C3CCC4=CC(=O)C=CC4(C3(C(CC2(C1(C(=O)CO)O)C)O)F)C', 5, 3, 392.4670000000001, 1.8957, 99.94440000000004, 94.83000000000001, 2]\n"
     ]
    },
    {
     "name": "stderr",
     "output_type": "stream",
     "text": [
      " 49%|████████████████████████████████████▎                                     | 114/232 [02:21<02:21,  1.20s/it]"
     ]
    },
    {
     "name": "stdout",
     "output_type": "stream",
     "text": [
      "diclofenac smiles: C1=CC=C(C(=C1)CC(=O)O)NC2=C(C=CC=C2Cl)Cl\n",
      "['diclofenac', 'C1=CC=C(C(=C1)CC(=O)O)NC2=C(C=CC=C2Cl)Cl', 2, 2, 296.153, 4.364100000000001, 77.52650000000003, 49.33, 4]\n"
     ]
    },
    {
     "name": "stderr",
     "output_type": "stream",
     "text": [
      " 50%|████████████████████████████████████▋                                     | 115/232 [02:22<02:19,  1.19s/it]"
     ]
    },
    {
     "name": "stdout",
     "output_type": "stream",
     "text": [
      "dicloxacillin smiles: CC1=C(C(=NO1)C2=C(C=CC=C2Cl)Cl)C(=O)NC3C4N(C3=O)C(C(S4)(C)C)C(=O)O\n",
      "['dicloxacillin', 'CC1=C(C(=NO1)C2=C(C=CC=C2Cl)Cl)C(=O)NC3C4N(C3=O)C(C(S4)(C)C)C(=O)O', 6, 2, 470.3340000000002, 3.2021200000000007, 111.67800000000004, 112.74, 4]\n"
     ]
    },
    {
     "name": "stderr",
     "output_type": "stream",
     "text": [
      " 50%|█████████████████████████████████████                                     | 116/232 [02:23<02:17,  1.18s/it]"
     ]
    },
    {
     "name": "stdout",
     "output_type": "stream",
     "text": [
      "diphenhydramine smiles: CN(C)CCOC(C1=CC=CC=C1)C2=CC=CC=C2\n",
      "['diphenhydramine', 'CN(C)CCOC(C1=CC=CC=C1)C2=CC=CC=C2', 2, 0, 255.36100000000002, 3.3542000000000023, 79.23300000000006, 12.47, 6]\n"
     ]
    },
    {
     "name": "stderr",
     "output_type": "stream",
     "text": [
      " 50%|█████████████████████████████████████▎                                    | 117/232 [02:24<02:19,  1.21s/it]"
     ]
    },
    {
     "name": "stdout",
     "output_type": "stream",
     "text": [
      "doxazosin smiles: COC1=C(C=C2C(=C1)C(=NC(=N2)N3CCN(CC3)C(=O)C4COC5=CC=CC=C5O4)N)OC\n",
      "['doxazosin', 'COC1=C(C=C2C(=C1)C(=NC(=N2)N3CCN(CC3)C(=O)C4COC5=CC=CC=C5O4)N)OC', 9, 1, 451.4830000000002, 1.7177999999999995, 122.20040000000002, 112.27000000000001, 4]\n"
     ]
    },
    {
     "name": "stderr",
     "output_type": "stream",
     "text": [
      " 51%|█████████████████████████████████████▋                                    | 118/232 [02:25<02:15,  1.19s/it]"
     ]
    },
    {
     "name": "stdout",
     "output_type": "stream",
     "text": [
      "enoximone smiles: CC1=C(NC(=O)N1)C(=O)C2=CC=C(C=C2)SC\n",
      "['enoximone', 'CC1=C(NC(=O)N1)C(=O)C2=CC=C(C=C2)SC', 3, 2, 248.30700000000002, 1.9643199999999998, 67.80590000000002, 65.72, 3]\n"
     ]
    },
    {
     "name": "stderr",
     "output_type": "stream",
     "text": [
      " 51%|█████████████████████████████████████▉                                    | 119/232 [02:26<02:13,  1.18s/it]"
     ]
    },
    {
     "name": "stdout",
     "output_type": "stream",
     "text": [
      "ethambutol smiles: CCC(CO)NCCNC(CC)CO\n",
      "['ethambutol', 'CCC(CO)NCCNC(CC)CO', 4, 4, 204.314, -0.292599999999999, 58.33500000000005, 64.52, 9]\n"
     ]
    },
    {
     "name": "stderr",
     "output_type": "stream",
     "text": [
      " 52%|██████████████████████████████████████▎                                   | 120/232 [02:28<02:13,  1.20s/it]"
     ]
    },
    {
     "name": "stdout",
     "output_type": "stream",
     "text": [
      "finasteride smiles: CC12CCC3C(C1CCC2C(=O)NC(C)(C)C)CCC4C3(C=CC(=O)N4)C\n",
      "['finasteride', 'CC12CCC3C(C1CCC2C(=O)NC(C)(C)C)CCC4C3(C=CC(=O)N4)C', 2, 2, 372.5530000000001, 3.8145000000000024, 106.84240000000007, 58.2, 1]\n"
     ]
    },
    {
     "name": "stderr",
     "output_type": "stream",
     "text": [
      " 52%|██████████████████████████████████████▌                                   | 121/232 [02:29<02:13,  1.20s/it]"
     ]
    },
    {
     "name": "stdout",
     "output_type": "stream",
     "text": [
      "fluoxetine smiles: CNCCC(C1=CC=CC=C1)OC2=CC=C(C=C2)C(F)(F)F\n",
      "['fluoxetine', 'CNCCC(C1=CC=CC=C1)OC2=CC=C(C=C2)C(F)(F)F', 2, 1, 309.33099999999996, 4.435000000000003, 79.79870000000004, 21.259999999999998, 6]\n"
     ]
    },
    {
     "name": "stderr",
     "output_type": "stream",
     "text": [
      " 53%|██████████████████████████████████████▉                                   | 122/232 [02:31<02:27,  1.34s/it]"
     ]
    },
    {
     "name": "stdout",
     "output_type": "stream",
     "text": [
      "flupenthixol smiles: C1CN(CCN1CCC=C2C3=CC=CC=C3SC4=C2C=C(C=C4)C(F)(F)F)CCO\n",
      "['flupenthixol', 'C1CN(CCN1CCC=C2C3=CC=CC=C3SC4=C2C=C(C=C4)C(F)(F)F)CCO', 4, 1, 434.52700000000016, 4.6017000000000055, 113.67080000000006, 26.71, 5]\n"
     ]
    },
    {
     "name": "stderr",
     "output_type": "stream",
     "text": [
      " 53%|███████████████████████████████████████▏                                  | 123/232 [02:32<02:20,  1.29s/it]"
     ]
    },
    {
     "name": "stdout",
     "output_type": "stream",
     "text": [
      "fluvoxamine smiles: COCCCCC(=NOCCN)C1=CC=C(C=C1)C(F)(F)F\n",
      "['fluvoxamine', 'COCCCCC(=NOCCN)C1=CC=C(C=C1)C(F)(F)F', 4, 1, 318.339, 3.201500000000001, 78.71440000000003, 56.84, 9]\n"
     ]
    },
    {
     "name": "stderr",
     "output_type": "stream",
     "text": [
      " 53%|███████████████████████████████████████▌                                  | 124/232 [02:33<02:15,  1.26s/it]"
     ]
    },
    {
     "name": "stdout",
     "output_type": "stream",
     "text": [
      "furosemide smiles: C1=COC(=C1)CNC2=CC(=C(C=C2C(=O)O)S(=O)(=O)N)Cl\n",
      "['furosemide', 'C1=COC(=C1)CNC2=CC(=C(C=C2C(=O)O)S(=O)(=O)N)Cl', 5, 3, 330.749, 1.8907, 75.81920000000001, 122.62999999999998, 5]\n"
     ]
    },
    {
     "name": "stderr",
     "output_type": "stream",
     "text": [
      " 54%|███████████████████████████████████████▊                                  | 125/232 [02:34<02:18,  1.29s/it]"
     ]
    },
    {
     "name": "stdout",
     "output_type": "stream",
     "text": [
      "haloperidol smiles: C1CN(CCC1(C2=CC=C(C=C2)Cl)O)CCCC(=O)C3=CC=C(C=C3)F\n",
      "['haloperidol', 'C1CN(CCC1(C2=CC=C(C=C2)Cl)O)CCCC(=O)C3=CC=C(C=C3)F', 3, 1, 375.87100000000004, 4.425600000000004, 100.98730000000005, 40.54, 6]\n"
     ]
    },
    {
     "name": "stderr",
     "output_type": "stream",
     "text": [
      " 54%|████████████████████████████████████████▏                                 | 126/232 [02:35<02:13,  1.26s/it]"
     ]
    },
    {
     "name": "stdout",
     "output_type": "stream",
     "text": [
      "hydrochlorothiazide smiles: C1NC2=CC(=C(C=C2S(=O)(=O)N1)S(=O)(=O)N)Cl\n",
      "['hydrochlorothiazide', 'C1NC2=CC(=C(C=C2S(=O)(=O)N1)S(=O)(=O)N)Cl', 5, 3, 297.745, -0.3512999999999999, 61.636400000000016, 118.36, 1]\n"
     ]
    },
    {
     "name": "stderr",
     "output_type": "stream",
     "text": [
      " 55%|████████████████████████████████████████▌                                 | 127/232 [02:37<02:10,  1.24s/it]"
     ]
    },
    {
     "name": "stdout",
     "output_type": "stream",
     "text": [
      "levobunolol smiles: CC(C)(C)NCC(COC1=CC=CC2=C1CCCC2=O)O\n",
      "['levobunolol', 'CC(C)(C)NCC(COC1=CC=CC2=C1CCCC2=O)O', 4, 2, 291.391, 2.3334000000000006, 82.96800000000003, 58.56, 5]\n"
     ]
    },
    {
     "name": "stderr",
     "output_type": "stream",
     "text": [
      " 55%|████████████████████████████████████████▊                                 | 128/232 [02:38<02:07,  1.23s/it]"
     ]
    },
    {
     "name": "stdout",
     "output_type": "stream",
     "text": [
      "levomepromazine smiles: CC(CN1C2=CC=CC=C2SC3=C1C=C(C=C3)OC)CN(C)C\n",
      "['levomepromazine', 'CC(CN1C2=CC=CC=C2SC3=C1C=C(C=C3)OC)CN(C)C', 4, 0, 328.48100000000005, 4.495600000000005, 98.28300000000007, 15.71, 5]\n"
     ]
    },
    {
     "name": "stderr",
     "output_type": "stream",
     "text": [
      " 56%|█████████████████████████████████████████▏                                | 129/232 [02:39<02:05,  1.21s/it]"
     ]
    },
    {
     "name": "stdout",
     "output_type": "stream",
     "text": [
      "maprotiline smiles: CNCCCC12CCC(C3=CC=CC=C31)C4=CC=CC=C24\n",
      "['maprotiline', 'CNCCCC12CCC(C3=CC=CC=C31)C4=CC=CC=C24', 1, 1, 277.41100000000006, 4.211400000000004, 87.90170000000006, 12.03, 4]\n"
     ]
    },
    {
     "name": "stderr",
     "output_type": "stream",
     "text": [
      " 56%|█████████████████████████████████████████▍                                | 130/232 [02:40<02:02,  1.20s/it]"
     ]
    },
    {
     "name": "stdout",
     "output_type": "stream",
     "text": [
      "meperidine smiles: CCOC(=O)C1(CCN(CC1)C)C2=CC=CC=C2\n",
      "['meperidine', 'CCOC(=O)C1(CCN(CC1)C)C2=CC=CC=C2', 3, 0, 247.338, 2.2131, 71.48400000000005, 29.54, 3]\n"
     ]
    },
    {
     "name": "stderr",
     "output_type": "stream",
     "text": [
      " 56%|█████████████████████████████████████████▊                                | 131/232 [02:41<02:01,  1.21s/it]"
     ]
    },
    {
     "name": "stdout",
     "output_type": "stream",
     "text": [
      "metoclopramide smiles: CCN(CC)CCNC(=O)C1=CC(=C(C=C1OC)N)Cl\n",
      "['metoclopramide', 'CCN(CC)CCNC(=O)C1=CC(=C(C=C1OC)N)Cl', 4, 2, 299.802, 2.0023999999999997, 82.53760000000004, 67.59, 7]\n"
     ]
    },
    {
     "name": "stderr",
     "output_type": "stream",
     "text": [
      " 57%|██████████████████████████████████████████                                | 132/232 [02:43<01:59,  1.19s/it]"
     ]
    },
    {
     "name": "stdout",
     "output_type": "stream",
     "text": [
      "moclobemide smiles: C1COCCN1CCNC(=O)C2=CC=C(C=C2)Cl\n",
      "['moclobemide', 'C1COCCN1CCNC(=O)C2=CC=C(C=C2)Cl', 3, 1, 268.744, 1.402, 71.04420000000003, 41.57, 4]\n"
     ]
    },
    {
     "name": "stderr",
     "output_type": "stream",
     "text": [
      " 57%|██████████████████████████████████████████▍                               | 133/232 [02:44<01:55,  1.17s/it]"
     ]
    },
    {
     "name": "stdout",
     "output_type": "stream",
     "text": [
      "nifedipine smiles: CC1=C(C(C(=C(N1)C)C(=O)OC)C2=CC=CC=C2[N+](=O)[O-])C(=O)OC\n",
      "['nifedipine', 'CC1=C(C(C(=C(N1)C)C(=O)OC)C2=CC=CC=C2[N+](=O)[O-])C(=O)OC', 7, 1, 346.3390000000001, 2.1756, 88.40510000000003, 107.77, 4]\n"
     ]
    },
    {
     "name": "stderr",
     "output_type": "stream",
     "text": [
      " 58%|██████████████████████████████████████████▋                               | 134/232 [02:45<01:55,  1.17s/it]"
     ]
    },
    {
     "name": "stdout",
     "output_type": "stream",
     "text": [
      "nifurtimox smiles: CC1CS(=O)(=O)CCN1N=CC2=CC=C(O2)[N+](=O)[O-]\n",
      "['nifurtimox', 'CC1CS(=O)(=O)CCN1N=CC2=CC=C(O2)[N+](=O)[O-]', 7, 0, 287.297, 0.6405999999999996, 67.77820000000001, 106.02000000000001, 3]\n"
     ]
    },
    {
     "name": "stderr",
     "output_type": "stream",
     "text": [
      " 58%|███████████████████████████████████████████                               | 135/232 [02:46<01:55,  1.19s/it]"
     ]
    },
    {
     "name": "stdout",
     "output_type": "stream",
     "text": [
      "nitrazepam smiles: C1C(=O)NC2=C(C=C(C=C2)[N+](=O)[O-])C(=N1)C3=CC=CC=C3\n",
      "['nitrazepam', 'C1C(=O)NC2=C(C=C(C=C2)[N+](=O)[O-])C(=N1)C3=CC=CC=C3', 4, 1, 281.271, 2.3843000000000005, 78.67410000000001, 84.6, 2]\n"
     ]
    },
    {
     "name": "stderr",
     "output_type": "stream",
     "text": [
      " 59%|███████████████████████████████████████████▍                              | 136/232 [02:47<01:53,  1.18s/it]"
     ]
    },
    {
     "name": "stdout",
     "output_type": "stream",
     "text": [
      "norethisterone smiles: CC12CCC3C(C1CCC2(C#C)O)CCC4=CC(=O)CCC34\n",
      "['norethisterone', 'CC12CCC3C(C1CCC2(C#C)O)CCC4=CC(=O)CCC34', 2, 1, 298.42600000000004, 3.4925000000000024, 85.87580000000004, 37.3, 0]\n"
     ]
    },
    {
     "name": "stderr",
     "output_type": "stream",
     "text": [
      " 59%|███████████████████████████████████████████▋                              | 137/232 [02:48<01:52,  1.18s/it]"
     ]
    },
    {
     "name": "stdout",
     "output_type": "stream",
     "text": [
      "nortriptyline smiles: CNCCC=C1C2=CC=CC=C2CCC3=CC=CC=C31\n",
      "['nortriptyline', 'CNCCC=C1C2=CC=CC=C2CCC3=CC=CC=C31', 1, 1, 263.38399999999996, 3.826400000000003, 85.91470000000005, 12.03, 3]\n"
     ]
    },
    {
     "name": "stderr",
     "output_type": "stream",
     "text": [
      " 59%|████████████████████████████████████████████                              | 138/232 [02:50<01:50,  1.18s/it]"
     ]
    },
    {
     "name": "stdout",
     "output_type": "stream",
     "text": [
      "omeprazole smiles: CC1=CN=C(C(=C1OC)C)CS(=O)C2=NC3=C(N2)C=C(C=C3)OC\n",
      "['omeprazole', 'CC1=CN=C(C(=C1OC)C)CS(=O)C2=NC3=C(N2)C=C(C=C3)OC', 5, 1, 345.42400000000004, 2.8997400000000013, 93.02110000000003, 77.10000000000001, 5]\n"
     ]
    },
    {
     "name": "stderr",
     "output_type": "stream",
     "text": [
      " 60%|████████████████████████████████████████████▎                             | 139/232 [02:51<01:52,  1.21s/it]"
     ]
    },
    {
     "name": "stdout",
     "output_type": "stream",
     "text": [
      "ondansetron smiles: CC1=NC=CN1CC2CCC3=C(C2=O)C4=CC=CC=C4N3C\n",
      "['ondansetron', 'CC1=NC=CN1CC2CCC3=C(C2=O)C4=CC=CC=C4N3C', 4, 0, 293.37, 3.1285200000000017, 86.02450000000005, 39.82, 2]\n"
     ]
    },
    {
     "name": "stderr",
     "output_type": "stream",
     "text": [
      " 60%|████████████████████████████████████████████▋                             | 140/232 [02:52<01:51,  1.21s/it]"
     ]
    },
    {
     "name": "stdout",
     "output_type": "stream",
     "text": [
      "paroxetine smiles: C1CNCC(C1C2=CC=C(C=C2)F)COC3=CC4=C(C=C3)OCO4\n",
      "['paroxetine', 'C1CNCC(C1C2=CC=C(C=C2)F)COC3=CC4=C(C=C3)OCO4', 4, 1, 329.37100000000004, 3.326500000000002, 88.17770000000006, 39.72, 4]\n"
     ]
    },
    {
     "name": "stderr",
     "output_type": "stream",
     "text": [
      " 61%|████████████████████████████████████████████▉                             | 141/232 [02:53<01:49,  1.20s/it]"
     ]
    },
    {
     "name": "stdout",
     "output_type": "stream",
     "text": [
      "penbutolol smiles: CC(C)(C)NCC(COC1=CC=CC=C1C2CCCC2)O\n",
      "['penbutolol', 'CC(C)(C)NCC(COC1=CC=CC=C1C2CCCC2)O', 3, 2, 291.43500000000006, 3.4720000000000026, 86.90850000000005, 41.489999999999995, 6]\n"
     ]
    },
    {
     "name": "stderr",
     "output_type": "stream",
     "text": [
      " 61%|█████████████████████████████████████████████▎                            | 142/232 [02:55<01:51,  1.24s/it]"
     ]
    },
    {
     "name": "stdout",
     "output_type": "stream",
     "text": [
      "perphenazine smiles: C1CN(CCN1CCCN2C3=CC=CC=C3SC4=C2C=C(C=C4)Cl)CCO\n",
      "['perphenazine', 'C1CN(CCN1CCCN2C3=CC=CC=C3SC4=C2C=C(C=C4)Cl)CCO', 5, 1, 403.9790000000002, 3.9427000000000034, 113.60580000000006, 29.950000000000003, 6]\n"
     ]
    },
    {
     "name": "stderr",
     "output_type": "stream",
     "text": [
      " 62%|█████████████████████████████████████████████▌                            | 143/232 [02:56<01:48,  1.21s/it]"
     ]
    },
    {
     "name": "stdout",
     "output_type": "stream",
     "text": [
      "pindolol smiles: CC(C)NCC(COC1=CC=CC2=C1C=CN2)O\n",
      "['pindolol', 'CC(C)NCC(COC1=CC=CC2=C1C=CN2)O', 3, 3, 248.32600000000002, 1.9055999999999997, 72.93920000000003, 57.28, 6]\n"
     ]
    },
    {
     "name": "stderr",
     "output_type": "stream",
     "text": [
      " 62%|█████████████████████████████████████████████▉                            | 144/232 [02:57<01:44,  1.19s/it]"
     ]
    },
    {
     "name": "stdout",
     "output_type": "stream",
     "text": [
      "prazosin smiles: COC1=C(C=C2C(=C1)C(=NC(=N2)N3CCN(CC3)C(=O)C4=CC=CO4)N)OC\n",
      "['prazosin', 'COC1=C(C=C2C(=C1)C(=NC(=N2)N3CCN(CC3)C(=O)C4=CC=CO4)N)OC', 8, 1, 383.4080000000001, 1.7845999999999995, 103.87890000000002, 106.95000000000002, 4]\n"
     ]
    },
    {
     "name": "stderr",
     "output_type": "stream",
     "text": [
      " 62%|██████████████████████████████████████████████▎                           | 145/232 [02:58<01:42,  1.18s/it]"
     ]
    },
    {
     "name": "stdout",
     "output_type": "stream",
     "text": [
      "primaquine smiles: CC(CCCN)NC1=C2C(=CC(=C1)OC)C=CC=N2\n",
      "['primaquine', 'CC(CCCN)NC1=C2C(=CC(=C1)OC)C=CC=N2', 4, 2, 259.353, 2.782700000000001, 79.66810000000004, 60.17, 6]\n"
     ]
    },
    {
     "name": "stderr",
     "output_type": "stream",
     "text": [
      " 63%|██████████████████████████████████████████████▌                           | 146/232 [02:59<01:42,  1.19s/it]"
     ]
    },
    {
     "name": "stdout",
     "output_type": "stream",
     "text": [
      "procainamide smiles: CCN(CC)CCNC(=O)C1=CC=C(C=C1)N\n",
      "['procainamide', 'CCN(CC)CCNC(=O)C1=CC=C(C=C1)N', 3, 2, 235.33100000000002, 1.3403999999999998, 70.97560000000004, 58.36, 6]\n"
     ]
    },
    {
     "name": "stderr",
     "output_type": "stream",
     "text": [
      " 63%|██████████████████████████████████████████████▉                           | 147/232 [03:01<01:43,  1.22s/it]"
     ]
    },
    {
     "name": "stdout",
     "output_type": "stream",
     "text": [
      "procyclidine smiles: C1CCC(CC1)C(CCN2CCCC2)(C3=CC=CC=C3)O\n",
      "['procyclidine', 'C1CCC(CC1)C(CCN2CCCC2)(C3=CC=CC=C3)O', 2, 1, 287.44699999999995, 3.9404000000000035, 87.20480000000006, 23.47, 5]\n"
     ]
    },
    {
     "name": "stderr",
     "output_type": "stream",
     "text": [
      " 64%|███████████████████████████████████████████████▏                          | 148/232 [03:02<01:47,  1.28s/it]"
     ]
    },
    {
     "name": "stdout",
     "output_type": "stream",
     "text": [
      "quinidine smiles: COC1=CC2=C(C=CN=C2C=C1)C(C3CC4CCN3CC4C=C)O\n",
      "['quinidine', 'COC1=CC2=C(C=CN=C2C=C1)C(C3CC4CCN3CC4C=C)O', 4, 1, 324.4240000000001, 3.173200000000002, 95.02680000000007, 45.59, 4]\n"
     ]
    },
    {
     "name": "stderr",
     "output_type": "stream",
     "text": [
      " 64%|███████████████████████████████████████████████▌                          | 149/232 [03:03<01:43,  1.25s/it]"
     ]
    },
    {
     "name": "stdout",
     "output_type": "stream",
     "text": [
      "raclopride smiles: CCN1CCCC1CNC(=O)C2=C(C(=CC(=C2OC)Cl)Cl)O\n",
      "['raclopride', 'CCN1CCCC1CNC(=O)C2=C(C(=CC(=C2OC)Cl)Cl)O', 4, 2, 347.242, 2.9217000000000017, 87.28100000000005, 61.80000000000001, 5]\n"
     ]
    },
    {
     "name": "stderr",
     "output_type": "stream",
     "text": [
      " 65%|███████████████████████████████████████████████▊                          | 150/232 [03:04<01:40,  1.23s/it]"
     ]
    },
    {
     "name": "stdout",
     "output_type": "stream",
     "text": [
      "ranitidine smiles: CNC(=C[N+](=O)[O-])NCCSCC1=CC=C(O1)CN(C)C\n",
      "['ranitidine', 'CNC(=C[N+](=O)[O-])NCCSCC1=CC=C(O1)CN(C)C', 7, 2, 314.41100000000006, 1.4589999999999996, 84.40080000000003, 83.58, 10]\n"
     ]
    },
    {
     "name": "stderr",
     "output_type": "stream",
     "text": [
      " 65%|████████████████████████████████████████████████▏                         | 151/232 [03:05<01:36,  1.19s/it]"
     ]
    },
    {
     "name": "stdout",
     "output_type": "stream",
     "text": [
      "timolol smiles: CC(C)(C)NCC(COC1=NSN=C1N2CCOCC2)O\n",
      "['timolol', 'CC(C)(C)NCC(COC1=NSN=C1N2CCOCC2)O', 8, 2, 316.4270000000001, 0.5024999999999997, 82.19850000000004, 79.74000000000001, 6]\n"
     ]
    },
    {
     "name": "stderr",
     "output_type": "stream",
     "text": [
      " 66%|████████████████████████████████████████████████▍                         | 152/232 [03:07<01:34,  1.18s/it]"
     ]
    },
    {
     "name": "stdout",
     "output_type": "stream",
     "text": [
      "triamterene smiles: C1=CC=C(C=C1)C2=NC3=C(N=C(N=C3N=C2N)N)N\n",
      "['triamterene', 'C1=CC=C(C=C1)C2=NC3=C(N=C(N=C3N=C2N)N)N', 7, 3, 253.26899999999995, 0.8333999999999999, 73.80119999999998, 129.62, 1]\n"
     ]
    },
    {
     "name": "stderr",
     "output_type": "stream",
     "text": [
      " 66%|████████████████████████████████████████████████▊                         | 153/232 [03:08<01:44,  1.32s/it]"
     ]
    },
    {
     "name": "stdout",
     "output_type": "stream",
     "text": [
      "urapidil smiles: CN1C(=CC(=O)N(C1=O)C)NCCCN2CCN(CC2)C3=CC=CC=C3OC\n",
      "['urapidil', 'CN1C(=CC(=O)N(C1=O)C)NCCCN2CCN(CC2)C3=CC=CC=C3OC', 8, 1, 387.48400000000015, 0.7168000000000017, 111.67770000000004, 71.74000000000001, 7]\n"
     ]
    },
    {
     "name": "stderr",
     "output_type": "stream",
     "text": [
      " 66%|█████████████████████████████████████████████████                         | 154/232 [03:10<01:40,  1.29s/it]"
     ]
    },
    {
     "name": "stdout",
     "output_type": "stream",
     "text": [
      "zofenoprilat smiles: CC(CS)C(=O)N1CC(CC1C(=O)O)SC2=CC=CC=C2\n",
      "['zofenoprilat', 'CC(CS)C(=O)N1CC(CC1C(=O)O)SC2=CC=CC=C2', 4, 2, 325.45500000000004, 2.3987000000000007, 86.85780000000004, 57.61, 5]\n"
     ]
    },
    {
     "name": "stderr",
     "output_type": "stream",
     "text": [
      " 67%|█████████████████████████████████████████████████▍                        | 155/232 [03:11<01:36,  1.26s/it]"
     ]
    },
    {
     "name": "stdout",
     "output_type": "stream",
     "text": [
      "allopurinol smiles: C1=NNC2=C1C(=O)NC=N2\n",
      "['allopurinol', 'C1=NNC2=C1C(=O)NC=N2', 3, 2, 136.11399999999998, -0.35380000000000006, 34.50939999999999, 74.43, 0]\n"
     ]
    },
    {
     "name": "stderr",
     "output_type": "stream",
     "text": [
      " 67%|█████████████████████████████████████████████████▊                        | 156/232 [03:12<01:33,  1.23s/it]"
     ]
    },
    {
     "name": "stdout",
     "output_type": "stream",
     "text": [
      "amobarbital smiles: CCC1(C(=O)NC(=O)NC1=O)CCC(C)C\n",
      "['amobarbital', 'CCC1(C(=O)NC(=O)NC1=O)CCC(C)C', 3, 2, 226.27599999999995, 1.1849999999999998, 58.477400000000024, 75.27000000000001, 4]\n"
     ]
    },
    {
     "name": "stderr",
     "output_type": "stream",
     "text": [
      " 68%|██████████████████████████████████████████████████                        | 157/232 [03:13<01:30,  1.21s/it]"
     ]
    },
    {
     "name": "stdout",
     "output_type": "stream",
     "text": [
      "amrinone smiles: C1=CN=CC=C1C2=CNC(=O)C(=C2)N\n",
      "['amrinone', 'C1=CN=CC=C1C2=CNC(=O)C(=C2)N', 3, 2, 187.20199999999997, 1.0190999999999997, 54.706100000000006, 71.77, 1]\n"
     ]
    },
    {
     "name": "stderr",
     "output_type": "stream",
     "text": [
      " 68%|██████████████████████████████████████████████████▍                       | 158/232 [03:14<01:29,  1.21s/it]"
     ]
    },
    {
     "name": "stdout",
     "output_type": "stream",
     "text": [
      "betaxolol smiles: CC(C)NCC(COC1=CC=C(C=C1)CCOCC2CC2)O\n",
      "['betaxolol', 'CC(C)NCC(COC1=CC=C(C=C1)CCOCC2CC2)O', 4, 2, 307.434, 2.393400000000001, 88.32950000000005, 50.72, 11]\n"
     ]
    },
    {
     "name": "stderr",
     "output_type": "stream",
     "text": [
      " 69%|██████████████████████████████████████████████████▋                       | 159/232 [03:16<01:33,  1.28s/it]"
     ]
    },
    {
     "name": "stdout",
     "output_type": "stream",
     "text": [
      "bisoprolol smiles: CC(C)NCC(COC1=CC=C(C=C1)COCCOC(C)C)O\n",
      "['bisoprolol', 'CC(C)NCC(COC1=CC=C(C=C1)COCCOC(C)C)O', 5, 2, 325.449, 2.3659000000000003, 91.82650000000005, 59.95, 12]\n"
     ]
    },
    {
     "name": "stderr",
     "output_type": "stream",
     "text": [
      " 69%|███████████████████████████████████████████████████                       | 160/232 [03:17<01:29,  1.24s/it]"
     ]
    },
    {
     "name": "stdout",
     "output_type": "stream",
     "text": [
      "bumetanide smiles: CCCCNC1=C(C(=CC(=C1)C(=O)O)S(=O)(=O)N)OC2=CC=CC=C2\n",
      "['bumetanide', 'CCCCNC1=C(C(=CC(=C1)C(=O)O)S(=O)(=O)N)OC2=CC=CC=C2', 5, 3, 364.42300000000006, 3.036500000000001, 94.68820000000004, 118.72, 8]\n"
     ]
    },
    {
     "name": "stderr",
     "output_type": "stream",
     "text": [
      " 69%|███████████████████████████████████████████████████▎                      | 161/232 [03:18<01:31,  1.28s/it]"
     ]
    },
    {
     "name": "stdout",
     "output_type": "stream",
     "text": [
      "caffeine smiles: CN1C=NC2=C1C(=O)N(C(=O)N2C)C\n",
      "['caffeine', 'CN1C=NC2=C1C(=O)N(C(=O)N2C)C', 6, 0, 194.194, -1.0293, 51.19600000000001, 61.82, 0]\n"
     ]
    },
    {
     "name": "stderr",
     "output_type": "stream",
     "text": [
      " 70%|███████████████████████████████████████████████████▋                      | 162/232 [03:19<01:27,  1.25s/it]"
     ]
    },
    {
     "name": "stdout",
     "output_type": "stream",
     "text": [
      "carbamazepine smiles: C1=CC=C2C(=C1)C=CC3=CC=CC=C3N2C(=O)N\n",
      "['carbamazepine', 'C1=CC=C2C(=C1)C=CC3=CC=CC=C3N2C(=O)N', 1, 1, 236.27399999999997, 3.3872000000000018, 73.53440000000002, 46.33, 0]\n"
     ]
    },
    {
     "name": "stderr",
     "output_type": "stream",
     "text": [
      " 70%|███████████████████████████████████████████████████▉                      | 163/232 [03:21<01:25,  1.24s/it]"
     ]
    },
    {
     "name": "stdout",
     "output_type": "stream",
     "text": [
      "carteolol smiles: CC(C)(C)NCC(COC1=CC=CC2=C1CCC(=O)N2)O\n",
      "['carteolol', 'CC(C)(C)NCC(COC1=CC=CC2=C1CCC(=O)N2)O', 4, 3, 292.37899999999996, 1.6990999999999998, 82.65020000000003, 70.59, 5]\n"
     ]
    },
    {
     "name": "stderr",
     "output_type": "stream",
     "text": [
      " 71%|████████████████████████████████████████████████████▎                     | 164/232 [03:22<01:22,  1.21s/it]"
     ]
    },
    {
     "name": "stdout",
     "output_type": "stream",
     "text": [
      "chlorambucil smiles: C1=CC(=CC=C1CCCC(=O)O)N(CCCl)CCCl\n",
      "['chlorambucil', 'C1=CC(=CC=C1CCCC(=O)O)N(CCCl)CCCl', 2, 1, 304.217, 3.3779000000000012, 80.66880000000005, 40.54, 9]\n"
     ]
    },
    {
     "name": "stderr",
     "output_type": "stream",
     "text": [
      " 71%|████████████████████████████████████████████████████▋                     | 165/232 [03:23<01:18,  1.18s/it]"
     ]
    },
    {
     "name": "stdout",
     "output_type": "stream",
     "text": [
      "chlordiazepoxide smiles: CN=C1CN(C(=C2C=C(C=CC2=N1)Cl)C3=CC=CC=C3)O\n",
      "['chlordiazepoxide', 'CN=C1CN(C(=C2C=C(C=CC2=N1)Cl)C3=CC=CC=C3)O', 3, 1, 299.761, 1.8492, 83.03650000000003, 48.19, 1]\n"
     ]
    },
    {
     "name": "stderr",
     "output_type": "stream",
     "text": [
      " 72%|████████████████████████████████████████████████████▉                     | 166/232 [03:24<01:21,  1.23s/it]"
     ]
    },
    {
     "name": "stdout",
     "output_type": "stream",
     "text": [
      "chloroquine smiles: CCN(CC)CCCC(C)NC1=C2C=CC(=CC2=NC=C1)Cl\n",
      "['chloroquine', 'CCN(CC)CCCC(C)NC1=C2C=CC(=CC2=NC=C1)Cl', 3, 1, 319.88, 4.810600000000004, 96.85970000000006, 28.16, 8]\n"
     ]
    },
    {
     "name": "stderr",
     "output_type": "stream",
     "text": [
      " 72%|█████████████████████████████████████████████████████▎                    | 167/232 [03:26<01:29,  1.38s/it]"
     ]
    },
    {
     "name": "stdout",
     "output_type": "stream",
     "text": [
      "chlorpropamide smiles: CCCNC(=O)NS(=O)(=O)C1=CC=C(C=C1)Cl\n",
      "['chlorpropamide', 'CCCNC(=O)NS(=O)(=O)C1=CC=C(C=C1)Cl', 3, 2, 276.745, 1.7379, 65.46320000000003, 75.27000000000001, 4]\n"
     ]
    },
    {
     "name": "stderr",
     "output_type": "stream",
     "text": [
      " 72%|█████████████████████████████████████████████████████▌                    | 168/232 [03:29<01:58,  1.85s/it]"
     ]
    },
    {
     "name": "stdout",
     "output_type": "stream",
     "text": [
      "cibenzoline smiles: C1CN=C(N1)C2CC2(C3=CC=CC=C3)C4=CC=CC=C4\n",
      "['cibenzoline', 'C1CN=C(N1)C2CC2(C3=CC=CC=C3)C4=CC=CC=C4', 2, 1, 262.356, 2.9943000000000017, 82.07570000000004, 24.39, 3]\n"
     ]
    },
    {
     "name": "stderr",
     "output_type": "stream",
     "text": [
      " 73%|█████████████████████████████████████████████████████▉                    | 169/232 [03:32<02:17,  2.19s/it]"
     ]
    },
    {
     "name": "stdout",
     "output_type": "stream",
     "text": [
      "clobazam smiles: CN1C(=O)CC(=O)N(C2=C1C=CC(=C2)Cl)C3=CC=CC=C3\n",
      "['clobazam', 'CN1C(=O)CC(=O)N(C2=C1C=CC(=C2)Cl)C3=CC=CC=C3', 2, 0, 300.745, 3.3712000000000018, 83.06700000000002, 40.620000000000005, 1]\n"
     ]
    },
    {
     "name": "stderr",
     "output_type": "stream",
     "text": [
      " 73%|██████████████████████████████████████████████████████▏                   | 170/232 [03:35<02:29,  2.42s/it]"
     ]
    },
    {
     "name": "stdout",
     "output_type": "stream",
     "text": [
      "clonazepam smiles: C1C(=O)NC2=C(C=C(C=C2)[N+](=O)[O-])C(=N1)C3=CC=CC=C3Cl\n",
      "['clonazepam', 'C1C(=O)NC2=C(C=C(C=C2)[N+](=O)[O-])C(=N1)C3=CC=CC=C3Cl', 4, 1, 315.716, 3.037700000000002, 83.68410000000002, 84.6, 2]\n"
     ]
    },
    {
     "name": "stderr",
     "output_type": "stream",
     "text": [
      " 74%|██████████████████████████████████████████████████████▌                   | 171/232 [03:37<02:29,  2.45s/it]"
     ]
    },
    {
     "name": "stdout",
     "output_type": "stream",
     "text": [
      "clonidine smiles: C1CN=C(N1)NC2=C(C=CC=C2Cl)Cl\n",
      "['clonidine', 'C1CN=C(N1)NC2=C(C=CC=C2Cl)Cl', 3, 2, 230.09799999999998, 2.3645000000000005, 60.389400000000016, 36.42, 1]\n"
     ]
    },
    {
     "name": "stderr",
     "output_type": "stream",
     "text": [
      " 74%|██████████████████████████████████████████████████████▊                   | 172/232 [03:39<02:12,  2.21s/it]"
     ]
    },
    {
     "name": "stdout",
     "output_type": "stream",
     "text": [
      "cyclophosphamide smiles: C1CNP(=O)(OC1)N(CCCl)CCCl\n",
      "['cyclophosphamide', 'C1CNP(=O)(OC1)N(CCCl)CCCl', 2, 1, 261.08899999999994, 1.884, 59.19120000000003, 41.57, 5]\n"
     ]
    },
    {
     "name": "stderr",
     "output_type": "stream",
     "text": [
      " 75%|███████████████████████████████████████████████████████▏                  | 173/232 [03:41<02:00,  2.05s/it]"
     ]
    },
    {
     "name": "stdout",
     "output_type": "stream",
     "text": [
      "desmethyldiazepam smiles: C1C(=O)NC2=C(C=C(C=C2)Cl)C(=N1)C3=CC=CC=C3\n",
      "['desmethyldiazepam', 'C1C(=O)NC2=C(C=C(C=C2)Cl)C(=N1)C3=CC=CC=C3', 2, 1, 270.719, 3.129500000000001, 77.02970000000002, 41.46, 1]\n"
     ]
    },
    {
     "name": "stderr",
     "output_type": "stream",
     "text": [
      " 75%|███████████████████████████████████████████████████████▌                  | 174/232 [03:42<01:51,  1.93s/it]"
     ]
    },
    {
     "name": "stdout",
     "output_type": "stream",
     "text": [
      "diazepam smiles: CN1C(=O)CN=C(C2=C1C=CC(=C2)Cl)C3=CC=CC=C3\n",
      "['diazepam', 'CN1C(=O)CN=C(C2=C1C=CC(=C2)Cl)C3=CC=CC=C3', 2, 0, 284.74600000000004, 3.1538000000000013, 81.81000000000003, 32.67, 1]\n"
     ]
    },
    {
     "name": "stderr",
     "output_type": "stream",
     "text": [
      " 75%|███████████████████████████████████████████████████████▊                  | 175/232 [03:43<01:37,  1.70s/it]"
     ]
    },
    {
     "name": "stdout",
     "output_type": "stream",
     "text": [
      "diazoxide smiles: CC1=NS(=O)(=O)C2=C(N1)C=CC(=C2)Cl\n",
      "['diazoxide', 'CC1=NS(=O)(=O)C2=C(N1)C=CC(=C2)Cl', 3, 1, 230.67600000000002, 1.8726, 55.369500000000016, 58.53, 0]\n"
     ]
    },
    {
     "name": "stderr",
     "output_type": "stream",
     "text": [
      " 76%|████████████████████████████████████████████████████████▏                 | 176/232 [03:45<01:26,  1.54s/it]"
     ]
    },
    {
     "name": "stdout",
     "output_type": "stream",
     "text": [
      "diflunisal smiles: C1=CC(=C(C=C1C2=C(C=C(C=C2)F)F)C(=O)O)O\n",
      "['diflunisal', 'C1=CC(=C(C=C1C2=C(C=C(C=C2)F)F)C(=O)O)O', 2, 2, 250.19999999999996, 3.035600000000001, 60.41810000000001, 57.53, 2]\n"
     ]
    },
    {
     "name": "stderr",
     "output_type": "stream",
     "text": [
      " 76%|████████████████████████████████████████████████████████▍                 | 177/232 [03:46<01:22,  1.51s/it]"
     ]
    },
    {
     "name": "stdout",
     "output_type": "stream",
     "text": [
      "disopyramide smiles: CC(C)N(CCC(C1=CC=CC=C1)(C2=CC=CC=N2)C(=O)N)C(C)C\n",
      "['disopyramide', 'CC(C)N(CCC(C1=CC=CC=C1)(C2=CC=CC=N2)C(=O)N)C(C)C', 3, 1, 339.4830000000002, 3.361900000000001, 102.24840000000006, 59.22, 8]\n"
     ]
    },
    {
     "name": "stderr",
     "output_type": "stream",
     "text": [
      " 77%|████████████████████████████████████████████████████████▊                 | 178/232 [03:47<01:16,  1.41s/it]"
     ]
    },
    {
     "name": "stdout",
     "output_type": "stream",
     "text": [
      "ethanol smiles: CCO\n",
      "['ethanol', 'CCO', 1, 1, 46.069, -0.0014000000000000123, 12.759800000000002, 20.23, 0]\n"
     ]
    },
    {
     "name": "stderr",
     "output_type": "stream",
     "text": [
      " 77%|█████████████████████████████████████████████████████████                 | 179/232 [03:48<01:10,  1.33s/it]"
     ]
    },
    {
     "name": "stdout",
     "output_type": "stream",
     "text": [
      "ethosuximide smiles: CCC1(CC(=O)NC1=O)C\n",
      "['ethosuximide', 'CCC1(CC(=O)NC1=O)C', 2, 1, 141.17, 0.4492, 36.164699999999996, 46.17, 1]\n"
     ]
    },
    {
     "name": "stderr",
     "output_type": "stream",
     "text": [
      " 78%|█████████████████████████████████████████████████████████▍                | 180/232 [03:49<01:02,  1.21s/it]"
     ]
    },
    {
     "name": "stdout",
     "output_type": "stream",
     "text": [
      "compound not found: flecaninide, skipping\n"
     ]
    },
    {
     "name": "stderr",
     "output_type": "stream",
     "text": [
      " 78%|█████████████████████████████████████████████████████████▋                | 181/232 [03:50<01:00,  1.19s/it]"
     ]
    },
    {
     "name": "stdout",
     "output_type": "stream",
     "text": [
      "flurbiprofen smiles: CC(C1=CC(=C(C=C1)C2=CC=CC=C2)F)C(=O)O\n",
      "['flurbiprofen', 'CC(C1=CC(=C(C=C1)C2=CC=CC=C2)F)C(=O)O', 1, 1, 244.265, 3.6808000000000023, 67.88680000000002, 37.3, 3]\n"
     ]
    },
    {
     "name": "stderr",
     "output_type": "stream",
     "text": [
      " 78%|██████████████████████████████████████████████████████████                | 182/232 [03:52<00:58,  1.18s/it]"
     ]
    },
    {
     "name": "stdout",
     "output_type": "stream",
     "text": [
      "fluconazole smiles: C1=CC(=C(C=C1F)F)C(CN2C=NC=N2)(CN3C=NC=N3)O\n",
      "['fluconazole', 'C1=CC(=C(C=C1F)F)C(CN2C=NC=N2)(CN3C=NC=N3)O', 7, 1, 306.276, 0.7357999999999993, 70.29880000000001, 81.65, 5]\n"
     ]
    },
    {
     "name": "stderr",
     "output_type": "stream",
     "text": [
      " 79%|██████████████████████████████████████████████████████████▎               | 183/232 [03:53<00:58,  1.19s/it]"
     ]
    },
    {
     "name": "stdout",
     "output_type": "stream",
     "text": [
      "flucytosine smiles: C1=NC(=O)NC(=C1F)N\n",
      "['flucytosine', 'C1=NC(=O)NC(=C1F)N', 3, 2, 129.094, -0.5088000000000001, 29.228100000000005, 71.77, 0]\n"
     ]
    },
    {
     "name": "stderr",
     "output_type": "stream",
     "text": [
      " 79%|██████████████████████████████████████████████████████████▋               | 184/232 [03:54<00:57,  1.19s/it]"
     ]
    },
    {
     "name": "stdout",
     "output_type": "stream",
     "text": [
      "flunitrazepam smiles: CN1C(=O)CN=C(C2=C1C=CC(=C2)[N+](=O)[O-])C3=CC=CC=C3F\n",
      "['flunitrazepam', 'CN1C(=O)CN=C(C2=C1C=CC(=C2)[N+](=O)[O-])C3=CC=CC=C3F', 4, 0, 313.288, 2.5477000000000007, 83.41240000000003, 75.81, 2]\n"
     ]
    },
    {
     "name": "stderr",
     "output_type": "stream",
     "text": [
      " 80%|███████████████████████████████████████████████████████████               | 185/232 [03:55<00:55,  1.19s/it]"
     ]
    },
    {
     "name": "stdout",
     "output_type": "stream",
     "text": [
      "gemfibrozil smiles: CC1=CC(=C(C=C1)C)OCCCC(C)(C)C(=O)O\n",
      "['gemfibrozil', 'CC1=CC(=C(C=C1)C)OCCCC(C)(C)C(=O)O', 2, 1, 250.33799999999994, 3.573240000000002, 72.06180000000005, 46.53, 6]\n"
     ]
    },
    {
     "name": "stderr",
     "output_type": "stream",
     "text": [
      " 80%|███████████████████████████████████████████████████████████▎              | 186/232 [03:56<00:55,  1.20s/it]"
     ]
    },
    {
     "name": "stdout",
     "output_type": "stream",
     "text": [
      "glipizide smiles: CC1=CN=C(C=N1)C(=O)NCCC2=CC=C(C=C2)S(=O)(=O)NC(=O)NC3CCCCC3\n",
      "['glipizide', 'CC1=CN=C(C=N1)C(=O)NCCC2=CC=C(C=C2)S(=O)(=O)NC(=O)NC3CCCCC3', 6, 3, 445.54500000000024, 2.0781199999999993, 114.97440000000005, 130.15, 7]\n"
     ]
    },
    {
     "name": "stderr",
     "output_type": "stream",
     "text": [
      " 81%|███████████████████████████████████████████████████████████▋              | 187/232 [03:58<00:56,  1.25s/it]"
     ]
    },
    {
     "name": "stdout",
     "output_type": "stream",
     "text": [
      "glyburide smiles: COC1=C(C=C(C=C1)Cl)C(=O)NCCC2=CC=C(C=C2)S(=O)(=O)NC(=O)NC3CCCCC3\n",
      "['glyburide', 'COC1=C(C=C(C=C1)Cl)C(=O)NCCC2=CC=C(C=C2)S(=O)(=O)NC(=O)NC3CCCCC3', 5, 3, 494.01300000000026, 3.641700000000002, 126.20940000000006, 113.6, 8]\n"
     ]
    },
    {
     "name": "stderr",
     "output_type": "stream",
     "text": [
      " 81%|███████████████████████████████████████████████████████████▉              | 188/232 [03:59<00:53,  1.21s/it]"
     ]
    },
    {
     "name": "stdout",
     "output_type": "stream",
     "text": [
      "hexobarbital smiles: CC1(C(=O)NC(=O)N(C1=O)C)C2=CCCCC2\n",
      "['hexobarbital', 'CC1(C(=O)NC(=O)N(C1=O)C)C2=CCCCC2', 3, 1, 236.27099999999993, 1.2012999999999998, 60.966700000000024, 66.48, 1]\n"
     ]
    },
    {
     "name": "stderr",
     "output_type": "stream",
     "text": [
      " 81%|████████████████████████████████████████████████████████████▎             | 189/232 [04:00<00:50,  1.18s/it]"
     ]
    },
    {
     "name": "stdout",
     "output_type": "stream",
     "text": [
      "ibuprofen smiles: CC(C)CC1=CC=C(C=C1)C(C)C(=O)O\n",
      "['ibuprofen', 'CC(C)CC1=CC=C(C=C1)C(C)C(=O)O', 1, 1, 206.28499999999997, 3.073200000000001, 61.03480000000004, 37.3, 4]\n"
     ]
    },
    {
     "name": "stderr",
     "output_type": "stream",
     "text": [
      " 82%|████████████████████████████████████████████████████████████▌             | 190/232 [04:01<00:51,  1.22s/it]"
     ]
    },
    {
     "name": "stdout",
     "output_type": "stream",
     "text": [
      "indomethacin smiles: CC1=C(C2=C(N1C(=O)C3=CC=C(C=C3)Cl)C=CC(=C2)OC)CC(=O)O\n",
      "['indomethacin', 'CC1=C(C2=C(N1C(=O)C3=CC=C(C=C3)Cl)C=CC(=C2)OC)CC(=O)O', 4, 1, 357.7930000000002, 3.9273200000000026, 95.74730000000005, 68.53, 4]\n"
     ]
    },
    {
     "name": "stderr",
     "output_type": "stream",
     "text": [
      " 82%|████████████████████████████████████████████████████████████▉             | 191/232 [04:02<00:49,  1.20s/it]"
     ]
    },
    {
     "name": "stdout",
     "output_type": "stream",
     "text": [
      "isoniazide smiles: C1=CN=CC=C1C(=O)NN\n",
      "['isoniazide', 'C1=CN=CC=C1C(=O)NN', 3, 2, 137.14199999999997, -0.3149000000000001, 35.89059999999999, 68.01, 1]\n"
     ]
    },
    {
     "name": "stderr",
     "output_type": "stream",
     "text": [
      " 83%|█████████████████████████████████████████████████████████████▏            | 192/232 [04:04<00:47,  1.18s/it]"
     ]
    },
    {
     "name": "stdout",
     "output_type": "stream",
     "text": [
      "isosorbide smiles: C1C(C2C(O1)C(CO2)O)O\n",
      "['isosorbide', 'C1C(C2C(O1)C(CO2)O)O', 4, 2, 146.142, -1.4942000000000002, 31.493599999999986, 58.92, 0]\n"
     ]
    },
    {
     "name": "stderr",
     "output_type": "stream",
     "text": [
      " 83%|█████████████████████████████████████████████████████████████▌            | 193/232 [04:05<00:45,  1.16s/it]"
     ]
    },
    {
     "name": "stdout",
     "output_type": "stream",
     "text": [
      "isosorbide smiles: C1C(C2C(O1)C(CO2)O)O\n",
      "['isosorbide', 'C1C(C2C(O1)C(CO2)O)O', 4, 2, 146.142, -1.4942000000000002, 31.493599999999986, 58.92, 0]\n"
     ]
    },
    {
     "name": "stderr",
     "output_type": "stream",
     "text": [
      " 84%|█████████████████████████████████████████████████████████████▉            | 194/232 [04:06<00:44,  1.17s/it]"
     ]
    },
    {
     "name": "stdout",
     "output_type": "stream",
     "text": [
      "ketoprofen smiles: CC(C1=CC(=CC=C1)C(=O)C2=CC=CC=C2)C(=O)O\n",
      "['ketoprofen', 'CC(C1=CC(=CC=C1)C(=O)C2=CC=CC=C2)C(=O)O', 2, 1, 254.285, 3.1057000000000006, 72.36730000000004, 54.370000000000005, 4]\n"
     ]
    },
    {
     "name": "stderr",
     "output_type": "stream",
     "text": [
      " 84%|██████████████████████████████████████████████████████████████▏           | 195/232 [04:07<00:40,  1.08s/it]"
     ]
    },
    {
     "name": "stdout",
     "output_type": "stream",
     "text": [
      "compound not found: ketolorac, skipping\n"
     ]
    },
    {
     "name": "stderr",
     "output_type": "stream",
     "text": [
      " 84%|██████████████████████████████████████████████████████████████▌           | 196/232 [04:08<00:39,  1.10s/it]"
     ]
    },
    {
     "name": "stdout",
     "output_type": "stream",
     "text": [
      "lorazepam smiles: C1=CC=C(C(=C1)C2=NC(C(=O)NC3=C2C=C(C=C3)Cl)O)Cl\n",
      "['lorazepam', 'C1=CC=C(C(=C1)C2=NC(C(=O)NC3=C2C=C(C=C3)Cl)O)Cl', 3, 2, 321.163, 3.1013000000000015, 83.17950000000002, 61.69, 1]\n"
     ]
    },
    {
     "name": "stderr",
     "output_type": "stream",
     "text": [
      " 85%|██████████████████████████████████████████████████████████████▊           | 197/232 [04:09<00:40,  1.14s/it]"
     ]
    },
    {
     "name": "stdout",
     "output_type": "stream",
     "text": [
      "mabuterol smiles: CC(C)(C)NCC(C1=CC(=C(C(=C1)Cl)N)C(F)(F)F)O\n",
      "['mabuterol', 'CC(C)(C)NCC(C1=CC(=C(C(=C1)Cl)N)C(F)(F)F)O', 3, 3, 310.74699999999996, 3.362500000000002, 73.58190000000002, 58.28, 3]\n"
     ]
    },
    {
     "name": "stderr",
     "output_type": "stream",
     "text": [
      " 85%|███████████████████████████████████████████████████████████████▏          | 198/232 [04:10<00:39,  1.16s/it]"
     ]
    },
    {
     "name": "stdout",
     "output_type": "stream",
     "text": [
      "methadone smiles: CCC(=O)C(CC(C)N(C)C)(C1=CC=CC=C1)C2=CC=CC=C2\n",
      "['methadone', 'CCC(=O)C(CC(C)N(C)C)(C1=CC=CC=C1)C2=CC=CC=C2', 2, 0, 309.45300000000003, 4.292000000000004, 96.72800000000007, 20.310000000000002, 7]\n"
     ]
    },
    {
     "name": "stderr",
     "output_type": "stream",
     "text": [
      " 86%|███████████████████████████████████████████████████████████████▍          | 199/232 [04:12<00:39,  1.21s/it]"
     ]
    },
    {
     "name": "stdout",
     "output_type": "stream",
     "text": [
      "methylprednisolone smiles: CC1CC2C3CCC(C3(CC(C2C4(C1=CC(=O)C=C4)C)O)C)(C(=O)CO)O\n",
      "['methylprednisolone', 'CC1CC2C3CCC(C3(CC(C2C4(C1=CC(=O)C=C4)C)O)C)(C(=O)CO)O', 5, 3, 374.47700000000015, 1.8036000000000003, 99.59540000000004, 94.83, 2]\n"
     ]
    },
    {
     "name": "stderr",
     "output_type": "stream",
     "text": [
      " 86%|███████████████████████████████████████████████████████████████▊          | 200/232 [04:13<00:38,  1.20s/it]"
     ]
    },
    {
     "name": "stdout",
     "output_type": "stream",
     "text": [
      "metronidazole smiles: CC1=NC=C(N1CCO)[N+](=O)[O-]\n",
      "['metronidazole', 'CC1=NC=C(N1CCO)[N+](=O)[O-]', 5, 1, 171.15599999999998, 0.09201999999999982, 40.704200000000014, 81.19, 3]\n"
     ]
    },
    {
     "name": "stderr",
     "output_type": "stream",
     "text": [
      " 87%|████████████████████████████████████████████████████████████████          | 201/232 [04:14<00:36,  1.18s/it]"
     ]
    },
    {
     "name": "stdout",
     "output_type": "stream",
     "text": [
      "mexiletine smiles: CC1=C(C(=CC=C1)C)OCC(C)N\n",
      "['mexiletine', 'CC1=C(C(=CC=C1)C)OCC(C)N', 2, 1, 179.26299999999995, 2.0294399999999997, 55.06040000000003, 35.25, 3]\n"
     ]
    },
    {
     "name": "stderr",
     "output_type": "stream",
     "text": [
      " 87%|████████████████████████████████████████████████████████████████▍         | 202/232 [04:15<00:35,  1.19s/it]"
     ]
    },
    {
     "name": "stdout",
     "output_type": "stream",
     "text": [
      "naproxen smiles: CC(C1=CC2=C(C=C1)C=C(C=C2)OC)C(=O)O\n",
      "['naproxen', 'CC(C1=CC2=C(C=C1)C=C(C=C2)OC)C(=O)O', 2, 1, 230.26299999999998, 3.036500000000001, 66.55080000000004, 46.53, 3]\n"
     ]
    },
    {
     "name": "stderr",
     "output_type": "stream",
     "text": [
      " 88%|████████████████████████████████████████████████████████████████▊         | 203/232 [04:16<00:34,  1.18s/it]"
     ]
    },
    {
     "name": "stdout",
     "output_type": "stream",
     "text": [
      "nitrofurantoin smiles: C1C(=O)NC(=O)N1N=CC2=CC=C(O2)[N+](=O)[O-]\n",
      "['nitrofurantoin', 'C1C(=O)NC(=O)N1N=CC2=CC=C(O2)[N+](=O)[O-]', 6, 1, 238.159, 0.07349999999999984, 53.201100000000004, 118.05000000000001, 3]\n"
     ]
    },
    {
     "name": "stderr",
     "output_type": "stream",
     "text": [
      " 88%|█████████████████████████████████████████████████████████████████         | 204/232 [04:18<00:34,  1.22s/it]"
     ]
    },
    {
     "name": "stdout",
     "output_type": "stream",
     "text": [
      "nizatidine smiles: CNC(=C[N+](=O)[O-])NCCSCC1=CSC(=N1)CN(C)C\n",
      "['nizatidine', 'CNC(=C[N+](=O)[O-])NCCSCC1=CSC(=N1)CN(C)C', 8, 2, 331.4670000000001, 1.3224999999999996, 87.80680000000004, 83.33, 10]\n"
     ]
    },
    {
     "name": "stderr",
     "output_type": "stream",
     "text": [
      " 88%|█████████████████████████████████████████████████████████████████▍        | 205/232 [04:19<00:32,  1.20s/it]"
     ]
    },
    {
     "name": "stdout",
     "output_type": "stream",
     "text": [
      "oxaprozin smiles: C1=CC=C(C=C1)C2=C(OC(=N2)CCC(=O)O)C3=CC=CC=C3\n",
      "['oxaprozin', 'C1=CC=C(C=C1)C2=C(OC(=N2)CCC(=O)O)C3=CC=CC=C3', 3, 1, 293.32199999999995, 4.025800000000002, 83.33180000000003, 63.33, 5]\n"
     ]
    },
    {
     "name": "stderr",
     "output_type": "stream",
     "text": [
      " 89%|█████████████████████████████████████████████████████████████████▋        | 206/232 [04:20<00:31,  1.19s/it]"
     ]
    },
    {
     "name": "stdout",
     "output_type": "stream",
     "text": [
      "oxazepam smiles: C1=CC=C(C=C1)C2=NC(C(=O)NC3=C2C=C(C=C3)Cl)O\n",
      "['oxazepam', 'C1=CC=C(C=C1)C2=NC(C(=O)NC3=C2C=C(C=C3)Cl)O', 3, 2, 286.718, 2.447900000000001, 78.16950000000003, 61.69, 1]\n"
     ]
    },
    {
     "name": "stderr",
     "output_type": "stream",
     "text": [
      " 89%|██████████████████████████████████████████████████████████████████        | 207/232 [04:21<00:29,  1.17s/it]"
     ]
    },
    {
     "name": "stdout",
     "output_type": "stream",
     "text": [
      "phenobarbital smiles: CCC1(C(=O)NC(=O)NC1=O)C2=CC=CC=C2\n",
      "['phenobarbital', 'CCC1(C(=O)NC(=O)NC1=O)C2=CC=CC=C2', 3, 2, 232.239, 0.7003999999999997, 60.09240000000002, 75.27000000000001, 2]\n"
     ]
    },
    {
     "name": "stderr",
     "output_type": "stream",
     "text": [
      " 90%|██████████████████████████████████████████████████████████████████▎       | 208/232 [04:22<00:28,  1.19s/it]"
     ]
    },
    {
     "name": "stdout",
     "output_type": "stream",
     "text": [
      "phenylbutazone smiles: CCCCC1C(=O)N(N(C1=O)C2=CC=CC=C2)C3=CC=CC=C3\n",
      "['phenylbutazone', 'CCCCC1C(=O)N(N(C1=O)C2=CC=CC=C2)C3=CC=CC=C3', 2, 0, 308.38100000000003, 3.7878000000000025, 90.87100000000004, 40.620000000000005, 5]\n"
     ]
    },
    {
     "name": "stderr",
     "output_type": "stream",
     "text": [
      " 90%|██████████████████████████████████████████████████████████████████▋       | 209/232 [04:24<00:27,  1.18s/it]"
     ]
    },
    {
     "name": "stdout",
     "output_type": "stream",
     "text": [
      "phenylethylmalonamide smiles: CCC(C1=CC=CC=C1)(C(=O)N)C(=O)N\n",
      "['phenylethylmalonamide', 'CCC(C1=CC=CC=C1)(C(=O)N)C(=O)N', 2, 2, 206.24499999999992, 0.30500000000000016, 56.79980000000002, 86.18, 4]\n"
     ]
    },
    {
     "name": "stderr",
     "output_type": "stream",
     "text": [
      " 91%|██████████████████████████████████████████████████████████████████▉       | 210/232 [04:25<00:25,  1.17s/it]"
     ]
    },
    {
     "name": "stdout",
     "output_type": "stream",
     "text": [
      "phenytoin smiles: C1=CC=C(C=C1)C2(C(=O)NC(=O)N2)C3=CC=CC=C3\n",
      "['phenytoin', 'C1=CC=C(C=C1)C2(C(=O)NC(=O)N2)C3=CC=CC=C3', 2, 2, 252.273, 1.7696, 70.33840000000004, 58.2, 2]\n"
     ]
    },
    {
     "name": "stderr",
     "output_type": "stream",
     "text": [
      " 91%|███████████████████████████████████████████████████████████████████▎      | 211/232 [04:26<00:24,  1.17s/it]"
     ]
    },
    {
     "name": "stdout",
     "output_type": "stream",
     "text": [
      "prednisolone smiles: CC12CC(C3C(C1CCC2(C(=O)CO)O)CCC4=CC(=O)C=CC34C)O\n",
      "['prednisolone', 'CC12CC(C3C(C1CCC2(C(=O)CO)O)CCC4=CC(=O)C=CC34C)O', 5, 3, 360.45000000000005, 1.5575999999999999, 95.04840000000003, 94.83, 2]\n"
     ]
    },
    {
     "name": "stderr",
     "output_type": "stream",
     "text": [
      " 91%|███████████████████████████████████████████████████████████████████▌      | 212/232 [04:27<00:24,  1.22s/it]"
     ]
    },
    {
     "name": "stdout",
     "output_type": "stream",
     "text": [
      "prednisone smiles: CC12CC(=O)C3C(C1CCC2(C(=O)CO)O)CCC4=CC(=O)C=CC34C\n",
      "['prednisone', 'CC12CC(=O)C3C(C1CCC2(C(=O)CO)O)CCC4=CC(=O)C=CC34C', 5, 2, 358.434, 1.7658, 94.04860000000002, 91.67000000000002, 2]\n"
     ]
    },
    {
     "name": "stderr",
     "output_type": "stream",
     "text": [
      " 92%|███████████████████████████████████████████████████████████████████▉      | 213/232 [04:28<00:23,  1.21s/it]"
     ]
    },
    {
     "name": "stdout",
     "output_type": "stream",
     "text": [
      "primidone smiles: CCC1(C(=O)NCNC1=O)C2=CC=CC=C2\n",
      "['primidone', 'CCC1(C(=O)NCNC1=O)C2=CC=CC=C2', 2, 2, 218.256, 0.5378999999999994, 59.56340000000003, 58.2, 2]\n"
     ]
    },
    {
     "name": "stderr",
     "output_type": "stream",
     "text": [
      " 92%|████████████████████████████████████████████████████████████████████▎     | 214/232 [04:30<00:21,  1.19s/it]"
     ]
    },
    {
     "name": "stdout",
     "output_type": "stream",
     "text": [
      "probenecid smiles: CCCN(CCC)S(=O)(=O)C1=CC=C(C=C1)C(=O)O\n",
      "['probenecid', 'CCCN(CCC)S(=O)(=O)C1=CC=C(C=C1)C(=O)O', 3, 1, 285.365, 2.1955, 72.74210000000005, 74.68, 7]\n"
     ]
    },
    {
     "name": "stderr",
     "output_type": "stream",
     "text": [
      " 93%|████████████████████████████████████████████████████████████████████▌     | 215/232 [04:31<00:20,  1.20s/it]"
     ]
    },
    {
     "name": "stdout",
     "output_type": "stream",
     "text": [
      "protriptyline smiles: CNCCCC1C2=CC=CC=C2C=CC3=CC=CC=C13\n",
      "['protriptyline', 'CNCCCC1C2=CC=CC=C2C=CC3=CC=CC=C13', 1, 1, 263.384, 4.301900000000003, 86.81570000000005, 12.03, 4]\n"
     ]
    },
    {
     "name": "stderr",
     "output_type": "stream",
     "text": [
      " 93%|████████████████████████████████████████████████████████████████████▉     | 216/232 [04:32<00:19,  1.22s/it]"
     ]
    },
    {
     "name": "stdout",
     "output_type": "stream",
     "text": [
      "quinine smiles: COC1=CC2=C(C=CN=C2C=C1)C(C3CC4CCN3CC4C=C)O\n",
      "['quinine', 'COC1=CC2=C(C=CN=C2C=C1)C(C3CC4CCN3CC4C=C)O', 4, 1, 324.4240000000001, 3.173200000000002, 95.02680000000007, 45.59, 4]\n"
     ]
    },
    {
     "name": "stderr",
     "output_type": "stream",
     "text": [
      " 94%|█████████████████████████████████████████████████████████████████████▏    | 217/232 [04:33<00:17,  1.20s/it]"
     ]
    },
    {
     "name": "stdout",
     "output_type": "stream",
     "text": [
      "salicylic smiles: C1=CC=C(C(=C1)C(=O)O)O.C1=CC=C(C(=C1)C(=O)O)O.[Mg+2]\n",
      "['salicylic', 'C1=CC=C(C(=C1)C(=O)O)O.C1=CC=C(C(=C1)C(=O)O)O.[Mg+2]', 4, 4, 300.549, 1.7999999999999994, 75.88620000000002, 115.06, 2]\n"
     ]
    },
    {
     "name": "stderr",
     "output_type": "stream",
     "text": [
      " 94%|█████████████████████████████████████████████████████████████████████▌    | 218/232 [04:34<00:16,  1.18s/it]"
     ]
    },
    {
     "name": "stdout",
     "output_type": "stream",
     "text": [
      "sulfadiazine smiles: C1=CN=C(N=C1)NS(=O)(=O)C2=CC=C(C=C2)N\n",
      "['sulfadiazine', 'C1=CN=C(N=C1)NS(=O)(=O)C2=CC=C(C=C2)N', 5, 2, 250.283, 0.8595999999999999, 63.69490000000002, 97.97, 3]\n"
     ]
    },
    {
     "name": "stderr",
     "output_type": "stream",
     "text": [
      " 94%|█████████████████████████████████████████████████████████████████████▊    | 219/232 [04:35<00:15,  1.17s/it]"
     ]
    },
    {
     "name": "stdout",
     "output_type": "stream",
     "text": [
      "sulfamethoxazole smiles: CC1=CC(=NO1)NS(=O)(=O)C2=CC=C(C=C2)N\n",
      "['sulfamethoxazole', 'CC1=CC(=NO1)NS(=O)(=O)C2=CC=C(C=C2)N', 5, 2, 253.28300000000002, 1.3660199999999998, 62.90290000000002, 98.22, 3]\n"
     ]
    },
    {
     "name": "stderr",
     "output_type": "stream",
     "text": [
      " 95%|██████████████████████████████████████████████████████████████████████▏   | 220/232 [04:37<00:13,  1.17s/it]"
     ]
    },
    {
     "name": "stdout",
     "output_type": "stream",
     "text": [
      "sulfinpyrazone smiles: C1=CC=C(C=C1)N2C(=O)C(C(=O)N2C3=CC=CC=C3)CCS(=O)C4=CC=CC=C4\n",
      "['sulfinpyrazone', 'C1=CC=C(C=C1)N2C(=O)C(C(=O)N2C3=CC=CC=C3)CCS(=O)C4=CC=CC=C4', 3, 0, 404.49100000000016, 3.7955000000000023, 113.68040000000002, 57.690000000000005, 6]\n"
     ]
    },
    {
     "name": "stderr",
     "output_type": "stream",
     "text": [
      " 95%|██████████████████████████████████████████████████████████████████████▍   | 221/232 [04:38<00:13,  1.19s/it]"
     ]
    },
    {
     "name": "stdout",
     "output_type": "stream",
     "text": [
      "sulfisoxazole smiles: CC1=C(ON=C1C)NS(=O)(=O)C2=CC=C(C=C2)N\n",
      "['sulfisoxazole', 'CC1=C(ON=C1C)NS(=O)(=O)C2=CC=C(C=C2)N', 5, 2, 267.31, 1.67444, 67.63990000000001, 98.22, 3]\n"
     ]
    },
    {
     "name": "stderr",
     "output_type": "stream",
     "text": [
      " 96%|██████████████████████████████████████████████████████████████████████▊   | 222/232 [04:39<00:11,  1.19s/it]"
     ]
    },
    {
     "name": "stdout",
     "output_type": "stream",
     "text": [
      "temazepam smiles: CN1C2=C(C=C(C=C2)Cl)C(=NC(C1=O)O)C3=CC=CC=C3\n",
      "['temazepam', 'CN1C2=C(C=C(C=C2)Cl)C(=NC(C1=O)O)C3=CC=CC=C3', 3, 1, 300.745, 2.472200000000001, 82.94980000000001, 52.900000000000006, 1]\n"
     ]
    },
    {
     "name": "stderr",
     "output_type": "stream",
     "text": [
      " 96%|███████████████████████████████████████████████████████████████████████▏  | 223/232 [04:40<00:10,  1.17s/it]"
     ]
    },
    {
     "name": "stdout",
     "output_type": "stream",
     "text": [
      "tenoxicam smiles: CN1C(=C(C2=C(S1(=O)=O)C=CS2)O)C(=O)NC3=CC=CC=N3\n",
      "['tenoxicam', 'CN1C(=C(C2=C(S1(=O)=O)C=CS2)O)C(=O)NC3=CC=CC=N3', 6, 2, 337.382, 1.6425, 81.68330000000003, 99.60000000000001, 2]\n"
     ]
    },
    {
     "name": "stderr",
     "output_type": "stream",
     "text": [
      " 97%|███████████████████████████████████████████████████████████████████████▍  | 224/232 [04:41<00:09,  1.18s/it]"
     ]
    },
    {
     "name": "stdout",
     "output_type": "stream",
     "text": [
      "theophylline smiles: CN1C2=C(C(=O)N(C1=O)C)NC=N2\n",
      "['theophylline', 'CN1C2=C(C(=O)N(C1=O)C)NC=N2', 5, 1, 180.167, -1.0397000000000005, 46.575700000000005, 72.68, 0]\n"
     ]
    },
    {
     "name": "stderr",
     "output_type": "stream",
     "text": [
      " 97%|███████████████████████████████████████████████████████████████████████▊  | 225/232 [04:43<00:08,  1.18s/it]"
     ]
    },
    {
     "name": "stdout",
     "output_type": "stream",
     "text": [
      "tocainide smiles: CC1=C(C(=CC=C1)C)NC(=O)C(C)N\n",
      "['tocainide', 'CC1=C(C(=CC=C1)C)NC(=O)C(C)N', 2, 2, 192.26199999999997, 1.5891399999999998, 58.195100000000025, 55.120000000000005, 2]\n"
     ]
    },
    {
     "name": "stderr",
     "output_type": "stream",
     "text": [
      " 97%|████████████████████████████████████████████████████████████████████████  | 226/232 [04:44<00:07,  1.21s/it]"
     ]
    },
    {
     "name": "stdout",
     "output_type": "stream",
     "text": [
      "tolbutamide smiles: CCCCNC(=O)NS(=O)(=O)C1=CC=C(C=C1)C\n",
      "['tolbutamide', 'CCCCNC(=O)NS(=O)(=O)C1=CC=C(C=C1)C', 3, 2, 270.354, 1.78302, 69.80720000000004, 75.27000000000001, 5]\n"
     ]
    },
    {
     "name": "stderr",
     "output_type": "stream",
     "text": [
      " 98%|████████████████████████████████████████████████████████████████████████▍ | 227/232 [04:45<00:05,  1.19s/it]"
     ]
    },
    {
     "name": "stdout",
     "output_type": "stream",
     "text": [
      "tolmetin smiles: CC1=CC=C(C=C1)C(=O)C2=CC=C(N2C)CC(=O)O\n",
      "['tolmetin', 'CC1=CC=C(C=C1)C(=O)C2=CC=C(N2C)CC(=O)O', 3, 1, 257.289, 2.19162, 71.36430000000003, 59.3, 4]\n"
     ]
    },
    {
     "name": "stderr",
     "output_type": "stream",
     "text": [
      " 98%|████████████████████████████████████████████████████████████████████████▋ | 228/232 [04:46<00:04,  1.18s/it]"
     ]
    },
    {
     "name": "stdout",
     "output_type": "stream",
     "text": [
      "trazodone smiles: C1CN(CCN1CCCN2C(=O)N3C=CC=CC3=N2)C4=CC(=CC=C4)Cl\n",
      "['trazodone', 'C1CN(CCN1CCCN2C(=O)N3C=CC=CC3=N2)C4=CC(=CC=C4)Cl', 6, 0, 371.87200000000007, 2.3617, 104.17400000000002, 45.78, 5]\n"
     ]
    },
    {
     "name": "stderr",
     "output_type": "stream",
     "text": [
      " 99%|█████████████████████████████████████████████████████████████████████████ | 229/232 [04:47<00:03,  1.17s/it]"
     ]
    },
    {
     "name": "stdout",
     "output_type": "stream",
     "text": [
      "trimethoprim smiles: COC1=CC(=CC(=C1OC)OC)CC2=CN=C(N=C2N)N\n",
      "['trimethoprim', 'COC1=CC(=CC(=C1OC)OC)CC2=CN=C(N=C2N)N', 7, 2, 290.32300000000004, 1.2575999999999996, 79.76080000000002, 105.50999999999999, 5]\n"
     ]
    },
    {
     "name": "stderr",
     "output_type": "stream",
     "text": [
      " 99%|█████████████████████████████████████████████████████████████████████████▎| 230/232 [04:48<00:02,  1.15s/it]"
     ]
    },
    {
     "name": "stdout",
     "output_type": "stream",
     "text": [
      "valproic smiles: CCCC(CCC)C(=O)O\n",
      "['valproic', 'CCCC(CCC)C(=O)O', 1, 1, 144.214, 2.2874, 40.9418, 37.3, 5]\n"
     ]
    },
    {
     "name": "stderr",
     "output_type": "stream",
     "text": [
      "100%|█████████████████████████████████████████████████████████████████████████▋| 231/232 [04:50<00:01,  1.17s/it]"
     ]
    },
    {
     "name": "stdout",
     "output_type": "stream",
     "text": [
      "warfarin smiles: CC(=O)CC(C1=CC=CC=C1)C2=C(C3=CC=CC=C3OC2=O)O\n",
      "['warfarin', 'CC(=O)CC(C1=CC=CC=C1)C2=C(C3=CC=CC=C3OC2=O)O', 4, 1, 308.333, 3.6096000000000035, 87.73180000000006, 67.51, 4]\n"
     ]
    },
    {
     "name": "stderr",
     "output_type": "stream",
     "text": [
      "100%|██████████████████████████████████████████████████████████████████████████| 232/232 [04:51<00:00,  1.26s/it]"
     ]
    },
    {
     "name": "stdout",
     "output_type": "stream",
     "text": [
      "zalcitabine smiles: C1CC(OC1CO)N2C=CC(=NC2=O)N\n",
      "['zalcitabine', 'C1CC(OC1CO)N2C=CC(=NC2=O)N', 6, 2, 211.22099999999998, -0.5046000000000004, 53.13920000000002, 90.36999999999999, 2]\n",
      "[['drug_name', 'smiles', 'hacc', 'hdon', 'mw', 'logp', 'mr', 'tpsa', 'nrot'], ['adrenaline', 'CNCC(C1=CC(=C(C=C1)O)O)O', 4, 4, 183.207, 0.35059999999999986, 48.65810000000003, 72.72, 3], ['alprenolol', 'CC(C)NCC(COC1=CC=CC=C1CC=C)O', 3, 2, 249.35399999999998, 2.1528000000000005, 74.98350000000003, 41.489999999999995, 8], ['clomethiazole', 'CC1=C(SC=N1)CCCl', 2, 0, 161.65699999999998, 2.2328200000000002, 41.27500000000002, 12.89, 2], ['coumarin', 'C1=CC=C2C(=C1)C=CC(=O)O2', 2, 0, 146.14499999999995, 1.7929999999999997, 42.484000000000016, 30.21, 0]]\n"
     ]
    },
    {
     "name": "stderr",
     "output_type": "stream",
     "text": [
      "\n"
     ]
    }
   ],
   "source": [
    "drugs_with_props = []\n",
    "c_not_found = []\n",
    "\n",
    "drugs_with_props.append([\"drug_name\", \"smiles\", \"hacc\", \"hdon\", \"mw\", \"logp\", \"mr\", \"tpsa\", \"nrot\"])\n",
    "\n",
    "for d in tqdm(drug_names):\n",
    "    c = pcp.get_compounds(d, \"name\")\n",
    "\n",
    "    if not c:\n",
    "        c_not_found.append(d)\n",
    "        print(f\"compound not found: {d}, skipping\")\n",
    "        continue\n",
    "    \n",
    "    c = c[0]\n",
    "    smiles = c.canonical_smiles\n",
    "    print(f\"{d} smiles: {smiles}\") \n",
    "    mol = Chem.MolFromSmiles(smiles) \n",
    "    hacc = Descriptors.NumHAcceptors(mol)\n",
    "    hdon = Descriptors.NumHDonors(mol)\n",
    "    mw = Descriptors.MolWt(mol)\n",
    "    logp = Descriptors.MolLogP(mol)\n",
    "    mr = Descriptors.MolMR(mol)\n",
    "    tpsa = Descriptors.TPSA(mol)\n",
    "    nrot = Descriptors.NumRotatableBonds(mol)\n",
    "\n",
    "    props_for_d = [d, smiles, hacc, hdon, mw, logp, mr, tpsa, nrot]\n",
    "    print(props_for_d)\n",
    "    drugs_with_props.append(props_for_d)\n",
    "\n",
    "print(drugs_with_props[0:5])"
   ]
  },
  {
   "cell_type": "code",
   "execution_count": 29,
   "id": "baa77b83-6401-4f92-9d47-0a0133a1d9c2",
   "metadata": {},
   "outputs": [
    {
     "data": {
      "text/plain": [
       "229"
      ]
     },
     "execution_count": 29,
     "metadata": {},
     "output_type": "execute_result"
    }
   ],
   "source": [
    "len(drugs_with_props)"
   ]
  },
  {
   "cell_type": "code",
   "execution_count": 30,
   "id": "601a33ea-567a-46db-8d15-bf571e9ec45f",
   "metadata": {},
   "outputs": [
    {
     "data": {
      "text/plain": [
       "[['drug_name', 'smiles', 'hacc', 'hdon', 'mw', 'logp', 'mr', 'tpsa', 'nrot'],\n",
       " ['adrenaline',\n",
       "  'CNCC(C1=CC(=C(C=C1)O)O)O',\n",
       "  4,\n",
       "  4,\n",
       "  183.207,\n",
       "  0.35059999999999986,\n",
       "  48.65810000000003,\n",
       "  72.72,\n",
       "  3],\n",
       " ['alprenolol',\n",
       "  'CC(C)NCC(COC1=CC=CC=C1CC=C)O',\n",
       "  3,\n",
       "  2,\n",
       "  249.35399999999998,\n",
       "  2.1528000000000005,\n",
       "  74.98350000000003,\n",
       "  41.489999999999995,\n",
       "  8]]"
      ]
     },
     "execution_count": 30,
     "metadata": {},
     "output_type": "execute_result"
    }
   ],
   "source": [
    "drugs_with_props[0:3]"
   ]
  },
  {
   "cell_type": "code",
   "execution_count": 34,
   "id": "c88bcc91-f884-44fd-8fd8-d3806980fd51",
   "metadata": {},
   "outputs": [
    {
     "data": {
      "text/plain": [
       "['ethinyl', 'acetylsalicylic', 'flecaninide', 'ketolorac']"
      ]
     },
     "execution_count": 34,
     "metadata": {},
     "output_type": "execute_result"
    }
   ],
   "source": [
    "c_not_found"
   ]
  },
  {
   "cell_type": "markdown",
   "id": "88caacaa-b837-4b70-ab37-2491d6f54171",
   "metadata": {},
   "source": [
    "## save drug properties"
   ]
  },
  {
   "cell_type": "code",
   "execution_count": null,
   "id": "18859514-b48e-46cd-ba02-2894098b45f7",
   "metadata": {},
   "outputs": [],
   "source": [
    "with open(\"/home/rizanb/Documents/hob_pred/data/interim/drug_props.csv\", \"w\", newline='') as f:\n",
    "    writer = csv.writer(f)\n",
    "    writer.writerows(drugs_with_props)"
   ]
  },
  {
   "cell_type": "code",
   "execution_count": 18,
   "id": "7d73a943-5920-48d7-8bd3-0f2af98a6005",
   "metadata": {
    "scrolled": true
   },
   "outputs": [
    {
     "data": {
      "text/html": [
       "<div>\n",
       "<style scoped>\n",
       "    .dataframe tbody tr th:only-of-type {\n",
       "        vertical-align: middle;\n",
       "    }\n",
       "\n",
       "    .dataframe tbody tr th {\n",
       "        vertical-align: top;\n",
       "    }\n",
       "\n",
       "    .dataframe thead th {\n",
       "        text-align: right;\n",
       "    }\n",
       "</style>\n",
       "<table border=\"1\" class=\"dataframe\">\n",
       "  <thead>\n",
       "    <tr style=\"text-align: right;\">\n",
       "      <th></th>\n",
       "      <th>drug_name</th>\n",
       "      <th>smiles</th>\n",
       "      <th>hacc</th>\n",
       "      <th>hdon</th>\n",
       "      <th>mw</th>\n",
       "      <th>logp</th>\n",
       "      <th>mr</th>\n",
       "      <th>tpsa</th>\n",
       "      <th>nrot</th>\n",
       "    </tr>\n",
       "  </thead>\n",
       "  <tbody>\n",
       "    <tr>\n",
       "      <th>0</th>\n",
       "      <td>adrenaline</td>\n",
       "      <td>CNCC(C1=CC(=C(C=C1)O)O)O</td>\n",
       "      <td>4</td>\n",
       "      <td>4</td>\n",
       "      <td>183.207</td>\n",
       "      <td>0.35060</td>\n",
       "      <td>48.6581</td>\n",
       "      <td>72.72</td>\n",
       "      <td>3</td>\n",
       "    </tr>\n",
       "    <tr>\n",
       "      <th>1</th>\n",
       "      <td>alprenolol</td>\n",
       "      <td>CC(C)NCC(COC1=CC=CC=C1CC=C)O</td>\n",
       "      <td>3</td>\n",
       "      <td>2</td>\n",
       "      <td>249.354</td>\n",
       "      <td>2.15280</td>\n",
       "      <td>74.9835</td>\n",
       "      <td>41.49</td>\n",
       "      <td>8</td>\n",
       "    </tr>\n",
       "    <tr>\n",
       "      <th>2</th>\n",
       "      <td>clomethiazole</td>\n",
       "      <td>CC1=C(SC=N1)CCCl</td>\n",
       "      <td>2</td>\n",
       "      <td>0</td>\n",
       "      <td>161.657</td>\n",
       "      <td>2.23282</td>\n",
       "      <td>41.2750</td>\n",
       "      <td>12.89</td>\n",
       "      <td>2</td>\n",
       "    </tr>\n",
       "    <tr>\n",
       "      <th>3</th>\n",
       "      <td>coumarin</td>\n",
       "      <td>C1=CC=C2C(=C1)C=CC(=O)O2</td>\n",
       "      <td>2</td>\n",
       "      <td>0</td>\n",
       "      <td>146.145</td>\n",
       "      <td>1.79300</td>\n",
       "      <td>42.4840</td>\n",
       "      <td>30.21</td>\n",
       "      <td>0</td>\n",
       "    </tr>\n",
       "    <tr>\n",
       "      <th>4</th>\n",
       "      <td>dobutamine</td>\n",
       "      <td>CC(CCC1=CC=C(C=C1)O)NCCC2=CC(=C(C=C2)O)O</td>\n",
       "      <td>4</td>\n",
       "      <td>4</td>\n",
       "      <td>301.386</td>\n",
       "      <td>2.95680</td>\n",
       "      <td>87.3681</td>\n",
       "      <td>72.72</td>\n",
       "      <td>7</td>\n",
       "    </tr>\n",
       "  </tbody>\n",
       "</table>\n",
       "</div>"
      ],
      "text/plain": [
       "       drug_name                                    smiles  hacc  hdon  \\\n",
       "0     adrenaline                  CNCC(C1=CC(=C(C=C1)O)O)O     4     4   \n",
       "1     alprenolol              CC(C)NCC(COC1=CC=CC=C1CC=C)O     3     2   \n",
       "2  clomethiazole                          CC1=C(SC=N1)CCCl     2     0   \n",
       "3       coumarin                  C1=CC=C2C(=C1)C=CC(=O)O2     2     0   \n",
       "4     dobutamine  CC(CCC1=CC=C(C=C1)O)NCCC2=CC(=C(C=C2)O)O     4     4   \n",
       "\n",
       "        mw     logp       mr   tpsa  nrot  \n",
       "0  183.207  0.35060  48.6581  72.72     3  \n",
       "1  249.354  2.15280  74.9835  41.49     8  \n",
       "2  161.657  2.23282  41.2750  12.89     2  \n",
       "3  146.145  1.79300  42.4840  30.21     0  \n",
       "4  301.386  2.95680  87.3681  72.72     7  "
      ]
     },
     "execution_count": 18,
     "metadata": {},
     "output_type": "execute_result"
    }
   ],
   "source": [
    "drug_properties_df = pd.read_csv(\"/home/rizanb/Documents/hob_pred/data/interim/drug_props.csv\")\n",
    "drug_properties_df.head()"
   ]
  },
  {
   "cell_type": "code",
   "execution_count": 19,
   "id": "6f4a0dc1-1368-4c1e-935f-17eaa1cf8f16",
   "metadata": {
    "scrolled": true
   },
   "outputs": [
    {
     "data": {
      "text/html": [
       "<div>\n",
       "<style scoped>\n",
       "    .dataframe tbody tr th:only-of-type {\n",
       "        vertical-align: middle;\n",
       "    }\n",
       "\n",
       "    .dataframe tbody tr th {\n",
       "        vertical-align: top;\n",
       "    }\n",
       "\n",
       "    .dataframe thead th {\n",
       "        text-align: right;\n",
       "    }\n",
       "</style>\n",
       "<table border=\"1\" class=\"dataframe\">\n",
       "  <thead>\n",
       "    <tr style=\"text-align: right;\">\n",
       "      <th></th>\n",
       "      <th>drug_name</th>\n",
       "      <th>type</th>\n",
       "      <th>hob_category</th>\n",
       "    </tr>\n",
       "  </thead>\n",
       "  <tbody>\n",
       "    <tr>\n",
       "      <th>0</th>\n",
       "      <td>adrenaline</td>\n",
       "      <td>B</td>\n",
       "      <td>1</td>\n",
       "    </tr>\n",
       "    <tr>\n",
       "      <th>1</th>\n",
       "      <td>alprenolol</td>\n",
       "      <td>B</td>\n",
       "      <td>1</td>\n",
       "    </tr>\n",
       "    <tr>\n",
       "      <th>2</th>\n",
       "      <td>clomethiazole</td>\n",
       "      <td>N</td>\n",
       "      <td>1</td>\n",
       "    </tr>\n",
       "    <tr>\n",
       "      <th>3</th>\n",
       "      <td>coumarin</td>\n",
       "      <td>N</td>\n",
       "      <td>1</td>\n",
       "    </tr>\n",
       "    <tr>\n",
       "      <th>4</th>\n",
       "      <td>dobutamine</td>\n",
       "      <td>B</td>\n",
       "      <td>1</td>\n",
       "    </tr>\n",
       "  </tbody>\n",
       "</table>\n",
       "</div>"
      ],
      "text/plain": [
       "       drug_name  type   hob_category\n",
       "0     adrenaline     B              1\n",
       "1     alprenolol     B              1\n",
       "2  clomethiazole     N              1\n",
       "3       coumarin     N              1\n",
       "4     dobutamine     B              1"
      ]
     },
     "execution_count": 19,
     "metadata": {},
     "output_type": "execute_result"
    }
   ],
   "source": [
    "drug_hob_df = pd.read_csv(\"/home/rizanb/Documents/hob_pred/data/interim/hob.csv\")\n",
    "drug_hob_df.head()"
   ]
  },
  {
   "cell_type": "markdown",
   "id": "5ff9d1a4-40eb-4634-a534-1f5c93a08aa9",
   "metadata": {},
   "source": [
    "## merge properties and hob datasets"
   ]
  },
  {
   "cell_type": "code",
   "execution_count": 20,
   "id": "086708b2-3ea2-4bfe-aa2f-8b60966a0691",
   "metadata": {},
   "outputs": [
    {
     "data": {
      "text/html": [
       "<div>\n",
       "<style scoped>\n",
       "    .dataframe tbody tr th:only-of-type {\n",
       "        vertical-align: middle;\n",
       "    }\n",
       "\n",
       "    .dataframe tbody tr th {\n",
       "        vertical-align: top;\n",
       "    }\n",
       "\n",
       "    .dataframe thead th {\n",
       "        text-align: right;\n",
       "    }\n",
       "</style>\n",
       "<table border=\"1\" class=\"dataframe\">\n",
       "  <thead>\n",
       "    <tr style=\"text-align: right;\">\n",
       "      <th></th>\n",
       "      <th>drug_name</th>\n",
       "      <th>smiles</th>\n",
       "      <th>hacc</th>\n",
       "      <th>hdon</th>\n",
       "      <th>mw</th>\n",
       "      <th>logp</th>\n",
       "      <th>mr</th>\n",
       "      <th>tpsa</th>\n",
       "      <th>nrot</th>\n",
       "      <th>type</th>\n",
       "      <th>hob_category</th>\n",
       "    </tr>\n",
       "  </thead>\n",
       "  <tbody>\n",
       "    <tr>\n",
       "      <th>0</th>\n",
       "      <td>adrenaline</td>\n",
       "      <td>CNCC(C1=CC(=C(C=C1)O)O)O</td>\n",
       "      <td>4</td>\n",
       "      <td>4</td>\n",
       "      <td>183.207</td>\n",
       "      <td>0.35060</td>\n",
       "      <td>48.6581</td>\n",
       "      <td>72.72</td>\n",
       "      <td>3</td>\n",
       "      <td>B</td>\n",
       "      <td>1</td>\n",
       "    </tr>\n",
       "    <tr>\n",
       "      <th>1</th>\n",
       "      <td>alprenolol</td>\n",
       "      <td>CC(C)NCC(COC1=CC=CC=C1CC=C)O</td>\n",
       "      <td>3</td>\n",
       "      <td>2</td>\n",
       "      <td>249.354</td>\n",
       "      <td>2.15280</td>\n",
       "      <td>74.9835</td>\n",
       "      <td>41.49</td>\n",
       "      <td>8</td>\n",
       "      <td>B</td>\n",
       "      <td>1</td>\n",
       "    </tr>\n",
       "    <tr>\n",
       "      <th>2</th>\n",
       "      <td>clomethiazole</td>\n",
       "      <td>CC1=C(SC=N1)CCCl</td>\n",
       "      <td>2</td>\n",
       "      <td>0</td>\n",
       "      <td>161.657</td>\n",
       "      <td>2.23282</td>\n",
       "      <td>41.2750</td>\n",
       "      <td>12.89</td>\n",
       "      <td>2</td>\n",
       "      <td>N</td>\n",
       "      <td>1</td>\n",
       "    </tr>\n",
       "    <tr>\n",
       "      <th>3</th>\n",
       "      <td>coumarin</td>\n",
       "      <td>C1=CC=C2C(=C1)C=CC(=O)O2</td>\n",
       "      <td>2</td>\n",
       "      <td>0</td>\n",
       "      <td>146.145</td>\n",
       "      <td>1.79300</td>\n",
       "      <td>42.4840</td>\n",
       "      <td>30.21</td>\n",
       "      <td>0</td>\n",
       "      <td>N</td>\n",
       "      <td>1</td>\n",
       "    </tr>\n",
       "    <tr>\n",
       "      <th>4</th>\n",
       "      <td>dobutamine</td>\n",
       "      <td>CC(CCC1=CC=C(C=C1)O)NCCC2=CC(=C(C=C2)O)O</td>\n",
       "      <td>4</td>\n",
       "      <td>4</td>\n",
       "      <td>301.386</td>\n",
       "      <td>2.95680</td>\n",
       "      <td>87.3681</td>\n",
       "      <td>72.72</td>\n",
       "      <td>7</td>\n",
       "      <td>B</td>\n",
       "      <td>1</td>\n",
       "    </tr>\n",
       "  </tbody>\n",
       "</table>\n",
       "</div>"
      ],
      "text/plain": [
       "       drug_name                                    smiles  hacc  hdon  \\\n",
       "0     adrenaline                  CNCC(C1=CC(=C(C=C1)O)O)O     4     4   \n",
       "1     alprenolol              CC(C)NCC(COC1=CC=CC=C1CC=C)O     3     2   \n",
       "2  clomethiazole                          CC1=C(SC=N1)CCCl     2     0   \n",
       "3       coumarin                  C1=CC=C2C(=C1)C=CC(=O)O2     2     0   \n",
       "4     dobutamine  CC(CCC1=CC=C(C=C1)O)NCCC2=CC(=C(C=C2)O)O     4     4   \n",
       "\n",
       "        mw     logp       mr   tpsa  nrot  type   hob_category  \n",
       "0  183.207  0.35060  48.6581  72.72     3     B              1  \n",
       "1  249.354  2.15280  74.9835  41.49     8     B              1  \n",
       "2  161.657  2.23282  41.2750  12.89     2     N              1  \n",
       "3  146.145  1.79300  42.4840  30.21     0     N              1  \n",
       "4  301.386  2.95680  87.3681  72.72     7     B              1  "
      ]
     },
     "execution_count": 20,
     "metadata": {},
     "output_type": "execute_result"
    }
   ],
   "source": [
    "merged = pd.merge(drug_properties_df, drug_hob_df, on=\"drug_name\")\n",
    "merged.head()"
   ]
  },
  {
   "cell_type": "code",
   "execution_count": 21,
   "id": "7b024683-d6d1-4f4e-8dc6-c60264dbccb7",
   "metadata": {},
   "outputs": [
    {
     "data": {
      "text/html": [
       "<div>\n",
       "<style scoped>\n",
       "    .dataframe tbody tr th:only-of-type {\n",
       "        vertical-align: middle;\n",
       "    }\n",
       "\n",
       "    .dataframe tbody tr th {\n",
       "        vertical-align: top;\n",
       "    }\n",
       "\n",
       "    .dataframe thead th {\n",
       "        text-align: right;\n",
       "    }\n",
       "</style>\n",
       "<table border=\"1\" class=\"dataframe\">\n",
       "  <thead>\n",
       "    <tr style=\"text-align: right;\">\n",
       "      <th></th>\n",
       "      <th>hacc</th>\n",
       "      <th>hdon</th>\n",
       "      <th>mw</th>\n",
       "      <th>logp</th>\n",
       "      <th>mr</th>\n",
       "      <th>tpsa</th>\n",
       "      <th>nrot</th>\n",
       "      <th>hob_category</th>\n",
       "    </tr>\n",
       "  </thead>\n",
       "  <tbody>\n",
       "    <tr>\n",
       "      <th>count</th>\n",
       "      <td>230.000000</td>\n",
       "      <td>230.000000</td>\n",
       "      <td>230.000000</td>\n",
       "      <td>230.000000</td>\n",
       "      <td>230.000000</td>\n",
       "      <td>230.000000</td>\n",
       "      <td>230.000000</td>\n",
       "      <td>230.000000</td>\n",
       "    </tr>\n",
       "    <tr>\n",
       "      <th>mean</th>\n",
       "      <td>3.773913</td>\n",
       "      <td>1.491304</td>\n",
       "      <td>295.845565</td>\n",
       "      <td>2.464500</td>\n",
       "      <td>81.385327</td>\n",
       "      <td>59.876130</td>\n",
       "      <td>4.095652</td>\n",
       "      <td>2.786957</td>\n",
       "    </tr>\n",
       "    <tr>\n",
       "      <th>std</th>\n",
       "      <td>1.695413</td>\n",
       "      <td>1.084795</td>\n",
       "      <td>83.482243</td>\n",
       "      <td>1.662684</td>\n",
       "      <td>23.024807</td>\n",
       "      <td>30.645149</td>\n",
       "      <td>2.829890</td>\n",
       "      <td>1.082938</td>\n",
       "    </tr>\n",
       "    <tr>\n",
       "      <th>min</th>\n",
       "      <td>1.000000</td>\n",
       "      <td>0.000000</td>\n",
       "      <td>46.069000</td>\n",
       "      <td>-1.494200</td>\n",
       "      <td>12.759800</td>\n",
       "      <td>3.240000</td>\n",
       "      <td>0.000000</td>\n",
       "      <td>1.000000</td>\n",
       "    </tr>\n",
       "    <tr>\n",
       "      <th>25%</th>\n",
       "      <td>2.000000</td>\n",
       "      <td>1.000000</td>\n",
       "      <td>249.565500</td>\n",
       "      <td>1.354455</td>\n",
       "      <td>67.826125</td>\n",
       "      <td>39.745000</td>\n",
       "      <td>2.000000</td>\n",
       "      <td>2.000000</td>\n",
       "    </tr>\n",
       "    <tr>\n",
       "      <th>50%</th>\n",
       "      <td>4.000000</td>\n",
       "      <td>1.000000</td>\n",
       "      <td>295.941000</td>\n",
       "      <td>2.396050</td>\n",
       "      <td>82.683500</td>\n",
       "      <td>58.560000</td>\n",
       "      <td>4.000000</td>\n",
       "      <td>3.000000</td>\n",
       "    </tr>\n",
       "    <tr>\n",
       "      <th>75%</th>\n",
       "      <td>5.000000</td>\n",
       "      <td>2.000000</td>\n",
       "      <td>342.775500</td>\n",
       "      <td>3.598630</td>\n",
       "      <td>95.210700</td>\n",
       "      <td>75.675000</td>\n",
       "      <td>6.000000</td>\n",
       "      <td>4.000000</td>\n",
       "    </tr>\n",
       "    <tr>\n",
       "      <th>max</th>\n",
       "      <td>9.000000</td>\n",
       "      <td>4.000000</td>\n",
       "      <td>645.319000</td>\n",
       "      <td>9.908300</td>\n",
       "      <td>156.806600</td>\n",
       "      <td>175.830000</td>\n",
       "      <td>13.000000</td>\n",
       "      <td>4.000000</td>\n",
       "    </tr>\n",
       "  </tbody>\n",
       "</table>\n",
       "</div>"
      ],
      "text/plain": [
       "             hacc        hdon          mw        logp          mr        tpsa  \\\n",
       "count  230.000000  230.000000  230.000000  230.000000  230.000000  230.000000   \n",
       "mean     3.773913    1.491304  295.845565    2.464500   81.385327   59.876130   \n",
       "std      1.695413    1.084795   83.482243    1.662684   23.024807   30.645149   \n",
       "min      1.000000    0.000000   46.069000   -1.494200   12.759800    3.240000   \n",
       "25%      2.000000    1.000000  249.565500    1.354455   67.826125   39.745000   \n",
       "50%      4.000000    1.000000  295.941000    2.396050   82.683500   58.560000   \n",
       "75%      5.000000    2.000000  342.775500    3.598630   95.210700   75.675000   \n",
       "max      9.000000    4.000000  645.319000    9.908300  156.806600  175.830000   \n",
       "\n",
       "             nrot   hob_category  \n",
       "count  230.000000     230.000000  \n",
       "mean     4.095652       2.786957  \n",
       "std      2.829890       1.082938  \n",
       "min      0.000000       1.000000  \n",
       "25%      2.000000       2.000000  \n",
       "50%      4.000000       3.000000  \n",
       "75%      6.000000       4.000000  \n",
       "max     13.000000       4.000000  "
      ]
     },
     "execution_count": 21,
     "metadata": {},
     "output_type": "execute_result"
    }
   ],
   "source": [
    "merged.describe()"
   ]
  },
  {
   "cell_type": "code",
   "execution_count": 15,
   "id": "afc5e804-d53d-4268-b234-f06c467c1332",
   "metadata": {},
   "outputs": [
    {
     "data": {
      "text/plain": [
       "drug_name        0\n",
       "smiles           0\n",
       "hacc             0\n",
       "hdon             0\n",
       "mw               0\n",
       "logp             0\n",
       "mr               0\n",
       "tpsa             0\n",
       "nrot             0\n",
       " type            0\n",
       " hob_category    0\n",
       "dtype: int64"
      ]
     },
     "execution_count": 15,
     "metadata": {},
     "output_type": "execute_result"
    }
   ],
   "source": [
    "merged.isna().sum()"
   ]
  },
  {
   "cell_type": "code",
   "execution_count": 22,
   "id": "75b0ac10-6981-4123-96b9-efc77c42e7c3",
   "metadata": {},
   "outputs": [
    {
     "data": {
      "text/plain": [
       "drug_name        0\n",
       "smiles           0\n",
       "hacc             0\n",
       "hdon             0\n",
       "mw               0\n",
       "logp             0\n",
       "mr               0\n",
       "tpsa             0\n",
       "nrot             0\n",
       " type            0\n",
       " hob_category    0\n",
       "dtype: int64"
      ]
     },
     "execution_count": 22,
     "metadata": {},
     "output_type": "execute_result"
    }
   ],
   "source": [
    "merged.isnull().sum()"
   ]
  },
  {
   "cell_type": "code",
   "execution_count": 23,
   "id": "253c90bb-c9c0-417c-be1e-fec9b44c269a",
   "metadata": {},
   "outputs": [],
   "source": [
    "merged.to_csv(\"/home/rizanb/Documents/hob_pred/data/interim/drug_properties_hob.csv\", index=None)"
   ]
  },
  {
   "cell_type": "code",
   "execution_count": 24,
   "id": "2d395ba3-71d0-4648-a9a7-f1d4c6250cc5",
   "metadata": {
    "scrolled": true
   },
   "outputs": [
    {
     "data": {
      "text/html": [
       "<div>\n",
       "<style scoped>\n",
       "    .dataframe tbody tr th:only-of-type {\n",
       "        vertical-align: middle;\n",
       "    }\n",
       "\n",
       "    .dataframe tbody tr th {\n",
       "        vertical-align: top;\n",
       "    }\n",
       "\n",
       "    .dataframe thead th {\n",
       "        text-align: right;\n",
       "    }\n",
       "</style>\n",
       "<table border=\"1\" class=\"dataframe\">\n",
       "  <thead>\n",
       "    <tr style=\"text-align: right;\">\n",
       "      <th></th>\n",
       "      <th>drug_name</th>\n",
       "      <th>smiles</th>\n",
       "      <th>hacc</th>\n",
       "      <th>hdon</th>\n",
       "      <th>mw</th>\n",
       "      <th>logp</th>\n",
       "      <th>mr</th>\n",
       "      <th>tpsa</th>\n",
       "      <th>nrot</th>\n",
       "      <th>type</th>\n",
       "      <th>hob_category</th>\n",
       "    </tr>\n",
       "  </thead>\n",
       "  <tbody>\n",
       "    <tr>\n",
       "      <th>0</th>\n",
       "      <td>adrenaline</td>\n",
       "      <td>CNCC(C1=CC(=C(C=C1)O)O)O</td>\n",
       "      <td>4</td>\n",
       "      <td>4</td>\n",
       "      <td>183.207</td>\n",
       "      <td>0.35060</td>\n",
       "      <td>48.6581</td>\n",
       "      <td>72.72</td>\n",
       "      <td>3</td>\n",
       "      <td>B</td>\n",
       "      <td>1</td>\n",
       "    </tr>\n",
       "    <tr>\n",
       "      <th>1</th>\n",
       "      <td>alprenolol</td>\n",
       "      <td>CC(C)NCC(COC1=CC=CC=C1CC=C)O</td>\n",
       "      <td>3</td>\n",
       "      <td>2</td>\n",
       "      <td>249.354</td>\n",
       "      <td>2.15280</td>\n",
       "      <td>74.9835</td>\n",
       "      <td>41.49</td>\n",
       "      <td>8</td>\n",
       "      <td>B</td>\n",
       "      <td>1</td>\n",
       "    </tr>\n",
       "    <tr>\n",
       "      <th>2</th>\n",
       "      <td>clomethiazole</td>\n",
       "      <td>CC1=C(SC=N1)CCCl</td>\n",
       "      <td>2</td>\n",
       "      <td>0</td>\n",
       "      <td>161.657</td>\n",
       "      <td>2.23282</td>\n",
       "      <td>41.2750</td>\n",
       "      <td>12.89</td>\n",
       "      <td>2</td>\n",
       "      <td>N</td>\n",
       "      <td>1</td>\n",
       "    </tr>\n",
       "    <tr>\n",
       "      <th>3</th>\n",
       "      <td>coumarin</td>\n",
       "      <td>C1=CC=C2C(=C1)C=CC(=O)O2</td>\n",
       "      <td>2</td>\n",
       "      <td>0</td>\n",
       "      <td>146.145</td>\n",
       "      <td>1.79300</td>\n",
       "      <td>42.4840</td>\n",
       "      <td>30.21</td>\n",
       "      <td>0</td>\n",
       "      <td>N</td>\n",
       "      <td>1</td>\n",
       "    </tr>\n",
       "    <tr>\n",
       "      <th>4</th>\n",
       "      <td>dobutamine</td>\n",
       "      <td>CC(CCC1=CC=C(C=C1)O)NCCC2=CC(=C(C=C2)O)O</td>\n",
       "      <td>4</td>\n",
       "      <td>4</td>\n",
       "      <td>301.386</td>\n",
       "      <td>2.95680</td>\n",
       "      <td>87.3681</td>\n",
       "      <td>72.72</td>\n",
       "      <td>7</td>\n",
       "      <td>B</td>\n",
       "      <td>1</td>\n",
       "    </tr>\n",
       "  </tbody>\n",
       "</table>\n",
       "</div>"
      ],
      "text/plain": [
       "       drug_name                                    smiles  hacc  hdon  \\\n",
       "0     adrenaline                  CNCC(C1=CC(=C(C=C1)O)O)O     4     4   \n",
       "1     alprenolol              CC(C)NCC(COC1=CC=CC=C1CC=C)O     3     2   \n",
       "2  clomethiazole                          CC1=C(SC=N1)CCCl     2     0   \n",
       "3       coumarin                  C1=CC=C2C(=C1)C=CC(=O)O2     2     0   \n",
       "4     dobutamine  CC(CCC1=CC=C(C=C1)O)NCCC2=CC(=C(C=C2)O)O     4     4   \n",
       "\n",
       "        mw     logp       mr   tpsa  nrot  type   hob_category  \n",
       "0  183.207  0.35060  48.6581  72.72     3     B              1  \n",
       "1  249.354  2.15280  74.9835  41.49     8     B              1  \n",
       "2  161.657  2.23282  41.2750  12.89     2     N              1  \n",
       "3  146.145  1.79300  42.4840  30.21     0     N              1  \n",
       "4  301.386  2.95680  87.3681  72.72     7     B              1  "
      ]
     },
     "execution_count": 24,
     "metadata": {},
     "output_type": "execute_result"
    }
   ],
   "source": [
    "merged.head()"
   ]
  }
 ],
 "metadata": {
  "kernelspec": {
   "display_name": "Python 3 (ipykernel)",
   "language": "python",
   "name": "python3"
  },
  "language_info": {
   "codemirror_mode": {
    "name": "ipython",
    "version": 3
   },
   "file_extension": ".py",
   "mimetype": "text/x-python",
   "name": "python",
   "nbconvert_exporter": "python",
   "pygments_lexer": "ipython3",
   "version": "3.12.3"
  }
 },
 "nbformat": 4,
 "nbformat_minor": 5
}
