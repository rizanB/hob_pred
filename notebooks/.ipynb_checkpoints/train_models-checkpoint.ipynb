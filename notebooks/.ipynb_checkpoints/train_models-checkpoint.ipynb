{
 "cells": [
  {
   "cell_type": "code",
   "execution_count": 9,
   "id": "07092330-29a1-44f1-8aee-017f0d54bb9a",
   "metadata": {},
   "outputs": [
    {
     "name": "stdout",
     "output_type": "stream",
     "text": [
      "Requirement already satisfied: xgboost in /home/rizanb/Documents/hob_pred/env/lib/python3.12/site-packages (3.0.1)\n",
      "Requirement already satisfied: numpy in /home/rizanb/Documents/hob_pred/env/lib/python3.12/site-packages (from xgboost) (2.2.5)\n",
      "Requirement already satisfied: nvidia-nccl-cu12 in /home/rizanb/Documents/hob_pred/env/lib/python3.12/site-packages (from xgboost) (2.26.5)\n",
      "Requirement already satisfied: scipy in /home/rizanb/Documents/hob_pred/env/lib/python3.12/site-packages (from xgboost) (1.15.3)\n",
      "Note: you may need to restart the kernel to use updated packages.\n"
     ]
    }
   ],
   "source": [
    "import numpy as np\n",
    "import matplotlib.pyplot as plt\n",
    "import pandas as pd\n",
    "from sklearn.preprocessing import StandardScaler\n",
    "from sklearn.linear_model import LogisticRegression\n",
    "from sklearn.ensemble import RandomForestClassifier, StackingClassifier\n",
    "from sklearn.svm import SVC\n",
    "from sklearn.neighbors import KNeighborsClassifier\n",
    "from sklearn.ensemble import GradientBoostingClassifier\n",
    "%pip install xgboost\n",
    "from xgboost import XGBClassifier\n",
    "from sklearn.metrics import accuracy_score, classification_report\n",
    "import joblib"
   ]
  },
  {
   "cell_type": "code",
   "execution_count": 2,
   "id": "f5e25253-2943-40e7-a0d8-d229f403be68",
   "metadata": {},
   "outputs": [
    {
     "name": "stdout",
     "output_type": "stream",
     "text": [
      "X_train_scaled shape: (181, 10)\n",
      "X_test_scaled shape: (46, 10)\n",
      "y_train shape: (181,)\n",
      "y_test shape: (46,)\n"
     ]
    }
   ],
   "source": [
    "processed_data_dir = '/home/rizanb/Documents/hob_pred/data/processed/'\n",
    "\n",
    "X_train_scaled = joblib.load(f\"{processed_data_dir}X_train_scaled.joblib\")\n",
    "X_test_scaled = joblib.load(f\"{processed_data_dir}X_test_scaled.joblib\")\n",
    "y_train = joblib.load(f\"{processed_data_dir}y_train.joblib\")\n",
    "y_test = joblib.load(f\"{processed_data_dir}y_test.joblib\")\n",
    "\n",
    "print(f\"X_train_scaled shape: {X_train_scaled.shape}\")\n",
    "print(f\"X_test_scaled shape: {X_test_scaled.shape}\")\n",
    "print(f\"y_train shape: {y_train.shape}\")\n",
    "print(f\"y_test shape: {y_test.shape}\")"
   ]
  },
  {
   "cell_type": "markdown",
   "id": "7ae2426f-5952-49aa-93aa-7171a8207a7f",
   "metadata": {},
   "source": [
    "## train classical models: logr rf svc knn gb xgb"
   ]
  },
  {
   "cell_type": "code",
   "execution_count": 3,
   "id": "9b40027c-78f4-4db3-a684-035071902e3e",
   "metadata": {},
   "outputs": [
    {
     "name": "stdout",
     "output_type": "stream",
     "text": [
      "accuracy of logr: 0.522\n",
      "accuracy of rf: 0.609\n",
      "accuracy of svc: 0.543\n",
      "accuracy of knn: 0.587\n",
      "accuracy of gb: 0.522\n",
      "accuracy of xgb: 0.543\n"
     ]
    }
   ],
   "source": [
    "models_path = \"/home/rizanb/Documents/hob_pred/models/\"\n",
    "reports_path = \"/home/rizanb/Documents/hob_pred/reports/\"\n",
    "\n",
    "accuracy_report = \"\"\n",
    "\n",
    "models = [\n",
    "    ('logr', LogisticRegression()),\n",
    "    ('rf', RandomForestClassifier()),\n",
    "    ('svc', SVC()),\n",
    "    ('knn', KNeighborsClassifier()),\n",
    "    ('gb', GradientBoostingClassifier()),\n",
    "    ('xgb', XGBClassifier(eval_metric=\"mlogloss\", enable_categorical=True))\n",
    "]\n",
    "\n",
    "for name, model in models:\n",
    "    if name == \"xgb\":\n",
    "        model.fit(X_train_scaled, y_train - 1)\n",
    "        accuracy = model.score(X_test_scaled, y_test - 1) \n",
    "        print(f\"accuracy of {name}: {accuracy:.3f}\")\n",
    "        \n",
    "        # with open(\"/home/rizanb/Documents/hob_pred/reports/accuracy_report.txt\", \"a\") as f:\n",
    "            # f.write(f\"{name}: {accuracy:.3f} \\n\")\n",
    "        \n",
    "        # joblib.dump(name, f\"{models_path}{name}_{accuracy:.3f}.pkl\")\n",
    "        break\n",
    "    model.fit(X_train_scaled, y_train)\n",
    "    accuracy = model.score(X_test_scaled, y_test)\n",
    "    print(f\"accuracy of {name}: {accuracy:.3f}\")\n",
    "\n",
    "    # with open(\"/home/rizanb/Documents/hob_pred/reports/accuracy_report.txt\", \"a\") as f:\n",
    "            # f.write(f\"{name}: {accuracy:.3f} \\n\")\n",
    "        \n",
    "    # joblib.dump(name, f\"{models_path}{name}_{accuracy:.3f}.pkl\")\n"
   ]
  },
  {
   "cell_type": "markdown",
   "id": "4ee644c0-92fd-4d98-8da2-c16356e62a5f",
   "metadata": {},
   "source": [
    "## voting ensemble models: hard and soft voting with knn, svc and xgb"
   ]
  },
  {
   "cell_type": "code",
   "execution_count": 4,
   "id": "52078678-6dfc-402d-b894-fe2a146959c1",
   "metadata": {},
   "outputs": [],
   "source": [
    "from sklearn.ensemble import VotingClassifier"
   ]
  },
  {
   "cell_type": "code",
   "execution_count": 22,
   "id": "81b68b85-f7a3-4b18-8fef-0dc727a9f00a",
   "metadata": {},
   "outputs": [
    {
     "name": "stdout",
     "output_type": "stream",
     "text": [
      "Voting Classifier (Hard) Accuracy: 0.565\n",
      "Voting Classifier (Soft) Accuracy: 0.587\n"
     ]
    }
   ],
   "source": [
    "models_dir = \"/home/rizanb/Documents/hob_pred/models/\"\n",
    "\n",
    "est = [('knn', KNeighborsClassifier()), ('svc', SVC(probability=True)), ('gb', GradientBoostingClassifier())]\n",
    "\n",
    "voting_hard = VotingClassifier(\n",
    "    estimators = est,\n",
    "    voting='hard'\n",
    ")\n",
    "\n",
    "voting_soft = VotingClassifier(\n",
    "    estimators = est,\n",
    "    voting = 'soft'\n",
    ")\n",
    "\n",
    "voting_hard.fit(X_train_scaled, y_train)\n",
    "voting_hard_acc = voting_hard.score(X_test_scaled, y_test)\n",
    "print(f\"Voting Classifier (Hard) Accuracy: {voting_hard_acc:.3f}\")\n",
    "# joblib.dump(voting_hard, f\"{models_dir}voting_hard_{voting_hard_acc:.3f}.joblib\")\n",
    "\n",
    "voting_soft.fit(X_train_scaled, y_train)\n",
    "voting_soft_acc = voting_soft.score(X_test_scaled, y_test)\n",
    "print(f\"Voting Classifier (Soft) Accuracy: {voting_soft_acc:.3f}\")\n",
    "# joblib.dump(voting_soft, f\"{models_dir}voting_soft_{voting_soft_acc:.3f}.joblib\")"
   ]
  },
  {
   "cell_type": "markdown",
   "id": "d4030675-3f3f-4d93-80b3-b746264ec255",
   "metadata": {},
   "source": [
    "## knn as meta learner"
   ]
  },
  {
   "cell_type": "code",
   "execution_count": 16,
   "id": "948508f3-9fd1-47bc-be26-a7c2f8938cdb",
   "metadata": {},
   "outputs": [
    {
     "name": "stdout",
     "output_type": "stream",
     "text": [
      "stacking classifier with knn meta learner acc: 0.413\n"
     ]
    },
    {
     "data": {
      "text/plain": [
       "['/home/rizanb/Documents/hob_pred/models/stacking_knn_0.413.joblib']"
      ]
     },
     "execution_count": 16,
     "metadata": {},
     "output_type": "execute_result"
    }
   ],
   "source": [
    "base_estimators = [\n",
    "    ('logr', LogisticRegression()),\n",
    "    ('rf', RandomForestClassifier()),\n",
    "    ('svc', SVC()),\n",
    "    ('gb', GradientBoostingClassifier())\n",
    "]\n",
    "\n",
    "stacking_knn = StackingClassifier(\n",
    "    estimators=base_estimators,\n",
    "    final_estimator=KNeighborsClassifier(),\n",
    "    cv=5\n",
    ")\n",
    "\n",
    "stacking_knn.fit(X_train_scaled, y_train)\n",
    "stacking_knn_acc = stacking_knn.score(X_test_scaled, y_test)\n",
    "print(f\"stacking classifier with knn meta learner acc: {stacking_knn_acc:.3f}\")\n",
    "joblib.dump(stacking_knn, f\"{models_dir}stacking_knn_{stacking_knn_acc:.3f}.joblib\")"
   ]
  },
  {
   "cell_type": "markdown",
   "id": "4131c82b-7f3b-44fa-aeab-622cd6c4c117",
   "metadata": {},
   "source": [
    "## weighted voting with accuracies as weights"
   ]
  },
  {
   "cell_type": "code",
   "execution_count": 25,
   "id": "60758d3a-fbf9-4e9b-a6ce-4370641c53d0",
   "metadata": {},
   "outputs": [],
   "source": [
    "individual_accuracies = {\n",
    "    'knn': 0.587,\n",
    "    'svc': 0.543,\n",
    "    'gb': 0.500,\n",
    "    }"
   ]
  },
  {
   "cell_type": "code",
   "execution_count": 29,
   "id": "1c91b7a0-9929-47b1-9bcf-db87ac1d7bc5",
   "metadata": {},
   "outputs": [
    {
     "data": {
      "text/plain": [
       "[0.587, 0.543, 0.5]"
      ]
     },
     "execution_count": 29,
     "metadata": {},
     "output_type": "execute_result"
    }
   ],
   "source": [
    "weights = [individual_accuracies['knn'], individual_accuracies['svc'],  \n",
    "           individual_accuracies['gb']]\n",
    "weights"
   ]
  },
  {
   "cell_type": "code",
   "execution_count": 30,
   "id": "0e495690-ff87-4036-9425-ee120310f4a7",
   "metadata": {},
   "outputs": [
    {
     "name": "stdout",
     "output_type": "stream",
     "text": [
      "normalized w: [0.3601227  0.33312883 0.30674847]\n"
     ]
    }
   ],
   "source": [
    "nw = np.array(weights) / np.sum(weights)\n",
    "print(f\"normalized w: {nw}\")"
   ]
  },
  {
   "cell_type": "code",
   "execution_count": 31,
   "id": "b5cd6634-7cd1-4508-9367-87ea71cce0e0",
   "metadata": {},
   "outputs": [],
   "source": [
    "weighted_voting = VotingClassifier(\n",
    "    estimators=est,\n",
    "    voting='soft',\n",
    "    weights=nw\n",
    ")"
   ]
  },
  {
   "cell_type": "code",
   "execution_count": 37,
   "id": "ac00451a-0a27-4574-82bb-cde37bb9acf8",
   "metadata": {},
   "outputs": [
    {
     "name": "stdout",
     "output_type": "stream",
     "text": [
      "weighted voting acc: 0.565\n"
     ]
    },
    {
     "data": {
      "text/plain": [
       "['/home/rizanb/Documents/hob_pred/models/weighted_voting_0.5652173913043478.joblib']"
      ]
     },
     "execution_count": 37,
     "metadata": {},
     "output_type": "execute_result"
    }
   ],
   "source": [
    "weighted_voting.fit(X_train_scaled, y_train)\n",
    "a = weighted_voting.score(X_test_scaled, y_test)\n",
    "print(f\"weighted voting acc: {a:.3f}\")\n",
    "joblib.dump(weighted_voting, f\"{models_dir}weighted_voting_{a}.joblib\")"
   ]
  },
  {
   "cell_type": "code",
   "execution_count": null,
   "id": "4b11e9b0-03a0-4e4e-ab75-defc7e159090",
   "metadata": {},
   "outputs": [],
   "source": []
  }
 ],
 "metadata": {
  "kernelspec": {
   "display_name": "Python 3 (ipykernel)",
   "language": "python",
   "name": "python3"
  },
  "language_info": {
   "codemirror_mode": {
    "name": "ipython",
    "version": 3
   },
   "file_extension": ".py",
   "mimetype": "text/x-python",
   "name": "python",
   "nbconvert_exporter": "python",
   "pygments_lexer": "ipython3",
   "version": "3.12.3"
  }
 },
 "nbformat": 4,
 "nbformat_minor": 5
}
